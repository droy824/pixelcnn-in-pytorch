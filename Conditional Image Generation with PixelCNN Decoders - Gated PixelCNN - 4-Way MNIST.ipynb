{
  "cells": [
    {
      "cell_type": "code",
      "execution_count": 1,
      "metadata": {
        "id": "CjF39bqH57d3"
      },
      "outputs": [
        {
          "name": "stderr",
          "output_type": "stream",
          "text": [
            "/home/stuti/.local/lib/python3.10/site-packages/tqdm/auto.py:21: TqdmWarning: IProgress not found. Please update jupyter and ipywidgets. See https://ipywidgets.readthedocs.io/en/stable/user_install.html\n",
            "  from .autonotebook import tqdm as notebook_tqdm\n"
          ]
        }
      ],
      "source": [
        "# @title Importing dependencies\n",
        "import numpy\n",
        "import torch\n",
        "import torch.nn as nn\n",
        "import torchvision\n",
        "import torch.nn.functional as F\n",
        "import matplotlib.pyplot as plt\n",
        "from tqdm import tqdm\n",
        "import numpy as np\n",
        "from transformers import get_cosine_schedule_with_warmup"
      ]
    },
    {
      "cell_type": "code",
      "execution_count": 2,
      "metadata": {
        "colab": {
          "base_uri": "https://localhost:8080/"
        },
        "id": "21tTnI_i6S8G",
        "outputId": "1718afa9-f9eb-4053-9300-dd178c8b9a17"
      },
      "outputs": [],
      "source": [
        "# @title Downloading MNIST dataset\n",
        "mnist_train = torchvision.datasets.MNIST('/home/stuti/fods/files/', train=True, download=True,\n",
        "                            transform=torchvision.transforms.Compose([\n",
        "                                torchvision.transforms.ToTensor()\n",
        "                            ]))\n",
        "mnist_test = torchvision.datasets.MNIST('/home/stuti/fods/files/', train=False, download=True,\n",
        "                            transform=torchvision.transforms.Compose([\n",
        "                                torchvision.transforms.ToTensor()\n",
        "                            ]))"
      ]
    },
    {
      "cell_type": "code",
      "execution_count": null,
      "metadata": {
        "id": "t-2i6D2a6USt"
      },
      "outputs": [],
      "source": [
        "# # @title Binarise MNIST data\n",
        "# def binarise_mnist(mnist):\n",
        "#     mnist_bin = []\n",
        "#     for img, label in mnist:\n",
        "#         mnist_bin.append((torch.where(img < 0.5, 0.0, 1.0), label))\n",
        "#     return mnist_bin"
      ]
    },
    {
      "cell_type": "code",
      "execution_count": null,
      "metadata": {
        "id": "cg7743Fe6WML"
      },
      "outputs": [],
      "source": [
        "# X_train = binarise_mnist(mnist_train)\n",
        "# X_test = binarise_mnist(mnist_test)"
      ]
    },
    {
      "cell_type": "code",
      "execution_count": null,
      "metadata": {
        "colab": {
          "base_uri": "https://localhost:8080/",
          "height": 308
        },
        "collapsed": true,
        "id": "ZlALGMjk6XgD",
        "outputId": "92c232bf-2a1a-45bd-cc1f-4d3179cc1dc4"
      },
      "outputs": [],
      "source": [
        "# # @title Visualise MNIST and binarised MNIST\n",
        "# import matplotlib.pyplot as plt\n",
        "\n",
        "# # Get an example image and label from mnist_train\n",
        "# img, label = mnist_train[0]\n",
        "\n",
        "# # Get the corresponding binarised image and label from X_train\n",
        "# binarised_img, binarised_label = X_train[0]\n",
        "\n",
        "# # Create a figure with two subplots\n",
        "# fig, axes = plt.subplots(1, 2)\n",
        "\n",
        "# # Plot the regular MNIST image on the first subplot\n",
        "# axes[0].imshow(img.squeeze(), cmap='gray')\n",
        "# axes[0].set_title('Regular MNIST')\n",
        "\n",
        "# # Plot the binarised MNIST image on the second subplot\n",
        "# axes[1].imshow(binarised_img.squeeze(), cmap='gray')\n",
        "# axes[1].set_title('Binarised MNIST')\n",
        "\n",
        "# # Show the plot\n",
        "# plt.show()"
      ]
    },
    {
      "cell_type": "code",
      "execution_count": 3,
      "metadata": {
        "id": "poSL5dVu__-e"
      },
      "outputs": [],
      "source": [
        "class CroppedConvolution2D(nn.Module):\n",
        "    def __init__(self, in_channels: int, out_channels: int, kernel_size: tuple, padding: tuple):\n",
        "        super(CroppedConvolution2D, self).__init__()\n",
        "        self.in_channels = in_channels\n",
        "        self.out_channels = out_channels\n",
        "        self.kernel_height, self.kernel_width = kernel_size\n",
        "        self.padding = padding\n",
        "        self.conv = nn.Conv2d(self.in_channels, self.out_channels, kernel_size, padding=self.padding)\n",
        "\n",
        "    def forward(self, X):\n",
        "        X = self.conv(X)\n",
        "        out = X[:, :, 1:-self.kernel_height, :]\n",
        "        up_shifted_out = X[:, :, :-self.kernel_height-1, :]\n",
        "        return out, up_shifted_out"
      ]
    },
    {
      "cell_type": "code",
      "execution_count": 4,
      "metadata": {
        "id": "Bnt5y27U6Z8R"
      },
      "outputs": [],
      "source": [
        "class MaskedConvolution2D(nn.Module):\n",
        "    def __init__(self, in_channels: int, out_channels: int, kernel_size: tuple, padding: tuple, mask_type: str):\n",
        "        super(MaskedConvolution2D, self).__init__()\n",
        "        self.in_channels = in_channels\n",
        "        self.out_channels = out_channels\n",
        "        self.kernel_height, self.kernel_width = kernel_size\n",
        "        self.padding = padding\n",
        "        self.mask_type = mask_type\n",
        "        self.conv = nn.Conv2d(self.in_channels, self.out_channels, kernel_size, padding=self.padding)\n",
        "        self.create_mask()\n",
        "\n",
        "    def create_mask(self):\n",
        "        mask = torch.ones(self.kernel_height, self.kernel_width)\n",
        "        mask[self.kernel_height // 2, self.kernel_width // 2:] = 0\n",
        "        mask[self.kernel_height // 2 + 1:, :] = 0\n",
        "        if self.mask_type == 'B':\n",
        "            mask[self.kernel_height // 2, self.kernel_width // 2] = 1\n",
        "        self.register_buffer('mask', mask)\n",
        "\n",
        "    def forward(self, X):\n",
        "        self.conv.weight.data = self.conv.weight.data * self.mask\n",
        "        return self.conv(X)"
      ]
    },
    {
      "cell_type": "code",
      "execution_count": 5,
      "metadata": {
        "id": "7YQo0AfN6buz"
      },
      "outputs": [],
      "source": [
        "class CausalBlock(nn.Module):\n",
        "    def __init__(self, in_channels: int, out_channels: int, kernel_size: int):\n",
        "        super(CausalBlock, self).__init__()\n",
        "        self.in_channels = in_channels\n",
        "        self.out_channels = out_channels\n",
        "        self.kernel_size = kernel_size\n",
        "\n",
        "        self.vertical_fc = nn.Conv2d(in_channels=in_channels,\n",
        "                                     out_channels=2*out_channels,\n",
        "                                     kernel_size=(1, 1))\n",
        "\n",
        "        self.vertical_conv = CroppedConvolution2D(in_channels=in_channels,\n",
        "                                                  out_channels=2*out_channels,\n",
        "                                                  kernel_size=(kernel_size // 2 + 1, kernel_size),\n",
        "                                                  padding=(kernel_size // 2 + 1, kernel_size // 2))\n",
        "\n",
        "        self.vertical_to_horizontal = nn.Conv2d(in_channels=2*out_channels,\n",
        "                                                out_channels=2*out_channels,\n",
        "                                                kernel_size=(1, 1))\n",
        "\n",
        "        self.horizontal_conv = MaskedConvolution2D(in_channels=in_channels,\n",
        "                                                   out_channels=2*out_channels,\n",
        "                                                   kernel_size=(1, kernel_size),\n",
        "                                                   padding=(0, kernel_size // 2),\n",
        "                                                   mask_type='A')\n",
        "\n",
        "        self.horizontal_fc = MaskedConvolution2D(in_channels=out_channels,\n",
        "                                                 out_channels=out_channels,\n",
        "                                                 kernel_size=(1, 1),\n",
        "                                                 padding=(0, 0),\n",
        "                                                 mask_type='A')\n",
        "\n",
        "    def forward(self, X):\n",
        "        out_vertical_fc = self.vertical_fc(X)\n",
        "        out_vertical_conv, up_shifted_out_vertical_conv = self.vertical_conv(X)\n",
        "        out_vertical_to_horizontal = self.vertical_to_horizontal(up_shifted_out_vertical_conv)\n",
        "        out_vertical = out_vertical_fc + out_vertical_conv\n",
        "        out_vertical_tanh, out_vertical_sigmoid = torch.split(out_vertical, self.out_channels, dim=1)\n",
        "        out_vertical = torch.tanh(out_vertical_tanh) * torch.sigmoid(out_vertical_sigmoid)\n",
        "\n",
        "        out_horizontal_conv = self.horizontal_conv(X)\n",
        "        out_horizontal = out_horizontal_conv + out_vertical_to_horizontal\n",
        "        out_horizontal_tanh, out_horizontal_sigmoid = torch.split(out_horizontal, self.out_channels, dim=1)\n",
        "        out_horizontal = torch.tanh(out_horizontal_tanh) * torch.sigmoid(out_horizontal_sigmoid)\n",
        "        out_horizontal = self.horizontal_fc(out_horizontal)\n",
        "\n",
        "        return out_vertical, out_horizontal"
      ]
    },
    {
      "cell_type": "code",
      "execution_count": 6,
      "metadata": {
        "id": "u1TwTgw76dWV"
      },
      "outputs": [],
      "source": [
        "class GatedBlock(nn.Module):\n",
        "    def __init__(self, in_channels: int, out_channels: int, kernel_size: int):\n",
        "        super(GatedBlock, self).__init__()\n",
        "        self.in_channels = in_channels\n",
        "        self.out_channels = out_channels\n",
        "        self.kernel_size = kernel_size\n",
        "\n",
        "        self.vertical_fc = nn.Conv2d(in_channels=in_channels,\n",
        "                                     out_channels=2*out_channels,\n",
        "                                     kernel_size=(1, 1))\n",
        "\n",
        "        self.vertical_to_horizontal = MaskedConvolution2D(in_channels=2*out_channels,\n",
        "                                                          out_channels=2*out_channels,\n",
        "                                                          kernel_size=(1, 1),\n",
        "                                                          padding=(0, 0),\n",
        "                                                          mask_type='B')\n",
        "\n",
        "        self.vertical_conv = CroppedConvolution2D(in_channels=in_channels,\n",
        "                                                  out_channels=2*out_channels,\n",
        "                                                  kernel_size=(kernel_size // 2 + 1, kernel_size),\n",
        "                                                  padding=(kernel_size // 2 + 1, kernel_size // 2))\n",
        "\n",
        "        self.horizontal_conv = MaskedConvolution2D(in_channels=in_channels,\n",
        "                                                   out_channels=2*out_channels,\n",
        "                                                   kernel_size=(1, kernel_size),\n",
        "                                                   padding=(0, kernel_size // 2),\n",
        "                                                   mask_type='B')\n",
        "\n",
        "        self.horizontal_fc = MaskedConvolution2D(in_channels=out_channels,\n",
        "                                                 out_channels=out_channels,\n",
        "                                                 kernel_size=(1, 1),\n",
        "                                                 padding=(0, 0),\n",
        "                                                 mask_type='B')\n",
        "\n",
        "        self.horizontal_skip = MaskedConvolution2D(in_channels=out_channels,\n",
        "                                                 out_channels=out_channels,\n",
        "                                                 kernel_size=(1, 1),\n",
        "                                                 padding=(0, 0),\n",
        "                                                 mask_type='B')\n",
        "\n",
        "        self.label_embedding = nn.Embedding(10, 2*out_channels) # 10 embeddings for 10 MNIST classes\n",
        "\n",
        "    def forward(self, X):\n",
        "        in_vertical, in_horizontal, label, skip = X['in_vertical'], X['in_horizontal'], X['label'], X['skip']\n",
        "        label_embedding = self.label_embedding(label).unsqueeze(2).unsqueeze(3)\n",
        "\n",
        "        out_vertical_fc = self.vertical_fc(in_vertical)\n",
        "        out_vertical_conv, up_shifted_out_vertical_conv = self.vertical_conv(in_vertical)\n",
        "        out_vertical_to_horizontal = self.vertical_to_horizontal(up_shifted_out_vertical_conv)\n",
        "        out_vertical = out_vertical_fc + out_vertical_conv + label_embedding\n",
        "        out_vertical_tanh, out_vertical_sigmoid = torch.split(out_vertical, self.out_channels, dim=1)\n",
        "        out_vertical = torch.tanh(out_vertical_tanh) * torch.sigmoid(out_vertical_sigmoid)\n",
        "        out_vertical += in_vertical\n",
        "\n",
        "        out_horizontal_conv = self.horizontal_conv(in_horizontal)\n",
        "        out_horizontal = out_horizontal_conv + out_vertical_to_horizontal + label_embedding\n",
        "        out_horizontal_tanh, out_horizontal_sigmoid = torch.split(out_horizontal, self.out_channels, dim=1)\n",
        "        out_horizontal = torch.tanh(out_horizontal_tanh) * torch.sigmoid(out_horizontal_sigmoid)\n",
        "        skip += self.horizontal_skip(out_horizontal)\n",
        "        out_horizontal = self.horizontal_fc(out_horizontal)\n",
        "        out_horizontal += in_horizontal\n",
        "\n",
        "        return {'in_vertical': out_vertical,\n",
        "                'in_horizontal': out_horizontal,\n",
        "                'label': label,\n",
        "                'skip': skip}"
      ]
    },
    {
      "cell_type": "code",
      "execution_count": 7,
      "metadata": {
        "id": "H8uhTbrbJNKS"
      },
      "outputs": [],
      "source": [
        "class GatedPixelCNN(nn.Module):\n",
        "    def __init__(self, in_channels: int, kernel_size: int, hidden_layers: int, hidden_channels: int, out_hidden_channels: int):\n",
        "        super(GatedPixelCNN, self).__init__()\n",
        "        self.in_channels = in_channels\n",
        "        self.kernel_size = kernel_size\n",
        "        self.hidden_layers = hidden_layers\n",
        "        self.hidden_channels = hidden_channels\n",
        "        self.out_hidden_channels = out_hidden_channels\n",
        "\n",
        "        self.causal_block = CausalBlock(in_channels=in_channels,\n",
        "                                        out_channels=hidden_channels,\n",
        "                                        kernel_size=kernel_size)\n",
        "\n",
        "        self.gated_blocks = nn.Sequential(\n",
        "            *[GatedBlock(in_channels=hidden_channels,\n",
        "                         out_channels=hidden_channels,\n",
        "                         kernel_size=kernel_size) for _ in range(self.hidden_layers)]\n",
        "        )\n",
        "\n",
        "        self.label_embedding = nn.Embedding(10, hidden_channels)\n",
        "\n",
        "        self.hidden_conv = MaskedConvolution2D(in_channels=hidden_channels,\n",
        "                                               out_channels=out_hidden_channels,\n",
        "                                               kernel_size=(1, 1),\n",
        "                                               padding=(0, 0),\n",
        "                                               mask_type='B')\n",
        "\n",
        "        self.out_conv = MaskedConvolution2D(in_channels=out_hidden_channels,\n",
        "                                               out_channels=4*in_channels,    # Output should be an image of same channels as input\n",
        "                                               kernel_size=(1, 1),\n",
        "                                               padding=(0, 0),\n",
        "                                               mask_type='B')\n",
        "\n",
        "    def forward(self, X, label):\n",
        "        out_vertical, out_horizontal = self.causal_block(X)\n",
        "\n",
        "        out = self.gated_blocks({'in_vertical': out_vertical,\n",
        "                                          'in_horizontal': out_horizontal,\n",
        "                                          'label': label,\n",
        "                                          'skip': X.new_zeros(X.size()[0], self.hidden_channels, X.size()[2], X.size()[3])})['skip']\n",
        "\n",
        "        label_embedding = self.label_embedding(label).unsqueeze(2).unsqueeze(3)\n",
        "\n",
        "        out += label_embedding\n",
        "        out = F.relu(out)\n",
        "        out = self.hidden_conv(out)\n",
        "        out = F.relu(out)\n",
        "        out = self.out_conv(out)\n",
        "        return out\n",
        "\n",
        "    def sample(self, image_shape=(1, 28, 28), num_samples=10, labels=None, device=\"cpu\"):\n",
        "        self.eval()\n",
        "\n",
        "        samples = torch.zeros((num_samples, *image_shape), device=device)  # Start with blank images\n",
        "        if labels is None:\n",
        "            labels = torch.randint(high=10, size=(num_samples,)).to(device)\n",
        "        else:\n",
        "            labels = (labels * torch.ones(num_samples)).to(device).long()\n",
        "\n",
        "        with torch.inference_mode():  # No need to compute gradients\n",
        "            for i in range(image_shape[1]):  # Iterate over height (rows)\n",
        "                for j in range(image_shape[2]):  # Iterate over width (columns)\n",
        "                    # Get model prediction for the current (incomplete) image\n",
        "                    out = self.forward(samples, labels)  # Forward pass through PixelCNN\n",
        "                    probs = torch.softmax(out[:, :, i, j], dim=1)  # Get probability for current pixel\n",
        "\n",
        "                    # Sample value based on predicted probability\n",
        "                    sampled_pixel = torch.multinomial(probs, 1).squeeze(1)  # 1 with prob=probs, else 0\n",
        "\n",
        "                    # Assign the sampled value to the image\n",
        "                    samples[:, 0, i, j] = sampled_pixel\n",
        "\n",
        "        return samples.cpu()"
      ]
    },
    {
      "cell_type": "code",
      "execution_count": 8,
      "metadata": {
        "colab": {
          "base_uri": "https://localhost:8080/"
        },
        "id": "54z51W7KN-6d",
        "outputId": "0f86f976-117a-4741-9cb6-4c1f10d08e9a"
      },
      "outputs": [
        {
          "data": {
            "text/plain": [
              "device(type='cuda')"
            ]
          },
          "execution_count": 8,
          "metadata": {},
          "output_type": "execute_result"
        }
      ],
      "source": [
        "device = torch.device(\"cuda\" if torch.cuda.is_available() else \"cpu\")\n",
        "device"
      ]
    },
    {
      "cell_type": "code",
      "execution_count": 11,
      "metadata": {
        "colab": {
          "base_uri": "https://localhost:8080/"
        },
        "id": "k4_J185aU-Tx",
        "outputId": "4be9b4a0-7d8f-4bfb-c935-3c8fcbffac8b"
      },
      "outputs": [
        {
          "data": {
            "text/plain": [
              "(torch.Size([1, 1, 28, 28]),\n",
              " torch.Size([1, 4, 28, 28]),\n",
              " torch.Size([1, 1, 28, 28]))"
            ]
          },
          "execution_count": 11,
          "metadata": {},
          "output_type": "execute_result"
        }
      ],
      "source": [
        "torch.manual_seed(42)\n",
        "model = GatedPixelCNN(in_channels=1,\n",
        "                      kernel_size=7,\n",
        "                      hidden_layers=5,\n",
        "                      hidden_channels=16,\n",
        "                      out_hidden_channels=16)\n",
        "model.to(device)\n",
        "img, label = mnist_train[0]\n",
        "img = img.unsqueeze(0).to(device)\n",
        "label = torch.tensor(label).unsqueeze(0).to(device)\n",
        "out = model(img, label)\n",
        "sample = model.sample((1, 28, 28), 1, 7, device=device)\n",
        "img.shape, out.shape, sample.shape"
      ]
    },
    {
      "cell_type": "code",
      "execution_count": 12,
      "metadata": {
        "colab": {
          "base_uri": "https://localhost:8080/",
          "height": 430
        },
        "id": "VS2lem2HLmNT",
        "outputId": "5db7d114-ec24-4bdb-b0ab-f1235b96076a"
      },
      "outputs": [
        {
          "data": {
            "image/png": "[encoded data removed]",
            "text/plain": [
              "<Figure size 640x480 with 1 Axes>"
            ]
          },
          "metadata": {},
          "output_type": "display_data"
        }
      ],
      "source": [
        "plt.imshow(sample.squeeze().detach().numpy(), cmap='gray')\n",
        "plt.show()"
      ]
    },
    {
      "cell_type": "markdown",
      "metadata": {
        "id": "Dz6OYHCWL4IX"
      },
      "source": [
        "## Training"
      ]
    },
    {
      "cell_type": "code",
      "execution_count": 9,
      "metadata": {
        "colab": {
          "base_uri": "https://localhost:8080/"
        },
        "id": "8FGxthRFLtJQ",
        "outputId": "6c8318f4-7922-4535-b763-237178043631"
      },
      "outputs": [
        {
          "data": {
            "text/plain": [
              "device(type='cuda')"
            ]
          },
          "execution_count": 9,
          "metadata": {},
          "output_type": "execute_result"
        }
      ],
      "source": [
        "device = torch.device(\"cuda\" if torch.cuda.is_available() else \"cpu\")\n",
        "device"
      ]
    },
    {
      "cell_type": "code",
      "execution_count": 10,
      "metadata": {
        "id": "iZMaBY2NLzMx"
      },
      "outputs": [],
      "source": [
        "# @title Creating DataLoader for MNIST\n",
        "from torch.utils.data import DataLoader\n",
        "\n",
        "train_loader = DataLoader(mnist_train, batch_size=32, shuffle=True)\n",
        "test_loader = DataLoader(mnist_test, batch_size=32, shuffle=False)"
      ]
    },
    {
      "cell_type": "code",
      "execution_count": 11,
      "metadata": {
        "colab": {
          "base_uri": "https://localhost:8080/"
        },
        "id": "wWWHIeSeL0tm",
        "outputId": "b913e874-a93a-4482-e5ce-8cdc003a43aa"
      },
      "outputs": [
        {
          "name": "stderr",
          "output_type": "stream",
          "text": [
            "100%|██████████| 1875/1875 [01:58<00:00, 15.86it/s]\n"
          ]
        },
        {
          "name": "stdout",
          "output_type": "stream",
          "text": [
            "\n",
            "Epoch: 1, Loss: 0.2243805679321289\n"
          ]
        },
        {
          "name": "stderr",
          "output_type": "stream",
          "text": [
            "100%|██████████| 1875/1875 [01:58<00:00, 15.77it/s]\n"
          ]
        },
        {
          "name": "stdout",
          "output_type": "stream",
          "text": [
            "\n",
            "Epoch: 2, Loss: 0.1747960030714671\n"
          ]
        },
        {
          "name": "stderr",
          "output_type": "stream",
          "text": [
            "100%|██████████| 1875/1875 [01:59<00:00, 15.74it/s]\n"
          ]
        },
        {
          "name": "stdout",
          "output_type": "stream",
          "text": [
            "\n",
            "Epoch: 3, Loss: 0.16854645427862802\n"
          ]
        },
        {
          "name": "stderr",
          "output_type": "stream",
          "text": [
            "100%|██████████| 1875/1875 [01:59<00:00, 15.74it/s]\n"
          ]
        },
        {
          "name": "stdout",
          "output_type": "stream",
          "text": [
            "\n",
            "Epoch: 4, Loss: 0.16548290011882782\n"
          ]
        },
        {
          "name": "stderr",
          "output_type": "stream",
          "text": [
            "100%|██████████| 1875/1875 [01:58<00:00, 15.76it/s]\n"
          ]
        },
        {
          "name": "stdout",
          "output_type": "stream",
          "text": [
            "\n",
            "Epoch: 5, Loss: 0.1633965699593226\n"
          ]
        },
        {
          "name": "stderr",
          "output_type": "stream",
          "text": [
            "100%|██████████| 1875/1875 [01:58<00:00, 15.76it/s]\n"
          ]
        },
        {
          "name": "stdout",
          "output_type": "stream",
          "text": [
            "\n",
            "Epoch: 6, Loss: 0.16183790742556253\n"
          ]
        },
        {
          "name": "stderr",
          "output_type": "stream",
          "text": [
            "100%|██████████| 1875/1875 [01:58<00:00, 15.77it/s]\n"
          ]
        },
        {
          "name": "stdout",
          "output_type": "stream",
          "text": [
            "\n",
            "Epoch: 7, Loss: 0.16058711105187734\n"
          ]
        },
        {
          "name": "stderr",
          "output_type": "stream",
          "text": [
            "100%|██████████| 1875/1875 [01:58<00:00, 15.76it/s]\n"
          ]
        },
        {
          "name": "stdout",
          "output_type": "stream",
          "text": [
            "\n",
            "Epoch: 8, Loss: 0.15946533603668214\n"
          ]
        },
        {
          "name": "stderr",
          "output_type": "stream",
          "text": [
            "100%|██████████| 1875/1875 [01:56<00:00, 16.06it/s]\n"
          ]
        },
        {
          "name": "stdout",
          "output_type": "stream",
          "text": [
            "\n",
            "Epoch: 9, Loss: 0.15855247679551443\n"
          ]
        },
        {
          "name": "stderr",
          "output_type": "stream",
          "text": [
            "100%|██████████| 1875/1875 [01:56<00:00, 16.03it/s]\n"
          ]
        },
        {
          "name": "stdout",
          "output_type": "stream",
          "text": [
            "\n",
            "Epoch: 10, Loss: 0.15773443055947622\n"
          ]
        },
        {
          "name": "stderr",
          "output_type": "stream",
          "text": [
            "100%|██████████| 1875/1875 [01:58<00:00, 15.77it/s]\n"
          ]
        },
        {
          "name": "stdout",
          "output_type": "stream",
          "text": [
            "\n",
            "Epoch: 11, Loss: 0.15687523896694183\n"
          ]
        },
        {
          "name": "stderr",
          "output_type": "stream",
          "text": [
            "100%|██████████| 1875/1875 [01:58<00:00, 15.87it/s]\n"
          ]
        },
        {
          "name": "stdout",
          "output_type": "stream",
          "text": [
            "\n",
            "Epoch: 12, Loss: 0.15610713794231415\n"
          ]
        },
        {
          "name": "stderr",
          "output_type": "stream",
          "text": [
            "100%|██████████| 1875/1875 [01:57<00:00, 15.90it/s]\n"
          ]
        },
        {
          "name": "stdout",
          "output_type": "stream",
          "text": [
            "\n",
            "Epoch: 13, Loss: 0.1553661284685135\n"
          ]
        },
        {
          "name": "stderr",
          "output_type": "stream",
          "text": [
            "100%|██████████| 1875/1875 [01:58<00:00, 15.82it/s]\n"
          ]
        },
        {
          "name": "stdout",
          "output_type": "stream",
          "text": [
            "\n",
            "Epoch: 14, Loss: 0.15463594948450723\n"
          ]
        },
        {
          "name": "stderr",
          "output_type": "stream",
          "text": [
            "100%|██████████| 1875/1875 [01:58<00:00, 15.79it/s]\n"
          ]
        },
        {
          "name": "stdout",
          "output_type": "stream",
          "text": [
            "\n",
            "Epoch: 15, Loss: 0.15380683432420095\n"
          ]
        },
        {
          "name": "stderr",
          "output_type": "stream",
          "text": [
            "100%|██████████| 1875/1875 [01:59<00:00, 15.74it/s]\n"
          ]
        },
        {
          "name": "stdout",
          "output_type": "stream",
          "text": [
            "\n",
            "Epoch: 16, Loss: 0.15310099597771962\n"
          ]
        },
        {
          "name": "stderr",
          "output_type": "stream",
          "text": [
            "100%|██████████| 1875/1875 [01:59<00:00, 15.66it/s]\n"
          ]
        },
        {
          "name": "stdout",
          "output_type": "stream",
          "text": [
            "\n",
            "Epoch: 17, Loss: 0.1523134396870931\n"
          ]
        },
        {
          "name": "stderr",
          "output_type": "stream",
          "text": [
            "100%|██████████| 1875/1875 [01:59<00:00, 15.76it/s]\n"
          ]
        },
        {
          "name": "stdout",
          "output_type": "stream",
          "text": [
            "\n",
            "Epoch: 18, Loss: 0.151452046195666\n"
          ]
        },
        {
          "name": "stderr",
          "output_type": "stream",
          "text": [
            "100%|██████████| 1875/1875 [01:58<00:00, 15.80it/s]\n"
          ]
        },
        {
          "name": "stdout",
          "output_type": "stream",
          "text": [
            "\n",
            "Epoch: 19, Loss: 0.15067074333826702\n"
          ]
        },
        {
          "name": "stderr",
          "output_type": "stream",
          "text": [
            "100%|██████████| 1875/1875 [01:57<00:00, 15.98it/s]"
          ]
        },
        {
          "name": "stdout",
          "output_type": "stream",
          "text": [
            "\n",
            "Epoch: 20, Loss: 0.14975139920314154\n"
          ]
        },
        {
          "name": "stderr",
          "output_type": "stream",
          "text": [
            "\n"
          ]
        }
      ],
      "source": [
        "# @title Training loop\n",
        "torch.manual_seed(42)\n",
        "epochs = 20\n",
        "\n",
        "model = GatedPixelCNN(in_channels=1,\n",
        "                      kernel_size=7,\n",
        "                      hidden_layers=10,\n",
        "                      hidden_channels=80,\n",
        "                      out_hidden_channels=16)\n",
        "criterion = nn.CrossEntropyLoss()\n",
        "optimiser = torch.optim.Adam(model.parameters(), lr=1e-3)\n",
        "# scheduler = torch.optim.lr_scheduler.StepLR(optimiser, step_size=10, gamma=0.5)\n",
        "scheduler = torch.optim.lr_scheduler.OneCycleLR(\n",
        "    optimiser, max_lr=1e-3, total_steps=epochs*len(train_loader),\n",
        "    pct_start=0.1, anneal_strategy='cos', div_factor=10)\n",
        "# scheduler = get_cosine_schedule_with_warmup(\n",
        "#     optimiser,\n",
        "#     num_warmup_steps=5 * len(train_loader),       # 5 epochs warmup\n",
        "#     num_training_steps=epochs * len(train_loader))\n",
        "\n",
        "model.to(device)\n",
        "model.train()\n",
        "for epoch in range(epochs):\n",
        "    loss = 0\n",
        "    for img, labels in tqdm(train_loader):\n",
        "        img = img.to(device)\n",
        "        labels = labels.to(device)\n",
        "        pixel_targets = torch.clamp((img * 4).long(), max=3)\n",
        "\n",
        "        optimiser.zero_grad()\n",
        "        y = model(pixel_targets.float(), labels)\n",
        "        batch_loss = criterion(y, pixel_targets.squeeze(1))\n",
        "        loss += batch_loss.item()\n",
        "        batch_loss.backward()\n",
        "        torch.nn.utils.clip_grad_norm_(model.parameters(), max_norm=1.0)\n",
        "        optimiser.step()\n",
        "    scheduler.step()\n",
        "    print(f\"\\nEpoch: {epoch+1}, Loss: {loss / len(train_loader)}\")"
      ]
    },
    {
      "cell_type": "code",
      "execution_count": 12,
      "metadata": {
        "id": "jKqgscAfMsvd"
      },
      "outputs": [],
      "source": [
        "# Save the model's state dictionary\n",
        "torch.save(model.state_dict(), 'conditional_4_way_pixelcnn_model_epochs_20.pth')\n",
        "\n",
        "torch.save(optimiser.state_dict(), 'conditional_4_way_pixelcnn_optimiser_epochs_20.pth')"
      ]
    },
    {
      "cell_type": "code",
      "execution_count": 11,
      "metadata": {
        "colab": {
          "base_uri": "https://localhost:8080/"
        },
        "collapsed": true,
        "id": "B3vN-jJyrmkb",
        "outputId": "4d075ac7-f065-47b2-e198-9f47f28aa3f6"
      },
      "outputs": [
        {
          "data": {
            "text/plain": [
              "GatedPixelCNN(\n",
              "  (causal_block): CausalBlock(\n",
              "    (vertical_fc): Conv2d(1, 160, kernel_size=(1, 1), stride=(1, 1))\n",
              "    (vertical_conv): CroppedConvolution2D(\n",
              "      (conv): Conv2d(1, 160, kernel_size=(4, 7), stride=(1, 1), padding=(4, 3))\n",
              "    )\n",
              "    (vertical_to_horizontal): Conv2d(160, 160, kernel_size=(1, 1), stride=(1, 1))\n",
              "    (horizontal_conv): MaskedConvolution2D(\n",
              "      (conv): Conv2d(1, 160, kernel_size=(1, 7), stride=(1, 1), padding=(0, 3))\n",
              "    )\n",
              "    (horizontal_fc): MaskedConvolution2D(\n",
              "      (conv): Conv2d(80, 80, kernel_size=(1, 1), stride=(1, 1))\n",
              "    )\n",
              "  )\n",
              "  (gated_blocks): Sequential(\n",
              "    (0): GatedBlock(\n",
              "      (vertical_fc): Conv2d(80, 160, kernel_size=(1, 1), stride=(1, 1))\n",
              "      (vertical_to_horizontal): MaskedConvolution2D(\n",
              "        (conv): Conv2d(160, 160, kernel_size=(1, 1), stride=(1, 1))\n",
              "      )\n",
              "      (vertical_conv): CroppedConvolution2D(\n",
              "        (conv): Conv2d(80, 160, kernel_size=(4, 7), stride=(1, 1), padding=(4, 3))\n",
              "      )\n",
              "      (horizontal_conv): MaskedConvolution2D(\n",
              "        (conv): Conv2d(80, 160, kernel_size=(1, 7), stride=(1, 1), padding=(0, 3))\n",
              "      )\n",
              "      (horizontal_fc): MaskedConvolution2D(\n",
              "        (conv): Conv2d(80, 80, kernel_size=(1, 1), stride=(1, 1))\n",
              "      )\n",
              "      (horizontal_skip): MaskedConvolution2D(\n",
              "        (conv): Conv2d(80, 80, kernel_size=(1, 1), stride=(1, 1))\n",
              "      )\n",
              "      (label_embedding): Embedding(10, 160)\n",
              "    )\n",
              "    (1): GatedBlock(\n",
              "      (vertical_fc): Conv2d(80, 160, kernel_size=(1, 1), stride=(1, 1))\n",
              "      (vertical_to_horizontal): MaskedConvolution2D(\n",
              "        (conv): Conv2d(160, 160, kernel_size=(1, 1), stride=(1, 1))\n",
              "      )\n",
              "      (vertical_conv): CroppedConvolution2D(\n",
              "        (conv): Conv2d(80, 160, kernel_size=(4, 7), stride=(1, 1), padding=(4, 3))\n",
              "      )\n",
              "      (horizontal_conv): MaskedConvolution2D(\n",
              "        (conv): Conv2d(80, 160, kernel_size=(1, 7), stride=(1, 1), padding=(0, 3))\n",
              "      )\n",
              "      (horizontal_fc): MaskedConvolution2D(\n",
              "        (conv): Conv2d(80, 80, kernel_size=(1, 1), stride=(1, 1))\n",
              "      )\n",
              "      (horizontal_skip): MaskedConvolution2D(\n",
              "        (conv): Conv2d(80, 80, kernel_size=(1, 1), stride=(1, 1))\n",
              "      )\n",
              "      (label_embedding): Embedding(10, 160)\n",
              "    )\n",
              "    (2): GatedBlock(\n",
              "      (vertical_fc): Conv2d(80, 160, kernel_size=(1, 1), stride=(1, 1))\n",
              "      (vertical_to_horizontal): MaskedConvolution2D(\n",
              "        (conv): Conv2d(160, 160, kernel_size=(1, 1), stride=(1, 1))\n",
              "      )\n",
              "      (vertical_conv): CroppedConvolution2D(\n",
              "        (conv): Conv2d(80, 160, kernel_size=(4, 7), stride=(1, 1), padding=(4, 3))\n",
              "      )\n",
              "      (horizontal_conv): MaskedConvolution2D(\n",
              "        (conv): Conv2d(80, 160, kernel_size=(1, 7), stride=(1, 1), padding=(0, 3))\n",
              "      )\n",
              "      (horizontal_fc): MaskedConvolution2D(\n",
              "        (conv): Conv2d(80, 80, kernel_size=(1, 1), stride=(1, 1))\n",
              "      )\n",
              "      (horizontal_skip): MaskedConvolution2D(\n",
              "        (conv): Conv2d(80, 80, kernel_size=(1, 1), stride=(1, 1))\n",
              "      )\n",
              "      (label_embedding): Embedding(10, 160)\n",
              "    )\n",
              "    (3): GatedBlock(\n",
              "      (vertical_fc): Conv2d(80, 160, kernel_size=(1, 1), stride=(1, 1))\n",
              "      (vertical_to_horizontal): MaskedConvolution2D(\n",
              "        (conv): Conv2d(160, 160, kernel_size=(1, 1), stride=(1, 1))\n",
              "      )\n",
              "      (vertical_conv): CroppedConvolution2D(\n",
              "        (conv): Conv2d(80, 160, kernel_size=(4, 7), stride=(1, 1), padding=(4, 3))\n",
              "      )\n",
              "      (horizontal_conv): MaskedConvolution2D(\n",
              "        (conv): Conv2d(80, 160, kernel_size=(1, 7), stride=(1, 1), padding=(0, 3))\n",
              "      )\n",
              "      (horizontal_fc): MaskedConvolution2D(\n",
              "        (conv): Conv2d(80, 80, kernel_size=(1, 1), stride=(1, 1))\n",
              "      )\n",
              "      (horizontal_skip): MaskedConvolution2D(\n",
              "        (conv): Conv2d(80, 80, kernel_size=(1, 1), stride=(1, 1))\n",
              "      )\n",
              "      (label_embedding): Embedding(10, 160)\n",
              "    )\n",
              "    (4): GatedBlock(\n",
              "      (vertical_fc): Conv2d(80, 160, kernel_size=(1, 1), stride=(1, 1))\n",
              "      (vertical_to_horizontal): MaskedConvolution2D(\n",
              "        (conv): Conv2d(160, 160, kernel_size=(1, 1), stride=(1, 1))\n",
              "      )\n",
              "      (vertical_conv): CroppedConvolution2D(\n",
              "        (conv): Conv2d(80, 160, kernel_size=(4, 7), stride=(1, 1), padding=(4, 3))\n",
              "      )\n",
              "      (horizontal_conv): MaskedConvolution2D(\n",
              "        (conv): Conv2d(80, 160, kernel_size=(1, 7), stride=(1, 1), padding=(0, 3))\n",
              "      )\n",
              "      (horizontal_fc): MaskedConvolution2D(\n",
              "        (conv): Conv2d(80, 80, kernel_size=(1, 1), stride=(1, 1))\n",
              "      )\n",
              "      (horizontal_skip): MaskedConvolution2D(\n",
              "        (conv): Conv2d(80, 80, kernel_size=(1, 1), stride=(1, 1))\n",
              "      )\n",
              "      (label_embedding): Embedding(10, 160)\n",
              "    )\n",
              "    (5): GatedBlock(\n",
              "      (vertical_fc): Conv2d(80, 160, kernel_size=(1, 1), stride=(1, 1))\n",
              "      (vertical_to_horizontal): MaskedConvolution2D(\n",
              "        (conv): Conv2d(160, 160, kernel_size=(1, 1), stride=(1, 1))\n",
              "      )\n",
              "      (vertical_conv): CroppedConvolution2D(\n",
              "        (conv): Conv2d(80, 160, kernel_size=(4, 7), stride=(1, 1), padding=(4, 3))\n",
              "      )\n",
              "      (horizontal_conv): MaskedConvolution2D(\n",
              "        (conv): Conv2d(80, 160, kernel_size=(1, 7), stride=(1, 1), padding=(0, 3))\n",
              "      )\n",
              "      (horizontal_fc): MaskedConvolution2D(\n",
              "        (conv): Conv2d(80, 80, kernel_size=(1, 1), stride=(1, 1))\n",
              "      )\n",
              "      (horizontal_skip): MaskedConvolution2D(\n",
              "        (conv): Conv2d(80, 80, kernel_size=(1, 1), stride=(1, 1))\n",
              "      )\n",
              "      (label_embedding): Embedding(10, 160)\n",
              "    )\n",
              "    (6): GatedBlock(\n",
              "      (vertical_fc): Conv2d(80, 160, kernel_size=(1, 1), stride=(1, 1))\n",
              "      (vertical_to_horizontal): MaskedConvolution2D(\n",
              "        (conv): Conv2d(160, 160, kernel_size=(1, 1), stride=(1, 1))\n",
              "      )\n",
              "      (vertical_conv): CroppedConvolution2D(\n",
              "        (conv): Conv2d(80, 160, kernel_size=(4, 7), stride=(1, 1), padding=(4, 3))\n",
              "      )\n",
              "      (horizontal_conv): MaskedConvolution2D(\n",
              "        (conv): Conv2d(80, 160, kernel_size=(1, 7), stride=(1, 1), padding=(0, 3))\n",
              "      )\n",
              "      (horizontal_fc): MaskedConvolution2D(\n",
              "        (conv): Conv2d(80, 80, kernel_size=(1, 1), stride=(1, 1))\n",
              "      )\n",
              "      (horizontal_skip): MaskedConvolution2D(\n",
              "        (conv): Conv2d(80, 80, kernel_size=(1, 1), stride=(1, 1))\n",
              "      )\n",
              "      (label_embedding): Embedding(10, 160)\n",
              "    )\n",
              "    (7): GatedBlock(\n",
              "      (vertical_fc): Conv2d(80, 160, kernel_size=(1, 1), stride=(1, 1))\n",
              "      (vertical_to_horizontal): MaskedConvolution2D(\n",
              "        (conv): Conv2d(160, 160, kernel_size=(1, 1), stride=(1, 1))\n",
              "      )\n",
              "      (vertical_conv): CroppedConvolution2D(\n",
              "        (conv): Conv2d(80, 160, kernel_size=(4, 7), stride=(1, 1), padding=(4, 3))\n",
              "      )\n",
              "      (horizontal_conv): MaskedConvolution2D(\n",
              "        (conv): Conv2d(80, 160, kernel_size=(1, 7), stride=(1, 1), padding=(0, 3))\n",
              "      )\n",
              "      (horizontal_fc): MaskedConvolution2D(\n",
              "        (conv): Conv2d(80, 80, kernel_size=(1, 1), stride=(1, 1))\n",
              "      )\n",
              "      (horizontal_skip): MaskedConvolution2D(\n",
              "        (conv): Conv2d(80, 80, kernel_size=(1, 1), stride=(1, 1))\n",
              "      )\n",
              "      (label_embedding): Embedding(10, 160)\n",
              "    )\n",
              "    (8): GatedBlock(\n",
              "      (vertical_fc): Conv2d(80, 160, kernel_size=(1, 1), stride=(1, 1))\n",
              "      (vertical_to_horizontal): MaskedConvolution2D(\n",
              "        (conv): Conv2d(160, 160, kernel_size=(1, 1), stride=(1, 1))\n",
              "      )\n",
              "      (vertical_conv): CroppedConvolution2D(\n",
              "        (conv): Conv2d(80, 160, kernel_size=(4, 7), stride=(1, 1), padding=(4, 3))\n",
              "      )\n",
              "      (horizontal_conv): MaskedConvolution2D(\n",
              "        (conv): Conv2d(80, 160, kernel_size=(1, 7), stride=(1, 1), padding=(0, 3))\n",
              "      )\n",
              "      (horizontal_fc): MaskedConvolution2D(\n",
              "        (conv): Conv2d(80, 80, kernel_size=(1, 1), stride=(1, 1))\n",
              "      )\n",
              "      (horizontal_skip): MaskedConvolution2D(\n",
              "        (conv): Conv2d(80, 80, kernel_size=(1, 1), stride=(1, 1))\n",
              "      )\n",
              "      (label_embedding): Embedding(10, 160)\n",
              "    )\n",
              "    (9): GatedBlock(\n",
              "      (vertical_fc): Conv2d(80, 160, kernel_size=(1, 1), stride=(1, 1))\n",
              "      (vertical_to_horizontal): MaskedConvolution2D(\n",
              "        (conv): Conv2d(160, 160, kernel_size=(1, 1), stride=(1, 1))\n",
              "      )\n",
              "      (vertical_conv): CroppedConvolution2D(\n",
              "        (conv): Conv2d(80, 160, kernel_size=(4, 7), stride=(1, 1), padding=(4, 3))\n",
              "      )\n",
              "      (horizontal_conv): MaskedConvolution2D(\n",
              "        (conv): Conv2d(80, 160, kernel_size=(1, 7), stride=(1, 1), padding=(0, 3))\n",
              "      )\n",
              "      (horizontal_fc): MaskedConvolution2D(\n",
              "        (conv): Conv2d(80, 80, kernel_size=(1, 1), stride=(1, 1))\n",
              "      )\n",
              "      (horizontal_skip): MaskedConvolution2D(\n",
              "        (conv): Conv2d(80, 80, kernel_size=(1, 1), stride=(1, 1))\n",
              "      )\n",
              "      (label_embedding): Embedding(10, 160)\n",
              "    )\n",
              "  )\n",
              "  (label_embedding): Embedding(10, 80)\n",
              "  (hidden_conv): MaskedConvolution2D(\n",
              "    (conv): Conv2d(80, 16, kernel_size=(1, 1), stride=(1, 1))\n",
              "  )\n",
              "  (out_conv): MaskedConvolution2D(\n",
              "    (conv): Conv2d(16, 4, kernel_size=(1, 1), stride=(1, 1))\n",
              "  )\n",
              ")"
            ]
          },
          "execution_count": 11,
          "metadata": {},
          "output_type": "execute_result"
        }
      ],
      "source": [
        "# @title Sample images\n",
        "\n",
        "model = GatedPixelCNN(in_channels=1,\n",
        "                      kernel_size=7,\n",
        "                      hidden_layers=10,\n",
        "                      hidden_channels=80,\n",
        "                      out_hidden_channels=16)  # Create an instance of your model\n",
        "\n",
        "model.load_state_dict(torch.load('conditional_4_way_pixelcnn_model_epochs_5.pth')) # Load the saved state dictionary\n",
        "model.to(device)"
      ]
    },
    {
      "cell_type": "code",
      "execution_count": null,
      "metadata": {
        "id": "UQ37KWDG7kYQ"
      },
      "outputs": [],
      "source": [
        "generated_images = model.sample(num_samples=100, device=device)\n",
        "\n",
        "# Plot the 100 images in a 10x10 grid\n",
        "fig, axes = plt.subplots(10, 10, figsize=(12, 12))\n",
        "for idx, ax in enumerate(axes.flatten()):\n",
        "    ax.imshow(generated_images[idx].squeeze(), cmap='gray')\n",
        "    ax.axis('off')\n",
        "\n",
        "plt.tight_layout()\n",
        "plt.show()"
      ]
    },
    {
      "cell_type": "code",
      "execution_count": 13,
      "metadata": {
        "id": "9SZJ9bj18Tx2"
      },
      "outputs": [
        {
          "data": {
            "image/png": "[encoded data removed]",
            "text/plain": [
              "<Figure size 1200x1200 with 100 Axes>"
            ]
          },
          "metadata": {},
          "output_type": "display_data"
        }
      ],
      "source": [
        "import torch\n",
        "import matplotlib.pyplot as plt\n",
        "\n",
        "num_classes = 10\n",
        "num_samples_per_class = 10\n",
        "\n",
        "# 1) Generate all samples\n",
        "#    We'll store them in a list-of-lists so that\n",
        "#    generated_images[col][row] is sample `row` of class `col`.\n",
        "generated_images = []\n",
        "for class_label in range(num_classes):\n",
        "    class_images = model.sample(\n",
        "        num_samples=num_samples_per_class,\n",
        "        labels=torch.full((num_samples_per_class,), class_label, dtype=torch.long),\n",
        "        device=device\n",
        "    )\n",
        "    generated_images.append(class_images)  # index by class → column\n",
        "\n",
        "# 2) Plot in a grid with classes as columns\n",
        "fig, axes = plt.subplots(num_samples_per_class, num_classes, figsize=(12, 12))\n",
        "\n",
        "for col in range(num_classes):\n",
        "    for row in range(num_samples_per_class):\n",
        "        ax = axes[row, col]\n",
        "        img = generated_images[col][row].squeeze().cpu().numpy()\n",
        "        ax.imshow(img, cmap=\"gray\")\n",
        "        ax.axis(\"off\")\n",
        "\n",
        "    # 3) Label the **top** of each column\n",
        "    axes[0, col].set_title(f\"Class {col}\", size='large', pad=10)\n",
        "\n",
        "plt.tight_layout()\n",
        "plt.show()"
      ]
    },
    {
      "cell_type": "code",
      "execution_count": 15,
      "metadata": {
        "id": "78jFSQbkFgL3"
      },
      "outputs": [
        {
          "name": "stdout",
          "output_type": "stream",
          "text": [
            "+---------------------------------------------------+------------+\n",
            "|                      Modules                      | Parameters |\n",
            "+---------------------------------------------------+------------+\n",
            "|          causal_block.vertical_fc.weight          |    160     |\n",
            "|           causal_block.vertical_fc.bias           |    160     |\n",
            "|       causal_block.vertical_conv.conv.weight      |    4480    |\n",
            "|        causal_block.vertical_conv.conv.bias       |    160     |\n",
            "|     causal_block.vertical_to_horizontal.weight    |   25600    |\n",
            "|      causal_block.vertical_to_horizontal.bias     |    160     |\n",
            "|      causal_block.horizontal_conv.conv.weight     |    1120    |\n",
            "|       causal_block.horizontal_conv.conv.bias      |    160     |\n",
            "|       causal_block.horizontal_fc.conv.weight      |    6400    |\n",
            "|        causal_block.horizontal_fc.conv.bias       |     80     |\n",
            "|         gated_blocks.0.vertical_fc.weight         |   12800    |\n",
            "|          gated_blocks.0.vertical_fc.bias          |    160     |\n",
            "| gated_blocks.0.vertical_to_horizontal.conv.weight |   25600    |\n",
            "|  gated_blocks.0.vertical_to_horizontal.conv.bias  |    160     |\n",
            "|      gated_blocks.0.vertical_conv.conv.weight     |   358400   |\n",
            "|       gated_blocks.0.vertical_conv.conv.bias      |    160     |\n",
            "|     gated_blocks.0.horizontal_conv.conv.weight    |   89600    |\n",
            "|      gated_blocks.0.horizontal_conv.conv.bias     |    160     |\n",
            "|      gated_blocks.0.horizontal_fc.conv.weight     |    6400    |\n",
            "|       gated_blocks.0.horizontal_fc.conv.bias      |     80     |\n",
            "|     gated_blocks.0.horizontal_skip.conv.weight    |    6400    |\n",
            "|      gated_blocks.0.horizontal_skip.conv.bias     |     80     |\n",
            "|       gated_blocks.0.label_embedding.weight       |    1600    |\n",
            "|         gated_blocks.1.vertical_fc.weight         |   12800    |\n",
            "|          gated_blocks.1.vertical_fc.bias          |    160     |\n",
            "| gated_blocks.1.vertical_to_horizontal.conv.weight |   25600    |\n",
            "|  gated_blocks.1.vertical_to_horizontal.conv.bias  |    160     |\n",
            "|      gated_blocks.1.vertical_conv.conv.weight     |   358400   |\n",
            "|       gated_blocks.1.vertical_conv.conv.bias      |    160     |\n",
            "|     gated_blocks.1.horizontal_conv.conv.weight    |   89600    |\n",
            "|      gated_blocks.1.horizontal_conv.conv.bias     |    160     |\n",
            "|      gated_blocks.1.horizontal_fc.conv.weight     |    6400    |\n",
            "|       gated_blocks.1.horizontal_fc.conv.bias      |     80     |\n",
            "|     gated_blocks.1.horizontal_skip.conv.weight    |    6400    |\n",
            "|      gated_blocks.1.horizontal_skip.conv.bias     |     80     |\n",
            "|       gated_blocks.1.label_embedding.weight       |    1600    |\n",
            "|         gated_blocks.2.vertical_fc.weight         |   12800    |\n",
            "|          gated_blocks.2.vertical_fc.bias          |    160     |\n",
            "| gated_blocks.2.vertical_to_horizontal.conv.weight |   25600    |\n",
            "|  gated_blocks.2.vertical_to_horizontal.conv.bias  |    160     |\n",
            "|      gated_blocks.2.vertical_conv.conv.weight     |   358400   |\n",
            "|       gated_blocks.2.vertical_conv.conv.bias      |    160     |\n",
            "|     gated_blocks.2.horizontal_conv.conv.weight    |   89600    |\n",
            "|      gated_blocks.2.horizontal_conv.conv.bias     |    160     |\n",
            "|      gated_blocks.2.horizontal_fc.conv.weight     |    6400    |\n",
            "|       gated_blocks.2.horizontal_fc.conv.bias      |     80     |\n",
            "|     gated_blocks.2.horizontal_skip.conv.weight    |    6400    |\n",
            "|      gated_blocks.2.horizontal_skip.conv.bias     |     80     |\n",
            "|       gated_blocks.2.label_embedding.weight       |    1600    |\n",
            "|         gated_blocks.3.vertical_fc.weight         |   12800    |\n",
            "|          gated_blocks.3.vertical_fc.bias          |    160     |\n",
            "| gated_blocks.3.vertical_to_horizontal.conv.weight |   25600    |\n",
            "|  gated_blocks.3.vertical_to_horizontal.conv.bias  |    160     |\n",
            "|      gated_blocks.3.vertical_conv.conv.weight     |   358400   |\n",
            "|       gated_blocks.3.vertical_conv.conv.bias      |    160     |\n",
            "|     gated_blocks.3.horizontal_conv.conv.weight    |   89600    |\n",
            "|      gated_blocks.3.horizontal_conv.conv.bias     |    160     |\n",
            "|      gated_blocks.3.horizontal_fc.conv.weight     |    6400    |\n",
            "|       gated_blocks.3.horizontal_fc.conv.bias      |     80     |\n",
            "|     gated_blocks.3.horizontal_skip.conv.weight    |    6400    |\n",
            "|      gated_blocks.3.horizontal_skip.conv.bias     |     80     |\n",
            "|       gated_blocks.3.label_embedding.weight       |    1600    |\n",
            "|         gated_blocks.4.vertical_fc.weight         |   12800    |\n",
            "|          gated_blocks.4.vertical_fc.bias          |    160     |\n",
            "| gated_blocks.4.vertical_to_horizontal.conv.weight |   25600    |\n",
            "|  gated_blocks.4.vertical_to_horizontal.conv.bias  |    160     |\n",
            "|      gated_blocks.4.vertical_conv.conv.weight     |   358400   |\n",
            "|       gated_blocks.4.vertical_conv.conv.bias      |    160     |\n",
            "|     gated_blocks.4.horizontal_conv.conv.weight    |   89600    |\n",
            "|      gated_blocks.4.horizontal_conv.conv.bias     |    160     |\n",
            "|      gated_blocks.4.horizontal_fc.conv.weight     |    6400    |\n",
            "|       gated_blocks.4.horizontal_fc.conv.bias      |     80     |\n",
            "|     gated_blocks.4.horizontal_skip.conv.weight    |    6400    |\n",
            "|      gated_blocks.4.horizontal_skip.conv.bias     |     80     |\n",
            "|       gated_blocks.4.label_embedding.weight       |    1600    |\n",
            "|         gated_blocks.5.vertical_fc.weight         |   12800    |\n",
            "|          gated_blocks.5.vertical_fc.bias          |    160     |\n",
            "| gated_blocks.5.vertical_to_horizontal.conv.weight |   25600    |\n",
            "|  gated_blocks.5.vertical_to_horizontal.conv.bias  |    160     |\n",
            "|      gated_blocks.5.vertical_conv.conv.weight     |   358400   |\n",
            "|       gated_blocks.5.vertical_conv.conv.bias      |    160     |\n",
            "|     gated_blocks.5.horizontal_conv.conv.weight    |   89600    |\n",
            "|      gated_blocks.5.horizontal_conv.conv.bias     |    160     |\n",
            "|      gated_blocks.5.horizontal_fc.conv.weight     |    6400    |\n",
            "|       gated_blocks.5.horizontal_fc.conv.bias      |     80     |\n",
            "|     gated_blocks.5.horizontal_skip.conv.weight    |    6400    |\n",
            "|      gated_blocks.5.horizontal_skip.conv.bias     |     80     |\n",
            "|       gated_blocks.5.label_embedding.weight       |    1600    |\n",
            "|         gated_blocks.6.vertical_fc.weight         |   12800    |\n",
            "|          gated_blocks.6.vertical_fc.bias          |    160     |\n",
            "| gated_blocks.6.vertical_to_horizontal.conv.weight |   25600    |\n",
            "|  gated_blocks.6.vertical_to_horizontal.conv.bias  |    160     |\n",
            "|      gated_blocks.6.vertical_conv.conv.weight     |   358400   |\n",
            "|       gated_blocks.6.vertical_conv.conv.bias      |    160     |\n",
            "|     gated_blocks.6.horizontal_conv.conv.weight    |   89600    |\n",
            "|      gated_blocks.6.horizontal_conv.conv.bias     |    160     |\n",
            "|      gated_blocks.6.horizontal_fc.conv.weight     |    6400    |\n",
            "|       gated_blocks.6.horizontal_fc.conv.bias      |     80     |\n",
            "|     gated_blocks.6.horizontal_skip.conv.weight    |    6400    |\n",
            "|      gated_blocks.6.horizontal_skip.conv.bias     |     80     |\n",
            "|       gated_blocks.6.label_embedding.weight       |    1600    |\n",
            "|         gated_blocks.7.vertical_fc.weight         |   12800    |\n",
            "|          gated_blocks.7.vertical_fc.bias          |    160     |\n",
            "| gated_blocks.7.vertical_to_horizontal.conv.weight |   25600    |\n",
            "|  gated_blocks.7.vertical_to_horizontal.conv.bias  |    160     |\n",
            "|      gated_blocks.7.vertical_conv.conv.weight     |   358400   |\n",
            "|       gated_blocks.7.vertical_conv.conv.bias      |    160     |\n",
            "|     gated_blocks.7.horizontal_conv.conv.weight    |   89600    |\n",
            "|      gated_blocks.7.horizontal_conv.conv.bias     |    160     |\n",
            "|      gated_blocks.7.horizontal_fc.conv.weight     |    6400    |\n",
            "|       gated_blocks.7.horizontal_fc.conv.bias      |     80     |\n",
            "|     gated_blocks.7.horizontal_skip.conv.weight    |    6400    |\n",
            "|      gated_blocks.7.horizontal_skip.conv.bias     |     80     |\n",
            "|       gated_blocks.7.label_embedding.weight       |    1600    |\n",
            "|         gated_blocks.8.vertical_fc.weight         |   12800    |\n",
            "|          gated_blocks.8.vertical_fc.bias          |    160     |\n",
            "| gated_blocks.8.vertical_to_horizontal.conv.weight |   25600    |\n",
            "|  gated_blocks.8.vertical_to_horizontal.conv.bias  |    160     |\n",
            "|      gated_blocks.8.vertical_conv.conv.weight     |   358400   |\n",
            "|       gated_blocks.8.vertical_conv.conv.bias      |    160     |\n",
            "|     gated_blocks.8.horizontal_conv.conv.weight    |   89600    |\n",
            "|      gated_blocks.8.horizontal_conv.conv.bias     |    160     |\n",
            "|      gated_blocks.8.horizontal_fc.conv.weight     |    6400    |\n",
            "|       gated_blocks.8.horizontal_fc.conv.bias      |     80     |\n",
            "|     gated_blocks.8.horizontal_skip.conv.weight    |    6400    |\n",
            "|      gated_blocks.8.horizontal_skip.conv.bias     |     80     |\n",
            "|       gated_blocks.8.label_embedding.weight       |    1600    |\n",
            "|         gated_blocks.9.vertical_fc.weight         |   12800    |\n",
            "|          gated_blocks.9.vertical_fc.bias          |    160     |\n",
            "| gated_blocks.9.vertical_to_horizontal.conv.weight |   25600    |\n",
            "|  gated_blocks.9.vertical_to_horizontal.conv.bias  |    160     |\n",
            "|      gated_blocks.9.vertical_conv.conv.weight     |   358400   |\n",
            "|       gated_blocks.9.vertical_conv.conv.bias      |    160     |\n",
            "|     gated_blocks.9.horizontal_conv.conv.weight    |   89600    |\n",
            "|      gated_blocks.9.horizontal_conv.conv.bias     |    160     |\n",
            "|      gated_blocks.9.horizontal_fc.conv.weight     |    6400    |\n",
            "|       gated_blocks.9.horizontal_fc.conv.bias      |     80     |\n",
            "|     gated_blocks.9.horizontal_skip.conv.weight    |    6400    |\n",
            "|      gated_blocks.9.horizontal_skip.conv.bias     |     80     |\n",
            "|       gated_blocks.9.label_embedding.weight       |    1600    |\n",
            "|               label_embedding.weight              |    800     |\n",
            "|              hidden_conv.conv.weight              |    1280    |\n",
            "|               hidden_conv.conv.bias               |     16     |\n",
            "|                out_conv.conv.weight               |     64     |\n",
            "|                 out_conv.conv.bias                |     4      |\n",
            "+---------------------------------------------------+------------+\n",
            "Total Trainable Params: 5056644\n"
          ]
        },
        {
          "data": {
            "text/plain": [
              "5056644"
            ]
          },
          "execution_count": 15,
          "metadata": {},
          "output_type": "execute_result"
        }
      ],
      "source": [
        "from prettytable import PrettyTable\n",
        "\n",
        "def count_parameters(model):\n",
        "    table = PrettyTable([\"Modules\", \"Parameters\"])\n",
        "    total_params = 0\n",
        "    for name, parameter in model.named_parameters():\n",
        "        if not parameter.requires_grad:\n",
        "            continue\n",
        "        params = parameter.numel()\n",
        "        table.add_row([name, params])\n",
        "        total_params += params\n",
        "    print(table)\n",
        "    print(f\"Total Trainable Params: {total_params}\")\n",
        "    return total_params\n",
        "\n",
        "count_parameters(model)"
      ]
    },
    {
      "cell_type": "code",
      "execution_count": 14,
      "metadata": {
        "id": "18KLIleFMhjf"
      },
      "outputs": [
        {
          "name": "stdout",
          "output_type": "stream",
          "text": [
            "Average NLL (nats per pixel): 0.16163638788340043\n",
            "Bits per dim: 0.23319201522658675\n"
          ]
        }
      ],
      "source": [
        "import math\n",
        "import torch\n",
        "import torch.nn as nn\n",
        "\n",
        "def compute_bits_per_dim(model, data_loader, device):\n",
        "    \"\"\"\n",
        "    Computes the average bits per dimension (bits/dim) for a given model and dataset.\n",
        "    This function uses binary cross-entropy as the negative log likelihood (in nats)\n",
        "    and converts it to bits by dividing by log(2).\n",
        "    \"\"\"\n",
        "    criterion = nn.CrossEntropyLoss(reduction='sum')\n",
        "    model.eval()\n",
        "    total_loss = 0.0\n",
        "    total_elements = 0\n",
        "    with torch.inference_mode():\n",
        "        for imgs, labels in data_loader:\n",
        "            imgs = imgs.to(device)\n",
        "            labels = labels.to(device)\n",
        "\n",
        "            batch_size = imgs.shape[0]\n",
        "            # For MNIST, each image is 28x28 so number of pixels per sample:\n",
        "            num_pixels = imgs.shape[2] * imgs.shape[3]\n",
        "\n",
        "            pixel_targets = torch.clamp((imgs * 4).long(), max=3)\n",
        "            output = model(pixel_targets.float(), labels)\n",
        "            \n",
        "            # Compute the BCE loss (sum over all pixels)\n",
        "            loss = criterion(output, pixel_targets.squeeze(1))\n",
        "            total_loss += loss.item()\n",
        "            total_elements += batch_size * num_pixels\n",
        "\n",
        "    # Average negative log-likelihood (in nats per pixel)\n",
        "    average_nll = total_loss / total_elements\n",
        "    # Convert nats to bits (1 nat = 1/log(2) bits)\n",
        "    bits_per_dim = average_nll / math.log(2)\n",
        "    return average_nll, bits_per_dim\n",
        "\n",
        "average_nll, bits_dim = compute_bits_per_dim(model, test_loader, device)\n",
        "print(f\"Average NLL (nats per pixel): {average_nll}\")\n",
        "print(f\"Bits per dim: {bits_dim}\")"
      ]
    }
  ],
  "metadata": {
    "accelerator": "GPU",
    "colab": {
      "gpuType": "T4",
      "provenance": []
    },
    "kernelspec": {
      "display_name": "Python 3",
      "name": "python3"
    },
    "language_info": {
      "codemirror_mode": {
        "name": "ipython",
        "version": 3
      },
      "file_extension": ".py",
      "mimetype": "text/x-python",
      "name": "python",
      "nbconvert_exporter": "python",
      "pygments_lexer": "ipython3",
      "version": "3.10.12"
    }
  },
  "nbformat": 4,
  "nbformat_minor": 0
}
