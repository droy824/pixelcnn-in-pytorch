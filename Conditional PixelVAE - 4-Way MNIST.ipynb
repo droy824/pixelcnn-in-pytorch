{
  "cells": [
    {
      "cell_type": "code",
      "execution_count": 1,
      "metadata": {
        "id": "ZpL92dyKqQhr"
      },
      "outputs": [],
      "source": [
        "# @title Importing dependencies\n",
        "import numpy\n",
        "import torch\n",
        "import torch.nn as nn\n",
        "import torchvision\n",
        "import torch.nn.functional as F\n",
        "import matplotlib.pyplot as plt\n",
        "from tqdm import tqdm\n",
        "import numpy as np"
      ]
    },
    {
      "cell_type": "code",
      "execution_count": 12,
      "metadata": {
        "colab": {
          "base_uri": "https://localhost:8080/"
        },
        "id": "e1Ov-jmgF8Wn",
        "outputId": "f8a281c2-fa03-4b3d-d05d-5abe7a59d9f3"
      },
      "outputs": [],
      "source": [
        "mnist_train = torchvision.datasets.MNIST('/home/stuti/fods/files/', train=True, download=True,\n",
        "                            transform=torchvision.transforms.Compose([\n",
        "                                torchvision.transforms.ToTensor()\n",
        "                            ]))\n",
        "mnist_test = torchvision.datasets.MNIST('/home/stuti/fods/files/', train=False, download=True,\n",
        "                            transform=torchvision.transforms.Compose([\n",
        "                                torchvision.transforms.ToTensor()\n",
        "                            ]))"
      ]
    },
    {
      "cell_type": "code",
      "execution_count": null,
      "metadata": {
        "id": "1Sj4JnUYF9YD"
      },
      "outputs": [],
      "source": [
        "# # @title Binarise MNIST data\n",
        "# def binarise_mnist(mnist):\n",
        "#     mnist_bin = []\n",
        "#     for img, label in mnist:\n",
        "#         mnist_bin.append((torch.where(img < 0.5, 0.0, 1.0), label))\n",
        "#     return mnist_bin"
      ]
    },
    {
      "cell_type": "code",
      "execution_count": null,
      "metadata": {
        "id": "mI7g-BGGF-fN"
      },
      "outputs": [],
      "source": [
        "# X_train = binarise_mnist(mnist_train)\n",
        "# X_test = binarise_mnist(mnist_test)"
      ]
    },
    {
      "cell_type": "code",
      "execution_count": 13,
      "metadata": {
        "id": "vAnk-eOIGAWM"
      },
      "outputs": [],
      "source": [
        "class CroppedConvolution2D(nn.Module):  # cropped conv class - just crops and upsamples output of conv\n",
        "    def __init__(self, in_channels: int, out_channels: int, kernel_size: tuple, padding: tuple):\n",
        "        super(CroppedConvolution2D, self).__init__()\n",
        "        self.in_channels = in_channels\n",
        "        self.out_channels = out_channels\n",
        "        self.kernel_height, self.kernel_width = kernel_size\n",
        "        self.padding = padding\n",
        "        self.conv = nn.Conv2d(self.in_channels, self.out_channels, kernel_size, padding=self.padding)\n",
        "\n",
        "    def forward(self, X):\n",
        "        X = self.conv(X)\n",
        "        out = X[:, :, 1:-self.kernel_height, :]\n",
        "        up_shifted_out = X[:, :, :-self.kernel_height-1, :]\n",
        "        return out, up_shifted_out"
      ]
    },
    {
      "cell_type": "code",
      "execution_count": 3,
      "metadata": {
        "id": "Cr6bRjqdGDpi"
      },
      "outputs": [],
      "source": [
        "class MaskedConvolution2D(nn.Module):   # masked conv - same as pixelcnn\n",
        "    def __init__(self, in_channels: int, out_channels: int, kernel_size: tuple, padding: tuple, mask_type: str):\n",
        "        super(MaskedConvolution2D, self).__init__()\n",
        "        self.in_channels = in_channels\n",
        "        self.out_channels = out_channels\n",
        "        self.kernel_height, self.kernel_width = kernel_size\n",
        "        self.padding = padding\n",
        "        self.mask_type = mask_type\n",
        "        self.conv = nn.Conv2d(self.in_channels, self.out_channels, kernel_size, padding=self.padding)\n",
        "        self.create_mask()\n",
        "\n",
        "    def create_mask(self):\n",
        "        mask = torch.ones(self.kernel_height, self.kernel_width)\n",
        "        mask[self.kernel_height // 2, self.kernel_width // 2:] = 0\n",
        "        mask[self.kernel_height // 2 + 1:, :] = 0\n",
        "        if self.mask_type == 'B':\n",
        "            mask[self.kernel_height // 2, self.kernel_width // 2] = 1\n",
        "        self.register_buffer('mask', mask)\n",
        "\n",
        "    def forward(self, X):\n",
        "        self.conv.weight.data = self.conv.weight.data * self.mask   # return masked kernel weights\n",
        "        return self.conv(X)"
      ]
    },
    {
      "cell_type": "code",
      "execution_count": 4,
      "metadata": {
        "id": "J9R87gFXGE52"
      },
      "outputs": [],
      "source": [
        "class CausalBlock(nn.Module):   # no skip connections in the causal block\n",
        "    def __init__(self, in_channels: int, out_channels: int, kernel_size: int):\n",
        "        super(CausalBlock, self).__init__()\n",
        "        self.in_channels = in_channels\n",
        "        self.out_channels = out_channels\n",
        "        self.kernel_size = kernel_size\n",
        "\n",
        "        self.vertical_fc = nn.Conv2d(in_channels=in_channels,\n",
        "                                     out_channels=2*out_channels,\n",
        "                                     kernel_size=(1, 1))\n",
        "\n",
        "        self.vertical_conv = CroppedConvolution2D(in_channels=in_channels,\n",
        "                                                  out_channels=2*out_channels,\n",
        "                                                  kernel_size=(kernel_size // 2 + 1, kernel_size),\n",
        "                                                  padding=(kernel_size // 2 + 1, kernel_size // 2))\n",
        "\n",
        "        self.vertical_to_horizontal = nn.Conv2d(in_channels=2*out_channels,\n",
        "                                                out_channels=2*out_channels,\n",
        "                                                kernel_size=(1, 1))\n",
        "\n",
        "        self.horizontal_conv = MaskedConvolution2D(in_channels=in_channels,\n",
        "                                                   out_channels=2*out_channels,\n",
        "                                                   kernel_size=(1, kernel_size),\n",
        "                                                   padding=(0, kernel_size // 2),\n",
        "                                                   mask_type='A')\n",
        "\n",
        "        self.horizontal_fc = MaskedConvolution2D(in_channels=out_channels,\n",
        "                                                 out_channels=out_channels,\n",
        "                                                 kernel_size=(1, 1),\n",
        "                                                 padding=(0, 0),\n",
        "                                                 mask_type='A')\n",
        "\n",
        "    def forward(self, X):\n",
        "        out_vertical_fc = self.vertical_fc(X)\n",
        "        out_vertical_conv, up_shifted_out_vertical_conv = self.vertical_conv(X)\n",
        "        out_vertical_to_horizontal = self.vertical_to_horizontal(up_shifted_out_vertical_conv)\n",
        "        out_vertical = out_vertical_fc + out_vertical_conv\n",
        "        out_vertical_tanh, out_vertical_sigmoid = torch.split(out_vertical, self.out_channels, dim=1)   # split feature maps and apply activations\n",
        "        out_vertical = torch.tanh(out_vertical_tanh) * torch.sigmoid(out_vertical_sigmoid)\n",
        "\n",
        "        out_horizontal_conv = self.horizontal_conv(X)\n",
        "        out_horizontal = out_horizontal_conv + out_vertical_to_horizontal\n",
        "        out_horizontal_tanh, out_horizontal_sigmoid = torch.split(out_horizontal, self.out_channels, dim=1)\n",
        "        out_horizontal = torch.tanh(out_horizontal_tanh) * torch.sigmoid(out_horizontal_sigmoid)\n",
        "        out_horizontal = self.horizontal_fc(out_horizontal)\n",
        "\n",
        "        return out_vertical, out_horizontal"
      ]
    },
    {
      "cell_type": "code",
      "execution_count": 5,
      "metadata": {
        "id": "d7bN7vumGGQq"
      },
      "outputs": [],
      "source": [
        "class GatedBlock(nn.Module):    # gated blocks used for skip connection outputs\n",
        "    def __init__(self, in_channels: int, out_channels: int, kernel_size: int, latent_dim: int=16):\n",
        "        super(GatedBlock, self).__init__()\n",
        "        self.in_channels = in_channels\n",
        "        self.out_channels = out_channels\n",
        "        self.kernel_size = kernel_size\n",
        "        self.latent_dim = latent_dim\n",
        "\n",
        "        self.vertical_fc = nn.Conv2d(in_channels=in_channels,\n",
        "                                     out_channels=2*out_channels,\n",
        "                                     kernel_size=(1, 1))\n",
        "\n",
        "        self.vertical_to_horizontal = MaskedConvolution2D(in_channels=2*out_channels,\n",
        "                                                          out_channels=2*out_channels,\n",
        "                                                          kernel_size=(1, 1),\n",
        "                                                          padding=(0, 0),\n",
        "                                                          mask_type='B')\n",
        "\n",
        "        self.vertical_conv = CroppedConvolution2D(in_channels=in_channels,\n",
        "                                                  out_channels=2*out_channels,\n",
        "                                                  kernel_size=(kernel_size // 2 + 1, kernel_size),\n",
        "                                                  padding=(kernel_size // 2 + 1, kernel_size // 2))\n",
        "\n",
        "        self.horizontal_conv = MaskedConvolution2D(in_channels=in_channels,\n",
        "                                                   out_channels=2*out_channels,\n",
        "                                                   kernel_size=(1, kernel_size),\n",
        "                                                   padding=(0, kernel_size // 2),\n",
        "                                                   mask_type='B')\n",
        "\n",
        "        self.horizontal_fc = MaskedConvolution2D(in_channels=out_channels,\n",
        "                                                 out_channels=out_channels,\n",
        "                                                 kernel_size=(1, 1),\n",
        "                                                 padding=(0, 0),\n",
        "                                                 mask_type='B')\n",
        "\n",
        "        self.horizontal_skip = MaskedConvolution2D(in_channels=out_channels,\n",
        "                                                 out_channels=out_channels,\n",
        "                                                 kernel_size=(1, 1),\n",
        "                                                 padding=(0, 0),\n",
        "                                                 mask_type='B')\n",
        "\n",
        "        self.latent_embedding = nn.Linear(in_features=latent_dim, out_features=2*out_channels)\n",
        "        self.label_embedding = nn.Embedding(10, 2*out_channels)\n",
        "\n",
        "    def forward(self, X):\n",
        "        # get info from prev block\n",
        "        in_vertical, in_horizontal, label, latent, skip = X['in_vertical'], X['in_horizontal'], X['label'], X['latent'], X['skip']\n",
        "        latent_embedding = self.latent_embedding(latent).unsqueeze(2).unsqueeze(3)\n",
        "        label_embedding = self.label_embedding(label).unsqueeze(2).unsqueeze(3)\n",
        "\n",
        "        out_vertical_fc = self.vertical_fc(in_vertical)\n",
        "        out_vertical_conv, up_shifted_out_vertical_conv = self.vertical_conv(in_vertical)\n",
        "        out_vertical_to_horizontal = self.vertical_to_horizontal(up_shifted_out_vertical_conv)\n",
        "        out_vertical = out_vertical_fc + out_vertical_conv + latent_embedding + label_embedding # add label embedding!\n",
        "        out_vertical_tanh, out_vertical_sigmoid = torch.split(out_vertical, self.out_channels, dim=1)   #split feature maps\n",
        "        out_vertical = torch.tanh(out_vertical_tanh) * torch.sigmoid(out_vertical_sigmoid)\n",
        "        out_vertical += in_vertical\n",
        "\n",
        "        out_horizontal_conv = self.horizontal_conv(in_horizontal)\n",
        "        out_horizontal = out_horizontal_conv + out_vertical_to_horizontal + latent_embedding + label_embedding\n",
        "        out_horizontal_tanh, out_horizontal_sigmoid = torch.split(out_horizontal, self.out_channels, dim=1)\n",
        "        out_horizontal = torch.tanh(out_horizontal_tanh) * torch.sigmoid(out_horizontal_sigmoid)\n",
        "        skip += self.horizontal_skip(out_horizontal)\n",
        "        out_horizontal = self.horizontal_fc(out_horizontal)\n",
        "        out_horizontal += in_horizontal\n",
        "\n",
        "        return {'in_vertical': out_vertical,\n",
        "                'in_horizontal': out_horizontal,\n",
        "                'label': label,\n",
        "                'latent': latent,\n",
        "                'skip': skip}   # return skip connections"
      ]
    },
    {
      "cell_type": "code",
      "execution_count": 6,
      "metadata": {
        "id": "hcoa5y3jPnfG"
      },
      "outputs": [],
      "source": [
        "class ConditionalGate(nn.Module):   # conditional gate used to split feature maps and apply activations like in causal and gated blocks\n",
        "    def __init__(self, latent_dim: int, out_channels: int=32):\n",
        "        super(ConditionalGate, self).__init__()\n",
        "        self.latent_dim = latent_dim\n",
        "        self.out_channels = out_channels\n",
        "\n",
        "        self.latent_embedding_tanh = nn.Linear(in_features=latent_dim, out_features=out_channels)\n",
        "        self.latent_embedding_sigmoid = nn.Linear(in_features=latent_dim, out_features=out_channels)\n",
        "        self.label_embedding_tanh = nn.Embedding(10, out_channels)\n",
        "        self.label_embedding_sigmoid = nn.Embedding(10, out_channels)\n",
        "\n",
        "    def forward(self, X, label, latent_var):\n",
        "        out_tanh, out_sigmoid = torch.split(X, self.out_channels, dim=1)\n",
        "\n",
        "        latent_embedding_tanh = self.latent_embedding_tanh(latent_var).unsqueeze(2).unsqueeze(3)\n",
        "        label_embedding_tanh = self.label_embedding_tanh(label).unsqueeze(2).unsqueeze(3)\n",
        "        latent_embedding_sigmoid = self.latent_embedding_sigmoid(latent_var).unsqueeze(2).unsqueeze(3)\n",
        "        label_embedding_sigmoid = self.label_embedding_sigmoid(label).unsqueeze(2).unsqueeze(3)\n",
        "\n",
        "        out_tanh = out_tanh + latent_embedding_tanh + label_embedding_tanh  # add label embedding!\n",
        "        out_sigmoid = out_sigmoid + latent_embedding_sigmoid + label_embedding_sigmoid\n",
        "        out = torch.tanh(out_tanh) * torch.sigmoid(out_sigmoid)\n",
        "        return out"
      ]
    },
    {
      "cell_type": "code",
      "execution_count": 7,
      "metadata": {
        "id": "s8ce7elsGI7c"
      },
      "outputs": [],
      "source": [
        "class Encoder(nn.Module):   # encoder is a bunch of convs\n",
        "    def __init__(self, in_channels: int, latent_dim: int):\n",
        "        super(Encoder, self).__init__()\n",
        "        self.in_channels = in_channels\n",
        "        self.latent_dim = latent_dim\n",
        "\n",
        "        layers = []\n",
        "        layers.append(nn.Conv2d(in_channels=in_channels, out_channels=32, kernel_size=3, stride=1, padding='same'))\n",
        "        layers.append(nn.ReLU())\n",
        "        layers.append(nn.Conv2d(in_channels=32, out_channels=32, kernel_size=3, stride=2, padding=1))\n",
        "        layers.append(nn.ReLU())\n",
        "        layers.append(nn.Conv2d(in_channels=32, out_channels=32, kernel_size=3, stride=1, padding='same'))\n",
        "        layers.append(nn.ReLU())\n",
        "        layers.append(nn.Conv2d(in_channels=32, out_channels=64, kernel_size=3, stride=2, padding=1))\n",
        "        layers.append(nn.ReLU())\n",
        "        layers.append(nn.ZeroPad2d((0, 1, 0,1)))  # Pad 7x7 feature maps to 8x8\n",
        "        layers.append(nn.ReLU())\n",
        "        layers.append(nn.Conv2d(in_channels=64, out_channels=64, kernel_size=3, stride=1, padding='same'))\n",
        "        layers.append(nn.ReLU())\n",
        "        layers.append(nn.Conv2d(in_channels=64, out_channels=64, kernel_size=3, stride=2, padding=1))\n",
        "        layers.append(nn.ReLU())\n",
        "        for _ in range(3):\n",
        "            layers.append(nn.Conv2d(in_channels=64, out_channels=64, kernel_size=3, stride=1, padding='same'))\n",
        "            layers.append(nn.ReLU())\n",
        "        layers.append(nn.Flatten())\n",
        "        layers.append(nn.Linear(in_features=1024, out_features=2*latent_dim))\n",
        "        self.net = nn.Sequential(*layers)\n",
        "        self.label_embedding = nn.Embedding(10, in_channels)\n",
        "\n",
        "    def reparameterise(self, mu, logvar):\n",
        "        std = torch.exp(0.5 * logvar)\n",
        "        eps = torch.randn_like(std)\n",
        "        return mu + eps * std\n",
        "\n",
        "    def forward(self, X, label):\n",
        "        label_embedding = self.label_embedding(label).unsqueeze(2).unsqueeze(3)\n",
        "        out = X + label_embedding\n",
        "        out = self.net(out)\n",
        "        mu, logvar = torch.split(out, self.latent_dim, dim=1)\n",
        "        z = self.reparameterise(mu, logvar)\n",
        "        return mu, logvar, z"
      ]
    },
    {
      "cell_type": "code",
      "execution_count": 8,
      "metadata": {
        "id": "ez43R_wnUosG"
      },
      "outputs": [],
      "source": [
        "class ConditionalDecoder(nn.Module):    # uses conditional gates\n",
        "    def __init__(self, latent_dim: int, in_channels: int=1, hidden_layers: int=5):\n",
        "        super(ConditionalDecoder, self).__init__()\n",
        "        self.latent_dim = latent_dim\n",
        "        self.in_channels = in_channels\n",
        "        self.hidden_layers = hidden_layers\n",
        "\n",
        "        self.causal_block = CausalBlock(in_channels=in_channels, out_channels=latent_dim, kernel_size=7)\n",
        "        self.gated_blocks = nn.Sequential(\n",
        "            *[GatedBlock(in_channels=latent_dim, out_channels=latent_dim, kernel_size=5, latent_dim=latent_dim) for _ in range(hidden_layers)]\n",
        "        )\n",
        "        self.label_embedding = nn.Embedding(10, latent_dim)\n",
        "        self.conv_1 = nn.Conv2d(in_channels=latent_dim, out_channels=2*latent_dim, kernel_size=(1, 1))\n",
        "        self.conditional_gate_1 = ConditionalGate(latent_dim=latent_dim, out_channels=latent_dim)\n",
        "        self.conv_2 = nn.Conv2d(in_channels=latent_dim, out_channels=2*latent_dim, kernel_size=(1, 1))\n",
        "        self.conditional_gate_2 = ConditionalGate(latent_dim=latent_dim, out_channels=latent_dim)\n",
        "        self.conv_3 = nn.Conv2d(in_channels=latent_dim, out_channels=4*in_channels, kernel_size=(1, 1))\n",
        "\n",
        "    def forward(self, X, label, latent_var):\n",
        "        out_vertical, out_horizontal = self.causal_block(X)\n",
        "        out = self.gated_blocks({'in_vertical': out_vertical,\n",
        "                                 'in_horizontal': out_horizontal,\n",
        "                                 'label': label,    # pass label embedding to gated blocks\n",
        "                                 'latent': latent_var,\n",
        "                                 'skip': X.new_zeros(X.size()[0], self.latent_dim, X.size()[2], X.size()[3])})['in_horizontal']\n",
        "        out = self.conv_1(out)\n",
        "        out = self.conditional_gate_1(out, label, latent_var)\n",
        "        out = self.conv_2(out)\n",
        "        out = self.conditional_gate_2(out, label, latent_var)\n",
        "        out = self.conv_3(out)\n",
        "        return out"
      ]
    },
    {
      "cell_type": "code",
      "execution_count": 9,
      "metadata": {
        "id": "RjIRY23PnwvE"
      },
      "outputs": [],
      "source": [
        "class ConditionalPixelVAE(nn.Module):   # final model class\n",
        "    def __init__(self, in_channels: int, latent_dim: int=32, hidden_layers: int=5):\n",
        "        super(ConditionalPixelVAE, self).__init__()\n",
        "        self.encoder = Encoder(in_channels=in_channels,\n",
        "                               latent_dim=latent_dim)\n",
        "        self.decoder = ConditionalDecoder(latent_dim=latent_dim,\n",
        "                                          in_channels=in_channels,\n",
        "                                          hidden_layers=hidden_layers)\n",
        "\n",
        "    def sample(self, image_size=(28, 28), num_samples=1, labels=None, device='cpu'):\n",
        "        self.eval()\n",
        "\n",
        "        H, W = image_size\n",
        "        C = self.decoder.in_channels\n",
        "\n",
        "        # 1) Sample z ~ N(0, I)\n",
        "        z = torch.randn(num_samples, self.encoder.latent_dim, device=device)\n",
        "\n",
        "        # 2) Initialize an empty canvas\n",
        "        samples = torch.zeros(num_samples, C, H, W, device=device)\n",
        "\n",
        "        if labels is None:\n",
        "            labels = torch.randint(high=10, size=(num_samples,)).to(device)\n",
        "        else:\n",
        "            labels = (labels * torch.ones(num_samples)).to(device).long()\n",
        "        with torch.inference_mode():\n",
        "            for i in range(H):\n",
        "                for j in range(W):\n",
        "                    logits = self.decoder(samples, labels, z)\n",
        "                    probs = torch.softmax(logits[:, :, i, j], dim=1)    # softmax for 4 discrete pixel values\n",
        "                    sampled_pixel = torch.multinomial(probs, 1).squeeze(1)  # multinomial instead of bernoulli\n",
        "                    samples[:, 0, i, j] = sampled_pixel\n",
        "\n",
        "        return samples.cpu()\n",
        "\n",
        "    def forward(self, X, label):\n",
        "        mu, logvar, z = self.encoder(X, label)\n",
        "        out = self.decoder(X, label, z) # decode using label info\n",
        "        return mu, logvar, z, out"
      ]
    },
    {
      "cell_type": "code",
      "execution_count": 11,
      "metadata": {
        "colab": {
          "base_uri": "https://localhost:8080/"
        },
        "id": "fJnQbPKkX5M0",
        "outputId": "8d55d329-9a05-4d04-a237-4fee372a75b3"
      },
      "outputs": [
        {
          "data": {
            "text/plain": [
              "(torch.Size([1, 1, 28, 28]), torch.Size([1, 24]), torch.Size([1, 4, 28, 28]))"
            ]
          },
          "execution_count": 11,
          "metadata": {},
          "output_type": "execute_result"
        }
      ],
      "source": [
        "torch.manual_seed(42)\n",
        "model = ConditionalPixelVAE(in_channels=1,\n",
        "                 latent_dim=24,\n",
        "                 hidden_layers=5)\n",
        "img, label = mnist_train[0]\n",
        "img = img.unsqueeze(0)\n",
        "label = torch.tensor(label).unsqueeze(0)\n",
        "sample_mu, sample_logvar, sample_z, sample_out = model(img, label)\n",
        "img.shape, sample_z.shape, sample_out.shape"
      ]
    },
    {
      "cell_type": "code",
      "execution_count": 12,
      "metadata": {
        "colab": {
          "base_uri": "https://localhost:8080/"
        },
        "id": "QPJkTdf01DUy",
        "outputId": "28fd3f0a-a819-4536-c3be-6d2dadb18ebe"
      },
      "outputs": [
        {
          "data": {
            "text/plain": [
              "(torch.Size([1, 28, 28]), torch.Size([1, 1, 28, 28]))"
            ]
          },
          "execution_count": 12,
          "metadata": {},
          "output_type": "execute_result"
        }
      ],
      "source": [
        "torch.manual_seed(42)\n",
        "model = ConditionalPixelVAE(in_channels=1,\n",
        "                 latent_dim=24,\n",
        "                 hidden_layers=5)\n",
        "img, label = mnist_train[0]\n",
        "sample = model.sample((28, 28), 1, 7)\n",
        "img.shape, sample.shape"
      ]
    },
    {
      "cell_type": "code",
      "execution_count": 13,
      "metadata": {
        "colab": {
          "base_uri": "https://localhost:8080/",
          "height": 430
        },
        "id": "HdXjDMpnu5UT",
        "outputId": "1d28b95b-59bf-43ed-cbca-b6119abd79b9"
      },
      "outputs": [
        {
          "data": {
            "image/png": "[encoded data removed]",
            "text/plain": [
              "<Figure size 640x480 with 1 Axes>"
            ]
          },
          "metadata": {},
          "output_type": "display_data"
        }
      ],
      "source": [
        "plt.imshow(sample.squeeze().detach().numpy(), cmap='gray')\n",
        "plt.show()"
      ]
    },
    {
      "cell_type": "code",
      "execution_count": 10,
      "metadata": {
        "colab": {
          "base_uri": "https://localhost:8080/"
        },
        "id": "ylHVgXJku-6k",
        "outputId": "e0d482c4-51e5-4d45-bb64-d2dee4859158"
      },
      "outputs": [
        {
          "data": {
            "text/plain": [
              "device(type='cuda')"
            ]
          },
          "execution_count": 10,
          "metadata": {},
          "output_type": "execute_result"
        }
      ],
      "source": [
        "device = torch.device(\"cuda\" if torch.cuda.is_available() else \"cpu\")\n",
        "device"
      ]
    },
    {
      "cell_type": "code",
      "execution_count": 14,
      "metadata": {
        "id": "JWTB-EOUv1mU"
      },
      "outputs": [],
      "source": [
        "# @title Creating DataLoader for binarised MNIST\n",
        "from torch.utils.data import DataLoader\n",
        "\n",
        "train_loader = DataLoader(mnist_train, batch_size=32, shuffle=True)\n",
        "test_loader = DataLoader(mnist_test, batch_size=32, shuffle=False)"
      ]
    },
    {
      "cell_type": "code",
      "execution_count": 15,
      "metadata": {
        "colab": {
          "base_uri": "https://localhost:8080/"
        },
        "id": "JXy2P_oVv3LS",
        "outputId": "05539fc1-c6d4-4281-baf7-63fabd97ab53"
      },
      "outputs": [
        {
          "name": "stderr",
          "output_type": "stream",
          "text": [
            "100%|██████████| 1875/1875 [03:49<00:00,  8.16it/s]\n"
          ]
        },
        {
          "name": "stdout",
          "output_type": "stream",
          "text": [
            "Epoch 1/20 \n",
            "Recon: 0.5472880179643631, KL: 0.0017333504274487496, Total: 0.5490213683918118Test loss: 0.2598460753219196\n"
          ]
        },
        {
          "name": "stderr",
          "output_type": "stream",
          "text": [
            "100%|██████████| 1875/1875 [03:50<00:00,  8.13it/s]\n"
          ]
        },
        {
          "name": "stdout",
          "output_type": "stream",
          "text": [
            "Epoch 2/20 \n",
            "Recon: 0.23071139833927154, KL: 3.149995704491933e-06, Total: 0.23071454833497604Test loss: 0.21197512641120642\n"
          ]
        },
        {
          "name": "stderr",
          "output_type": "stream",
          "text": [
            "100%|██████████| 1875/1875 [03:50<00:00,  8.15it/s]\n"
          ]
        },
        {
          "name": "stdout",
          "output_type": "stream",
          "text": [
            "Epoch 3/20 \n",
            "Recon: 0.2062042684475581, KL: 1.6146441300710042e-06, Total: 0.20620588309168816Test loss: 0.1977931668107121\n"
          ]
        },
        {
          "name": "stderr",
          "output_type": "stream",
          "text": [
            "100%|██████████| 1875/1875 [03:50<00:00,  8.13it/s]\n"
          ]
        },
        {
          "name": "stdout",
          "output_type": "stream",
          "text": [
            "Epoch 4/20 \n",
            "Recon: 0.19532447420756022, KL: 1.4453450838724773e-06, Total: 0.19532591955264408Test loss: 0.18958742511919893\n"
          ]
        },
        {
          "name": "stderr",
          "output_type": "stream",
          "text": [
            "100%|██████████| 1875/1875 [03:50<00:00,  8.13it/s]\n"
          ]
        },
        {
          "name": "stdout",
          "output_type": "stream",
          "text": [
            "Epoch 5/20 \n",
            "Recon: 0.18957957582473756, KL: 1.3471737504005433e-06, Total: 0.18958092299848794Test loss: 0.18562654503427756\n"
          ]
        },
        {
          "name": "stderr",
          "output_type": "stream",
          "text": [
            "100%|██████████| 1875/1875 [03:50<00:00,  8.13it/s]\n"
          ]
        },
        {
          "name": "stdout",
          "output_type": "stream",
          "text": [
            "Epoch 6/20 \n",
            "Recon: 0.18603948655923208, KL: 1.2765288352966308e-06, Total: 0.18604076308806738Test loss: 0.18316643401837576\n"
          ]
        },
        {
          "name": "stderr",
          "output_type": "stream",
          "text": [
            "100%|██████████| 1875/1875 [03:50<00:00,  8.13it/s]\n"
          ]
        },
        {
          "name": "stdout",
          "output_type": "stream",
          "text": [
            "Epoch 7/20 \n",
            "Recon: 0.18360463693936666, KL: 1.2110774715741476e-06, Total: 0.18360584801683824Test loss: 0.1810889269311588\n"
          ]
        },
        {
          "name": "stderr",
          "output_type": "stream",
          "text": [
            "100%|██████████| 1875/1875 [03:50<00:00,  8.13it/s]\n"
          ]
        },
        {
          "name": "stdout",
          "output_type": "stream",
          "text": [
            "Epoch 8/20 \n",
            "Recon: 0.18177400091489157, KL: 1.1684954166412353e-06, Total: 0.1817751694103082Test loss: 0.17931947012107594\n"
          ]
        },
        {
          "name": "stderr",
          "output_type": "stream",
          "text": [
            "100%|██████████| 1875/1875 [03:50<00:00,  8.12it/s]\n"
          ]
        },
        {
          "name": "stdout",
          "output_type": "stream",
          "text": [
            "Epoch 9/20 \n",
            "Recon: 0.18032067112922667, KL: 1.1353363593419394e-06, Total: 0.18032180646558602Test loss: 0.1784009018454689\n"
          ]
        },
        {
          "name": "stderr",
          "output_type": "stream",
          "text": [
            "100%|██████████| 1875/1875 [03:50<00:00,  8.12it/s]\n"
          ]
        },
        {
          "name": "stdout",
          "output_type": "stream",
          "text": [
            "Epoch 10/20 \n",
            "Recon: 0.17884599049886069, KL: 1.1111795902252196e-06, Total: 0.17884710167845091Test loss: 0.17658927084538883\n"
          ]
        },
        {
          "name": "stderr",
          "output_type": "stream",
          "text": [
            "100%|██████████| 1875/1875 [03:50<00:00,  8.12it/s]\n"
          ]
        },
        {
          "name": "stdout",
          "output_type": "stream",
          "text": [
            "Epoch 11/20 \n",
            "Recon: 0.17739094741344452, KL: 1.0775466759999593e-06, Total: 0.17739202496012052Test loss: 0.17551769582798687\n"
          ]
        },
        {
          "name": "stderr",
          "output_type": "stream",
          "text": [
            "100%|██████████| 1875/1875 [03:50<00:00,  8.13it/s]\n"
          ]
        },
        {
          "name": "stdout",
          "output_type": "stream",
          "text": [
            "Epoch 12/20 \n",
            "Recon: 0.17640698831081392, KL: 1.0677849253018696e-06, Total: 0.1764080560957392Test loss: 0.17494767456770705\n"
          ]
        },
        {
          "name": "stderr",
          "output_type": "stream",
          "text": [
            "100%|██████████| 1875/1875 [03:50<00:00,  8.14it/s]\n"
          ]
        },
        {
          "name": "stdout",
          "output_type": "stream",
          "text": [
            "Epoch 13/20 \n",
            "Recon: 0.1755021230618159, KL: 1.0494003693262735e-06, Total: 0.17550317246218522Test loss: 0.1740471024673206\n"
          ]
        },
        {
          "name": "stderr",
          "output_type": "stream",
          "text": [
            "100%|██████████| 1875/1875 [03:50<00:00,  8.12it/s]\n"
          ]
        },
        {
          "name": "stdout",
          "output_type": "stream",
          "text": [
            "Epoch 14/20 \n",
            "Recon: 0.17464195812543234, KL: 1.028837263584137e-06, Total: 0.17464298696269592Test loss: 0.17380355469906292\n"
          ]
        },
        {
          "name": "stderr",
          "output_type": "stream",
          "text": [
            "100%|██████████| 1875/1875 [03:50<00:00,  8.12it/s]\n"
          ]
        },
        {
          "name": "stdout",
          "output_type": "stream",
          "text": [
            "Epoch 15/20 \n",
            "Recon: 0.17395848565896352, KL: 1.02204034725825e-06, Total: 0.1739595076993108Test loss: 0.17271813821678345\n"
          ]
        },
        {
          "name": "stderr",
          "output_type": "stream",
          "text": [
            "100%|██████████| 1875/1875 [03:50<00:00,  8.12it/s]\n"
          ]
        },
        {
          "name": "stdout",
          "output_type": "stream",
          "text": [
            "Epoch 16/20 \n",
            "Recon: 0.17315408058961232, KL: 1.0151808460553487e-06, Total: 0.17315509577045837Test loss: 0.17189519302532696\n"
          ]
        },
        {
          "name": "stderr",
          "output_type": "stream",
          "text": [
            "100%|██████████| 1875/1875 [03:50<00:00,  8.13it/s]\n"
          ]
        },
        {
          "name": "stdout",
          "output_type": "stream",
          "text": [
            "Epoch 17/20 \n",
            "Recon: 0.17244534064133962, KL: 1.0067999362945557e-06, Total: 0.1724463474412759Test loss: 0.17143375719317233\n"
          ]
        },
        {
          "name": "stderr",
          "output_type": "stream",
          "text": [
            "100%|██████████| 1875/1875 [03:50<00:00,  8.13it/s]\n"
          ]
        },
        {
          "name": "stdout",
          "output_type": "stream",
          "text": [
            "Epoch 18/20 \n",
            "Recon: 0.17165377465089163, KL: 1.0022883613904317e-06, Total: 0.17165477693925302Test loss: 0.170221743777918\n"
          ]
        },
        {
          "name": "stderr",
          "output_type": "stream",
          "text": [
            "100%|██████████| 1875/1875 [03:49<00:00,  8.19it/s]\n"
          ]
        },
        {
          "name": "stdout",
          "output_type": "stream",
          "text": [
            "Epoch 19/20 \n",
            "Recon: 0.17089846772352854, KL: 9.930402040481568e-07, Total: 0.17089946076373258Test loss: 0.16999860722036025\n"
          ]
        },
        {
          "name": "stderr",
          "output_type": "stream",
          "text": [
            "100%|██████████| 1875/1875 [03:51<00:00,  8.11it/s]\n"
          ]
        },
        {
          "name": "stdout",
          "output_type": "stream",
          "text": [
            "Epoch 20/20 \n",
            "Recon: 0.17019547630945842, KL: 9.882956743240357e-07, Total: 0.17019646460513274Test loss: 0.16894290531976536\n"
          ]
        }
      ],
      "source": [
        "model = ConditionalPixelVAE(in_channels=1,\n",
        "                 latent_dim=128,\n",
        "                 hidden_layers=15).to(device)\n",
        "optimiser = torch.optim.Adam(model.parameters(), lr=1e-4)\n",
        "# scheduler = torch.optim.lr_scheduler.StepLR(optimiser, step_size=10, gamma=0.5)\n",
        "epochs = 20\n",
        "scheduler = torch.optim.lr_scheduler.OneCycleLR(\n",
        "    optimiser, max_lr=1e-4, total_steps=epochs*len(train_loader),\n",
        "    pct_start=0.1, anneal_strategy='cos', div_factor=10)\n",
        "\n",
        "for epoch in range(epochs):\n",
        "    model.train()\n",
        "    epoch_reconstruction_loss, epoch_regularisation_loss = 0.0, 0.0\n",
        "\n",
        "    for imgs, labels in tqdm(train_loader):\n",
        "        imgs = imgs.to(device)\n",
        "        labels = labels.to(device)\n",
        "\n",
        "        optimiser.zero_grad()\n",
        "\n",
        "        pixel_targets = torch.clamp((imgs * 4).long(), max=3)   # used to create 4-bin mnist to [0,3] range\n",
        "        mu, logvar, z, logits = model(pixel_targets.float(), labels)\n",
        "\n",
        "        # reconstruction: sum over pixels, avg over batch\n",
        "        reconstruction_loss = F.cross_entropy(logits, pixel_targets.squeeze(1))\n",
        "\n",
        "        # KL divergence\n",
        "        regularisation_loss = -0.5 * torch.sum(1 + logvar - mu.pow(2) - logvar.exp(), dim=1).mean()\n",
        "\n",
        "        loss = reconstruction_loss + regularisation_loss\n",
        "        loss.backward()\n",
        "        torch.nn.utils.clip_grad_norm_(model.parameters(), max_norm=1.0)\n",
        "        optimiser.step()\n",
        "\n",
        "        epoch_reconstruction_loss += reconstruction_loss.item()\n",
        "        epoch_regularisation_loss += regularisation_loss.item()\n",
        "\n",
        "    scheduler.step()\n",
        "\n",
        "    model.eval()    # calculate test loss\n",
        "    running_val_loss = 0.0\n",
        "    with torch.inference_mode():\n",
        "        for img, label in test_loader:\n",
        "            img = img.to(device)\n",
        "            label = label.to(device)\n",
        "            pixel_targets  = torch.clamp((img * 4).long(), max=3)   # (B,1,H,W)\n",
        "\n",
        "            mu, logvar, z, logits = model(pixel_targets.float(), label)\n",
        "            loss = F.cross_entropy(logits, pixel_targets.squeeze(1))\n",
        "            running_val_loss += loss.item()\n",
        "\n",
        "    avg_val_loss = running_val_loss / len(test_loader)\n",
        "\n",
        "    print(f\"Epoch {epoch+1}/{epochs} \\nRecon: {epoch_reconstruction_loss/len(train_loader)}, \"\n",
        "          f\"KL: {epoch_regularisation_loss/len(train_loader)}, Total: {(epoch_reconstruction_loss+epoch_regularisation_loss)/len(train_loader)}\"\n",
        "          f\"Test loss: {avg_val_loss}\")"
      ]
    },
    {
      "cell_type": "code",
      "execution_count": 16,
      "metadata": {
        "id": "KmmFJDxxv5aM"
      },
      "outputs": [],
      "source": [
        "# Save the model's state dictionary\n",
        "torch.save(model.state_dict(), 'conditional_pixelvae_4_way_model_epochs_20_v3.pth')\n",
        "\n",
        "torch.save(optimiser.state_dict(), 'conditional_pixelvae_4_way_optimiser_epochs_20_v3.pth')"
      ]
    },
    {
      "cell_type": "code",
      "execution_count": null,
      "metadata": {
        "colab": {
          "base_uri": "https://localhost:8080/"
        },
        "id": "V4ezR-Uov620",
        "outputId": "877293ce-1656-421a-f2b5-b3b5f5dae98d"
      },
      "outputs": [
        {
          "data": {
            "text/plain": [
              "ConditionalPixelVAE(\n",
              "  (encoder): Encoder(\n",
              "    (net): Sequential(\n",
              "      (0): Conv2d(1, 32, kernel_size=(3, 3), stride=(1, 1), padding=same)\n",
              "      (1): ReLU()\n",
              "      (2): Conv2d(32, 32, kernel_size=(3, 3), stride=(2, 2), padding=(1, 1))\n",
              "      (3): ReLU()\n",
              "      (4): Conv2d(32, 32, kernel_size=(3, 3), stride=(1, 1), padding=same)\n",
              "      (5): ReLU()\n",
              "      (6): Conv2d(32, 64, kernel_size=(3, 3), stride=(2, 2), padding=(1, 1))\n",
              "      (7): ReLU()\n",
              "      (8): ZeroPad2d((0, 1, 0, 1))\n",
              "      (9): ReLU()\n",
              "      (10): Conv2d(64, 64, kernel_size=(3, 3), stride=(1, 1), padding=same)\n",
              "      (11): ReLU()\n",
              "      (12): Conv2d(64, 64, kernel_size=(3, 3), stride=(2, 2), padding=(1, 1))\n",
              "      (13): ReLU()\n",
              "      (14): Conv2d(64, 64, kernel_size=(3, 3), stride=(1, 1), padding=same)\n",
              "      (15): ReLU()\n",
              "      (16): Conv2d(64, 64, kernel_size=(3, 3), stride=(1, 1), padding=same)\n",
              "      (17): ReLU()\n",
              "      (18): Conv2d(64, 64, kernel_size=(3, 3), stride=(1, 1), padding=same)\n",
              "      (19): ReLU()\n",
              "      (20): Flatten(start_dim=1, end_dim=-1)\n",
              "      (21): Linear(in_features=1024, out_features=64, bias=True)\n",
              "    )\n",
              "    (label_embedding): Embedding(10, 1)\n",
              "  )\n",
              "  (decoder): ConditionalDecoder(\n",
              "    (causal_block): CausalBlock(\n",
              "      (vertical_fc): Conv2d(1, 64, kernel_size=(1, 1), stride=(1, 1))\n",
              "      (vertical_conv): CroppedConvolution2D(\n",
              "        (conv): Conv2d(1, 64, kernel_size=(4, 7), stride=(1, 1), padding=(4, 3))\n",
              "      )\n",
              "      (vertical_to_horizontal): Conv2d(64, 64, kernel_size=(1, 1), stride=(1, 1))\n",
              "      (horizontal_conv): MaskedConvolution2D(\n",
              "        (conv): Conv2d(1, 64, kernel_size=(1, 7), stride=(1, 1), padding=(0, 3))\n",
              "      )\n",
              "      (horizontal_fc): MaskedConvolution2D(\n",
              "        (conv): Conv2d(32, 32, kernel_size=(1, 1), stride=(1, 1))\n",
              "      )\n",
              "    )\n",
              "    (gated_blocks): Sequential(\n",
              "      (0): GatedBlock(\n",
              "        (vertical_fc): Conv2d(32, 64, kernel_size=(1, 1), stride=(1, 1))\n",
              "        (vertical_to_horizontal): MaskedConvolution2D(\n",
              "          (conv): Conv2d(64, 64, kernel_size=(1, 1), stride=(1, 1))\n",
              "        )\n",
              "        (vertical_conv): CroppedConvolution2D(\n",
              "          (conv): Conv2d(32, 64, kernel_size=(3, 5), stride=(1, 1), padding=(3, 2))\n",
              "        )\n",
              "        (horizontal_conv): MaskedConvolution2D(\n",
              "          (conv): Conv2d(32, 64, kernel_size=(1, 5), stride=(1, 1), padding=(0, 2))\n",
              "        )\n",
              "        (horizontal_fc): MaskedConvolution2D(\n",
              "          (conv): Conv2d(32, 32, kernel_size=(1, 1), stride=(1, 1))\n",
              "        )\n",
              "        (horizontal_skip): MaskedConvolution2D(\n",
              "          (conv): Conv2d(32, 32, kernel_size=(1, 1), stride=(1, 1))\n",
              "        )\n",
              "        (latent_embedding): Linear(in_features=32, out_features=64, bias=True)\n",
              "        (label_embedding): Embedding(10, 64)\n",
              "      )\n",
              "      (1): GatedBlock(\n",
              "        (vertical_fc): Conv2d(32, 64, kernel_size=(1, 1), stride=(1, 1))\n",
              "        (vertical_to_horizontal): MaskedConvolution2D(\n",
              "          (conv): Conv2d(64, 64, kernel_size=(1, 1), stride=(1, 1))\n",
              "        )\n",
              "        (vertical_conv): CroppedConvolution2D(\n",
              "          (conv): Conv2d(32, 64, kernel_size=(3, 5), stride=(1, 1), padding=(3, 2))\n",
              "        )\n",
              "        (horizontal_conv): MaskedConvolution2D(\n",
              "          (conv): Conv2d(32, 64, kernel_size=(1, 5), stride=(1, 1), padding=(0, 2))\n",
              "        )\n",
              "        (horizontal_fc): MaskedConvolution2D(\n",
              "          (conv): Conv2d(32, 32, kernel_size=(1, 1), stride=(1, 1))\n",
              "        )\n",
              "        (horizontal_skip): MaskedConvolution2D(\n",
              "          (conv): Conv2d(32, 32, kernel_size=(1, 1), stride=(1, 1))\n",
              "        )\n",
              "        (latent_embedding): Linear(in_features=32, out_features=64, bias=True)\n",
              "        (label_embedding): Embedding(10, 64)\n",
              "      )\n",
              "      (2): GatedBlock(\n",
              "        (vertical_fc): Conv2d(32, 64, kernel_size=(1, 1), stride=(1, 1))\n",
              "        (vertical_to_horizontal): MaskedConvolution2D(\n",
              "          (conv): Conv2d(64, 64, kernel_size=(1, 1), stride=(1, 1))\n",
              "        )\n",
              "        (vertical_conv): CroppedConvolution2D(\n",
              "          (conv): Conv2d(32, 64, kernel_size=(3, 5), stride=(1, 1), padding=(3, 2))\n",
              "        )\n",
              "        (horizontal_conv): MaskedConvolution2D(\n",
              "          (conv): Conv2d(32, 64, kernel_size=(1, 5), stride=(1, 1), padding=(0, 2))\n",
              "        )\n",
              "        (horizontal_fc): MaskedConvolution2D(\n",
              "          (conv): Conv2d(32, 32, kernel_size=(1, 1), stride=(1, 1))\n",
              "        )\n",
              "        (horizontal_skip): MaskedConvolution2D(\n",
              "          (conv): Conv2d(32, 32, kernel_size=(1, 1), stride=(1, 1))\n",
              "        )\n",
              "        (latent_embedding): Linear(in_features=32, out_features=64, bias=True)\n",
              "        (label_embedding): Embedding(10, 64)\n",
              "      )\n",
              "      (3): GatedBlock(\n",
              "        (vertical_fc): Conv2d(32, 64, kernel_size=(1, 1), stride=(1, 1))\n",
              "        (vertical_to_horizontal): MaskedConvolution2D(\n",
              "          (conv): Conv2d(64, 64, kernel_size=(1, 1), stride=(1, 1))\n",
              "        )\n",
              "        (vertical_conv): CroppedConvolution2D(\n",
              "          (conv): Conv2d(32, 64, kernel_size=(3, 5), stride=(1, 1), padding=(3, 2))\n",
              "        )\n",
              "        (horizontal_conv): MaskedConvolution2D(\n",
              "          (conv): Conv2d(32, 64, kernel_size=(1, 5), stride=(1, 1), padding=(0, 2))\n",
              "        )\n",
              "        (horizontal_fc): MaskedConvolution2D(\n",
              "          (conv): Conv2d(32, 32, kernel_size=(1, 1), stride=(1, 1))\n",
              "        )\n",
              "        (horizontal_skip): MaskedConvolution2D(\n",
              "          (conv): Conv2d(32, 32, kernel_size=(1, 1), stride=(1, 1))\n",
              "        )\n",
              "        (latent_embedding): Linear(in_features=32, out_features=64, bias=True)\n",
              "        (label_embedding): Embedding(10, 64)\n",
              "      )\n",
              "      (4): GatedBlock(\n",
              "        (vertical_fc): Conv2d(32, 64, kernel_size=(1, 1), stride=(1, 1))\n",
              "        (vertical_to_horizontal): MaskedConvolution2D(\n",
              "          (conv): Conv2d(64, 64, kernel_size=(1, 1), stride=(1, 1))\n",
              "        )\n",
              "        (vertical_conv): CroppedConvolution2D(\n",
              "          (conv): Conv2d(32, 64, kernel_size=(3, 5), stride=(1, 1), padding=(3, 2))\n",
              "        )\n",
              "        (horizontal_conv): MaskedConvolution2D(\n",
              "          (conv): Conv2d(32, 64, kernel_size=(1, 5), stride=(1, 1), padding=(0, 2))\n",
              "        )\n",
              "        (horizontal_fc): MaskedConvolution2D(\n",
              "          (conv): Conv2d(32, 32, kernel_size=(1, 1), stride=(1, 1))\n",
              "        )\n",
              "        (horizontal_skip): MaskedConvolution2D(\n",
              "          (conv): Conv2d(32, 32, kernel_size=(1, 1), stride=(1, 1))\n",
              "        )\n",
              "        (latent_embedding): Linear(in_features=32, out_features=64, bias=True)\n",
              "        (label_embedding): Embedding(10, 64)\n",
              "      )\n",
              "    )\n",
              "    (label_embedding): Embedding(10, 32)\n",
              "    (conv_1): Conv2d(32, 64, kernel_size=(1, 1), stride=(1, 1))\n",
              "    (conditional_gate_1): ConditionalGate(\n",
              "      (latent_embedding_tanh): Linear(in_features=32, out_features=32, bias=True)\n",
              "      (latent_embedding_sigmoid): Linear(in_features=32, out_features=32, bias=True)\n",
              "      (label_embedding_tanh): Embedding(10, 32)\n",
              "      (label_embedding_sigmoid): Embedding(10, 32)\n",
              "    )\n",
              "    (conv_2): Conv2d(32, 64, kernel_size=(1, 1), stride=(1, 1))\n",
              "    (conditional_gate_2): ConditionalGate(\n",
              "      (latent_embedding_tanh): Linear(in_features=32, out_features=32, bias=True)\n",
              "      (latent_embedding_sigmoid): Linear(in_features=32, out_features=32, bias=True)\n",
              "      (label_embedding_tanh): Embedding(10, 32)\n",
              "      (label_embedding_sigmoid): Embedding(10, 32)\n",
              "    )\n",
              "    (conv_3): Conv2d(32, 1, kernel_size=(1, 1), stride=(1, 1))\n",
              "  )\n",
              ")"
            ]
          },
          "execution_count": 17,
          "metadata": {},
          "output_type": "execute_result"
        }
      ],
      "source": [
        "# @title Sample images\n",
        "\n",
        "model = ConditionalPixelVAE(in_channels=1,\n",
        "                 latent_dim=32,\n",
        "                 hidden_layers=5)  # Create an instance of your model\n",
        "\n",
        "model.load_state_dict(torch.load('conditional_pixelvae_model_latent_32.pth')) # Load the saved state dictionary\n",
        "model.to(device)"
      ]
    },
    {
      "cell_type": "code",
      "execution_count": 17,
      "metadata": {
        "id": "rinm4mT5v-58"
      },
      "outputs": [
        {
          "data": {
            "image/png": "[encoded data removed]",
            "text/plain": [
              "<Figure size 1200x1200 with 100 Axes>"
            ]
          },
          "metadata": {},
          "output_type": "display_data"
        }
      ],
      "source": [
        "# @title Plot images according to class\n",
        "import torch\n",
        "import matplotlib.pyplot as plt\n",
        "\n",
        "num_classes = 10\n",
        "num_samples_per_class = 10\n",
        "\n",
        "generated_images = []\n",
        "for class_label in range(num_classes):\n",
        "    class_images = model.sample(    # use sample function\n",
        "        image_size=(28, 28),\n",
        "        num_samples=num_samples_per_class,\n",
        "        labels=torch.full((num_samples_per_class,), class_label, dtype=torch.long),\n",
        "        device=device\n",
        "    )\n",
        "    generated_images.append(class_images)\n",
        "\n",
        "fig, axes = plt.subplots(num_samples_per_class, num_classes, figsize=(12, 12))\n",
        "\n",
        "for col in range(num_classes):\n",
        "    for row in range(num_samples_per_class):\n",
        "        ax = axes[row, col]\n",
        "        img = generated_images[col][row].squeeze().cpu().numpy()\n",
        "        ax.imshow(img, cmap=\"gray\")\n",
        "        ax.axis(\"off\")\n",
        "\n",
        "    axes[0, col].set_title(f\"Class {col}\", size='large', pad=10)\n",
        "\n",
        "plt.tight_layout()\n",
        "plt.show()"
      ]
    },
    {
      "cell_type": "code",
      "execution_count": 18,
      "metadata": {
        "id": "keZQhSJYEO2M"
      },
      "outputs": [
        {
          "name": "stdout",
          "output_type": "stream",
          "text": [
            "+------------------------------------------------------------+------------+\n",
            "|                          Modules                           | Parameters |\n",
            "+------------------------------------------------------------+------------+\n",
            "|                    encoder.net.0.weight                    |    288     |\n",
            "|                     encoder.net.0.bias                     |     32     |\n",
            "|                    encoder.net.2.weight                    |    9216    |\n",
            "|                     encoder.net.2.bias                     |     32     |\n",
            "|                    encoder.net.4.weight                    |    9216    |\n",
            "|                     encoder.net.4.bias                     |     32     |\n",
            "|                    encoder.net.6.weight                    |   18432    |\n",
            "|                     encoder.net.6.bias                     |     64     |\n",
            "|                   encoder.net.10.weight                    |   36864    |\n",
            "|                    encoder.net.10.bias                     |     64     |\n",
            "|                   encoder.net.12.weight                    |   36864    |\n",
            "|                    encoder.net.12.bias                     |     64     |\n",
            "|                   encoder.net.14.weight                    |   36864    |\n",
            "|                    encoder.net.14.bias                     |     64     |\n",
            "|                   encoder.net.16.weight                    |   36864    |\n",
            "|                    encoder.net.16.bias                     |     64     |\n",
            "|                   encoder.net.18.weight                    |   36864    |\n",
            "|                    encoder.net.18.bias                     |     64     |\n",
            "|                   encoder.net.21.weight                    |   262144   |\n",
            "|                    encoder.net.21.bias                     |    256     |\n",
            "|               encoder.label_embedding.weight               |     10     |\n",
            "|          decoder.causal_block.vertical_fc.weight           |    256     |\n",
            "|           decoder.causal_block.vertical_fc.bias            |    256     |\n",
            "|       decoder.causal_block.vertical_conv.conv.weight       |    7168    |\n",
            "|        decoder.causal_block.vertical_conv.conv.bias        |    256     |\n",
            "|     decoder.causal_block.vertical_to_horizontal.weight     |   65536    |\n",
            "|      decoder.causal_block.vertical_to_horizontal.bias      |    256     |\n",
            "|      decoder.causal_block.horizontal_conv.conv.weight      |    1792    |\n",
            "|       decoder.causal_block.horizontal_conv.conv.bias       |    256     |\n",
            "|       decoder.causal_block.horizontal_fc.conv.weight       |   16384    |\n",
            "|        decoder.causal_block.horizontal_fc.conv.bias        |    128     |\n",
            "|         decoder.gated_blocks.0.vertical_fc.weight          |   32768    |\n",
            "|          decoder.gated_blocks.0.vertical_fc.bias           |    256     |\n",
            "| decoder.gated_blocks.0.vertical_to_horizontal.conv.weight  |   65536    |\n",
            "|  decoder.gated_blocks.0.vertical_to_horizontal.conv.bias   |    256     |\n",
            "|      decoder.gated_blocks.0.vertical_conv.conv.weight      |   491520   |\n",
            "|       decoder.gated_blocks.0.vertical_conv.conv.bias       |    256     |\n",
            "|     decoder.gated_blocks.0.horizontal_conv.conv.weight     |   163840   |\n",
            "|      decoder.gated_blocks.0.horizontal_conv.conv.bias      |    256     |\n",
            "|      decoder.gated_blocks.0.horizontal_fc.conv.weight      |   16384    |\n",
            "|       decoder.gated_blocks.0.horizontal_fc.conv.bias       |    128     |\n",
            "|     decoder.gated_blocks.0.horizontal_skip.conv.weight     |   16384    |\n",
            "|      decoder.gated_blocks.0.horizontal_skip.conv.bias      |    128     |\n",
            "|       decoder.gated_blocks.0.latent_embedding.weight       |   32768    |\n",
            "|        decoder.gated_blocks.0.latent_embedding.bias        |    256     |\n",
            "|       decoder.gated_blocks.0.label_embedding.weight        |    2560    |\n",
            "|         decoder.gated_blocks.1.vertical_fc.weight          |   32768    |\n",
            "|          decoder.gated_blocks.1.vertical_fc.bias           |    256     |\n",
            "| decoder.gated_blocks.1.vertical_to_horizontal.conv.weight  |   65536    |\n",
            "|  decoder.gated_blocks.1.vertical_to_horizontal.conv.bias   |    256     |\n",
            "|      decoder.gated_blocks.1.vertical_conv.conv.weight      |   491520   |\n",
            "|       decoder.gated_blocks.1.vertical_conv.conv.bias       |    256     |\n",
            "|     decoder.gated_blocks.1.horizontal_conv.conv.weight     |   163840   |\n",
            "|      decoder.gated_blocks.1.horizontal_conv.conv.bias      |    256     |\n",
            "|      decoder.gated_blocks.1.horizontal_fc.conv.weight      |   16384    |\n",
            "|       decoder.gated_blocks.1.horizontal_fc.conv.bias       |    128     |\n",
            "|     decoder.gated_blocks.1.horizontal_skip.conv.weight     |   16384    |\n",
            "|      decoder.gated_blocks.1.horizontal_skip.conv.bias      |    128     |\n",
            "|       decoder.gated_blocks.1.latent_embedding.weight       |   32768    |\n",
            "|        decoder.gated_blocks.1.latent_embedding.bias        |    256     |\n",
            "|       decoder.gated_blocks.1.label_embedding.weight        |    2560    |\n",
            "|         decoder.gated_blocks.2.vertical_fc.weight          |   32768    |\n",
            "|          decoder.gated_blocks.2.vertical_fc.bias           |    256     |\n",
            "| decoder.gated_blocks.2.vertical_to_horizontal.conv.weight  |   65536    |\n",
            "|  decoder.gated_blocks.2.vertical_to_horizontal.conv.bias   |    256     |\n",
            "|      decoder.gated_blocks.2.vertical_conv.conv.weight      |   491520   |\n",
            "|       decoder.gated_blocks.2.vertical_conv.conv.bias       |    256     |\n",
            "|     decoder.gated_blocks.2.horizontal_conv.conv.weight     |   163840   |\n",
            "|      decoder.gated_blocks.2.horizontal_conv.conv.bias      |    256     |\n",
            "|      decoder.gated_blocks.2.horizontal_fc.conv.weight      |   16384    |\n",
            "|       decoder.gated_blocks.2.horizontal_fc.conv.bias       |    128     |\n",
            "|     decoder.gated_blocks.2.horizontal_skip.conv.weight     |   16384    |\n",
            "|      decoder.gated_blocks.2.horizontal_skip.conv.bias      |    128     |\n",
            "|       decoder.gated_blocks.2.latent_embedding.weight       |   32768    |\n",
            "|        decoder.gated_blocks.2.latent_embedding.bias        |    256     |\n",
            "|       decoder.gated_blocks.2.label_embedding.weight        |    2560    |\n",
            "|         decoder.gated_blocks.3.vertical_fc.weight          |   32768    |\n",
            "|          decoder.gated_blocks.3.vertical_fc.bias           |    256     |\n",
            "| decoder.gated_blocks.3.vertical_to_horizontal.conv.weight  |   65536    |\n",
            "|  decoder.gated_blocks.3.vertical_to_horizontal.conv.bias   |    256     |\n",
            "|      decoder.gated_blocks.3.vertical_conv.conv.weight      |   491520   |\n",
            "|       decoder.gated_blocks.3.vertical_conv.conv.bias       |    256     |\n",
            "|     decoder.gated_blocks.3.horizontal_conv.conv.weight     |   163840   |\n",
            "|      decoder.gated_blocks.3.horizontal_conv.conv.bias      |    256     |\n",
            "|      decoder.gated_blocks.3.horizontal_fc.conv.weight      |   16384    |\n",
            "|       decoder.gated_blocks.3.horizontal_fc.conv.bias       |    128     |\n",
            "|     decoder.gated_blocks.3.horizontal_skip.conv.weight     |   16384    |\n",
            "|      decoder.gated_blocks.3.horizontal_skip.conv.bias      |    128     |\n",
            "|       decoder.gated_blocks.3.latent_embedding.weight       |   32768    |\n",
            "|        decoder.gated_blocks.3.latent_embedding.bias        |    256     |\n",
            "|       decoder.gated_blocks.3.label_embedding.weight        |    2560    |\n",
            "|         decoder.gated_blocks.4.vertical_fc.weight          |   32768    |\n",
            "|          decoder.gated_blocks.4.vertical_fc.bias           |    256     |\n",
            "| decoder.gated_blocks.4.vertical_to_horizontal.conv.weight  |   65536    |\n",
            "|  decoder.gated_blocks.4.vertical_to_horizontal.conv.bias   |    256     |\n",
            "|      decoder.gated_blocks.4.vertical_conv.conv.weight      |   491520   |\n",
            "|       decoder.gated_blocks.4.vertical_conv.conv.bias       |    256     |\n",
            "|     decoder.gated_blocks.4.horizontal_conv.conv.weight     |   163840   |\n",
            "|      decoder.gated_blocks.4.horizontal_conv.conv.bias      |    256     |\n",
            "|      decoder.gated_blocks.4.horizontal_fc.conv.weight      |   16384    |\n",
            "|       decoder.gated_blocks.4.horizontal_fc.conv.bias       |    128     |\n",
            "|     decoder.gated_blocks.4.horizontal_skip.conv.weight     |   16384    |\n",
            "|      decoder.gated_blocks.4.horizontal_skip.conv.bias      |    128     |\n",
            "|       decoder.gated_blocks.4.latent_embedding.weight       |   32768    |\n",
            "|        decoder.gated_blocks.4.latent_embedding.bias        |    256     |\n",
            "|       decoder.gated_blocks.4.label_embedding.weight        |    2560    |\n",
            "|         decoder.gated_blocks.5.vertical_fc.weight          |   32768    |\n",
            "|          decoder.gated_blocks.5.vertical_fc.bias           |    256     |\n",
            "| decoder.gated_blocks.5.vertical_to_horizontal.conv.weight  |   65536    |\n",
            "|  decoder.gated_blocks.5.vertical_to_horizontal.conv.bias   |    256     |\n",
            "|      decoder.gated_blocks.5.vertical_conv.conv.weight      |   491520   |\n",
            "|       decoder.gated_blocks.5.vertical_conv.conv.bias       |    256     |\n",
            "|     decoder.gated_blocks.5.horizontal_conv.conv.weight     |   163840   |\n",
            "|      decoder.gated_blocks.5.horizontal_conv.conv.bias      |    256     |\n",
            "|      decoder.gated_blocks.5.horizontal_fc.conv.weight      |   16384    |\n",
            "|       decoder.gated_blocks.5.horizontal_fc.conv.bias       |    128     |\n",
            "|     decoder.gated_blocks.5.horizontal_skip.conv.weight     |   16384    |\n",
            "|      decoder.gated_blocks.5.horizontal_skip.conv.bias      |    128     |\n",
            "|       decoder.gated_blocks.5.latent_embedding.weight       |   32768    |\n",
            "|        decoder.gated_blocks.5.latent_embedding.bias        |    256     |\n",
            "|       decoder.gated_blocks.5.label_embedding.weight        |    2560    |\n",
            "|         decoder.gated_blocks.6.vertical_fc.weight          |   32768    |\n",
            "|          decoder.gated_blocks.6.vertical_fc.bias           |    256     |\n",
            "| decoder.gated_blocks.6.vertical_to_horizontal.conv.weight  |   65536    |\n",
            "|  decoder.gated_blocks.6.vertical_to_horizontal.conv.bias   |    256     |\n",
            "|      decoder.gated_blocks.6.vertical_conv.conv.weight      |   491520   |\n",
            "|       decoder.gated_blocks.6.vertical_conv.conv.bias       |    256     |\n",
            "|     decoder.gated_blocks.6.horizontal_conv.conv.weight     |   163840   |\n",
            "|      decoder.gated_blocks.6.horizontal_conv.conv.bias      |    256     |\n",
            "|      decoder.gated_blocks.6.horizontal_fc.conv.weight      |   16384    |\n",
            "|       decoder.gated_blocks.6.horizontal_fc.conv.bias       |    128     |\n",
            "|     decoder.gated_blocks.6.horizontal_skip.conv.weight     |   16384    |\n",
            "|      decoder.gated_blocks.6.horizontal_skip.conv.bias      |    128     |\n",
            "|       decoder.gated_blocks.6.latent_embedding.weight       |   32768    |\n",
            "|        decoder.gated_blocks.6.latent_embedding.bias        |    256     |\n",
            "|       decoder.gated_blocks.6.label_embedding.weight        |    2560    |\n",
            "|         decoder.gated_blocks.7.vertical_fc.weight          |   32768    |\n",
            "|          decoder.gated_blocks.7.vertical_fc.bias           |    256     |\n",
            "| decoder.gated_blocks.7.vertical_to_horizontal.conv.weight  |   65536    |\n",
            "|  decoder.gated_blocks.7.vertical_to_horizontal.conv.bias   |    256     |\n",
            "|      decoder.gated_blocks.7.vertical_conv.conv.weight      |   491520   |\n",
            "|       decoder.gated_blocks.7.vertical_conv.conv.bias       |    256     |\n",
            "|     decoder.gated_blocks.7.horizontal_conv.conv.weight     |   163840   |\n",
            "|      decoder.gated_blocks.7.horizontal_conv.conv.bias      |    256     |\n",
            "|      decoder.gated_blocks.7.horizontal_fc.conv.weight      |   16384    |\n",
            "|       decoder.gated_blocks.7.horizontal_fc.conv.bias       |    128     |\n",
            "|     decoder.gated_blocks.7.horizontal_skip.conv.weight     |   16384    |\n",
            "|      decoder.gated_blocks.7.horizontal_skip.conv.bias      |    128     |\n",
            "|       decoder.gated_blocks.7.latent_embedding.weight       |   32768    |\n",
            "|        decoder.gated_blocks.7.latent_embedding.bias        |    256     |\n",
            "|       decoder.gated_blocks.7.label_embedding.weight        |    2560    |\n",
            "|         decoder.gated_blocks.8.vertical_fc.weight          |   32768    |\n",
            "|          decoder.gated_blocks.8.vertical_fc.bias           |    256     |\n",
            "| decoder.gated_blocks.8.vertical_to_horizontal.conv.weight  |   65536    |\n",
            "|  decoder.gated_blocks.8.vertical_to_horizontal.conv.bias   |    256     |\n",
            "|      decoder.gated_blocks.8.vertical_conv.conv.weight      |   491520   |\n",
            "|       decoder.gated_blocks.8.vertical_conv.conv.bias       |    256     |\n",
            "|     decoder.gated_blocks.8.horizontal_conv.conv.weight     |   163840   |\n",
            "|      decoder.gated_blocks.8.horizontal_conv.conv.bias      |    256     |\n",
            "|      decoder.gated_blocks.8.horizontal_fc.conv.weight      |   16384    |\n",
            "|       decoder.gated_blocks.8.horizontal_fc.conv.bias       |    128     |\n",
            "|     decoder.gated_blocks.8.horizontal_skip.conv.weight     |   16384    |\n",
            "|      decoder.gated_blocks.8.horizontal_skip.conv.bias      |    128     |\n",
            "|       decoder.gated_blocks.8.latent_embedding.weight       |   32768    |\n",
            "|        decoder.gated_blocks.8.latent_embedding.bias        |    256     |\n",
            "|       decoder.gated_blocks.8.label_embedding.weight        |    2560    |\n",
            "|         decoder.gated_blocks.9.vertical_fc.weight          |   32768    |\n",
            "|          decoder.gated_blocks.9.vertical_fc.bias           |    256     |\n",
            "| decoder.gated_blocks.9.vertical_to_horizontal.conv.weight  |   65536    |\n",
            "|  decoder.gated_blocks.9.vertical_to_horizontal.conv.bias   |    256     |\n",
            "|      decoder.gated_blocks.9.vertical_conv.conv.weight      |   491520   |\n",
            "|       decoder.gated_blocks.9.vertical_conv.conv.bias       |    256     |\n",
            "|     decoder.gated_blocks.9.horizontal_conv.conv.weight     |   163840   |\n",
            "|      decoder.gated_blocks.9.horizontal_conv.conv.bias      |    256     |\n",
            "|      decoder.gated_blocks.9.horizontal_fc.conv.weight      |   16384    |\n",
            "|       decoder.gated_blocks.9.horizontal_fc.conv.bias       |    128     |\n",
            "|     decoder.gated_blocks.9.horizontal_skip.conv.weight     |   16384    |\n",
            "|      decoder.gated_blocks.9.horizontal_skip.conv.bias      |    128     |\n",
            "|       decoder.gated_blocks.9.latent_embedding.weight       |   32768    |\n",
            "|        decoder.gated_blocks.9.latent_embedding.bias        |    256     |\n",
            "|       decoder.gated_blocks.9.label_embedding.weight        |    2560    |\n",
            "|         decoder.gated_blocks.10.vertical_fc.weight         |   32768    |\n",
            "|          decoder.gated_blocks.10.vertical_fc.bias          |    256     |\n",
            "| decoder.gated_blocks.10.vertical_to_horizontal.conv.weight |   65536    |\n",
            "|  decoder.gated_blocks.10.vertical_to_horizontal.conv.bias  |    256     |\n",
            "|     decoder.gated_blocks.10.vertical_conv.conv.weight      |   491520   |\n",
            "|      decoder.gated_blocks.10.vertical_conv.conv.bias       |    256     |\n",
            "|    decoder.gated_blocks.10.horizontal_conv.conv.weight     |   163840   |\n",
            "|     decoder.gated_blocks.10.horizontal_conv.conv.bias      |    256     |\n",
            "|     decoder.gated_blocks.10.horizontal_fc.conv.weight      |   16384    |\n",
            "|      decoder.gated_blocks.10.horizontal_fc.conv.bias       |    128     |\n",
            "|    decoder.gated_blocks.10.horizontal_skip.conv.weight     |   16384    |\n",
            "|     decoder.gated_blocks.10.horizontal_skip.conv.bias      |    128     |\n",
            "|      decoder.gated_blocks.10.latent_embedding.weight       |   32768    |\n",
            "|       decoder.gated_blocks.10.latent_embedding.bias        |    256     |\n",
            "|       decoder.gated_blocks.10.label_embedding.weight       |    2560    |\n",
            "|         decoder.gated_blocks.11.vertical_fc.weight         |   32768    |\n",
            "|          decoder.gated_blocks.11.vertical_fc.bias          |    256     |\n",
            "| decoder.gated_blocks.11.vertical_to_horizontal.conv.weight |   65536    |\n",
            "|  decoder.gated_blocks.11.vertical_to_horizontal.conv.bias  |    256     |\n",
            "|     decoder.gated_blocks.11.vertical_conv.conv.weight      |   491520   |\n",
            "|      decoder.gated_blocks.11.vertical_conv.conv.bias       |    256     |\n",
            "|    decoder.gated_blocks.11.horizontal_conv.conv.weight     |   163840   |\n",
            "|     decoder.gated_blocks.11.horizontal_conv.conv.bias      |    256     |\n",
            "|     decoder.gated_blocks.11.horizontal_fc.conv.weight      |   16384    |\n",
            "|      decoder.gated_blocks.11.horizontal_fc.conv.bias       |    128     |\n",
            "|    decoder.gated_blocks.11.horizontal_skip.conv.weight     |   16384    |\n",
            "|     decoder.gated_blocks.11.horizontal_skip.conv.bias      |    128     |\n",
            "|      decoder.gated_blocks.11.latent_embedding.weight       |   32768    |\n",
            "|       decoder.gated_blocks.11.latent_embedding.bias        |    256     |\n",
            "|       decoder.gated_blocks.11.label_embedding.weight       |    2560    |\n",
            "|         decoder.gated_blocks.12.vertical_fc.weight         |   32768    |\n",
            "|          decoder.gated_blocks.12.vertical_fc.bias          |    256     |\n",
            "| decoder.gated_blocks.12.vertical_to_horizontal.conv.weight |   65536    |\n",
            "|  decoder.gated_blocks.12.vertical_to_horizontal.conv.bias  |    256     |\n",
            "|     decoder.gated_blocks.12.vertical_conv.conv.weight      |   491520   |\n",
            "|      decoder.gated_blocks.12.vertical_conv.conv.bias       |    256     |\n",
            "|    decoder.gated_blocks.12.horizontal_conv.conv.weight     |   163840   |\n",
            "|     decoder.gated_blocks.12.horizontal_conv.conv.bias      |    256     |\n",
            "|     decoder.gated_blocks.12.horizontal_fc.conv.weight      |   16384    |\n",
            "|      decoder.gated_blocks.12.horizontal_fc.conv.bias       |    128     |\n",
            "|    decoder.gated_blocks.12.horizontal_skip.conv.weight     |   16384    |\n",
            "|     decoder.gated_blocks.12.horizontal_skip.conv.bias      |    128     |\n",
            "|      decoder.gated_blocks.12.latent_embedding.weight       |   32768    |\n",
            "|       decoder.gated_blocks.12.latent_embedding.bias        |    256     |\n",
            "|       decoder.gated_blocks.12.label_embedding.weight       |    2560    |\n",
            "|         decoder.gated_blocks.13.vertical_fc.weight         |   32768    |\n",
            "|          decoder.gated_blocks.13.vertical_fc.bias          |    256     |\n",
            "| decoder.gated_blocks.13.vertical_to_horizontal.conv.weight |   65536    |\n",
            "|  decoder.gated_blocks.13.vertical_to_horizontal.conv.bias  |    256     |\n",
            "|     decoder.gated_blocks.13.vertical_conv.conv.weight      |   491520   |\n",
            "|      decoder.gated_blocks.13.vertical_conv.conv.bias       |    256     |\n",
            "|    decoder.gated_blocks.13.horizontal_conv.conv.weight     |   163840   |\n",
            "|     decoder.gated_blocks.13.horizontal_conv.conv.bias      |    256     |\n",
            "|     decoder.gated_blocks.13.horizontal_fc.conv.weight      |   16384    |\n",
            "|      decoder.gated_blocks.13.horizontal_fc.conv.bias       |    128     |\n",
            "|    decoder.gated_blocks.13.horizontal_skip.conv.weight     |   16384    |\n",
            "|     decoder.gated_blocks.13.horizontal_skip.conv.bias      |    128     |\n",
            "|      decoder.gated_blocks.13.latent_embedding.weight       |   32768    |\n",
            "|       decoder.gated_blocks.13.latent_embedding.bias        |    256     |\n",
            "|       decoder.gated_blocks.13.label_embedding.weight       |    2560    |\n",
            "|         decoder.gated_blocks.14.vertical_fc.weight         |   32768    |\n",
            "|          decoder.gated_blocks.14.vertical_fc.bias          |    256     |\n",
            "| decoder.gated_blocks.14.vertical_to_horizontal.conv.weight |   65536    |\n",
            "|  decoder.gated_blocks.14.vertical_to_horizontal.conv.bias  |    256     |\n",
            "|     decoder.gated_blocks.14.vertical_conv.conv.weight      |   491520   |\n",
            "|      decoder.gated_blocks.14.vertical_conv.conv.bias       |    256     |\n",
            "|    decoder.gated_blocks.14.horizontal_conv.conv.weight     |   163840   |\n",
            "|     decoder.gated_blocks.14.horizontal_conv.conv.bias      |    256     |\n",
            "|     decoder.gated_blocks.14.horizontal_fc.conv.weight      |   16384    |\n",
            "|      decoder.gated_blocks.14.horizontal_fc.conv.bias       |    128     |\n",
            "|    decoder.gated_blocks.14.horizontal_skip.conv.weight     |   16384    |\n",
            "|     decoder.gated_blocks.14.horizontal_skip.conv.bias      |    128     |\n",
            "|      decoder.gated_blocks.14.latent_embedding.weight       |   32768    |\n",
            "|       decoder.gated_blocks.14.latent_embedding.bias        |    256     |\n",
            "|       decoder.gated_blocks.14.label_embedding.weight       |    2560    |\n",
            "|               decoder.label_embedding.weight               |    1280    |\n",
            "|                   decoder.conv_1.weight                    |   32768    |\n",
            "|                    decoder.conv_1.bias                     |    256     |\n",
            "|  decoder.conditional_gate_1.latent_embedding_tanh.weight   |   16384    |\n",
            "|   decoder.conditional_gate_1.latent_embedding_tanh.bias    |    128     |\n",
            "| decoder.conditional_gate_1.latent_embedding_sigmoid.weight |   16384    |\n",
            "|  decoder.conditional_gate_1.latent_embedding_sigmoid.bias  |    128     |\n",
            "|   decoder.conditional_gate_1.label_embedding_tanh.weight   |    1280    |\n",
            "| decoder.conditional_gate_1.label_embedding_sigmoid.weight  |    1280    |\n",
            "|                   decoder.conv_2.weight                    |   32768    |\n",
            "|                    decoder.conv_2.bias                     |    256     |\n",
            "|  decoder.conditional_gate_2.latent_embedding_tanh.weight   |   16384    |\n",
            "|   decoder.conditional_gate_2.latent_embedding_tanh.bias    |    128     |\n",
            "| decoder.conditional_gate_2.latent_embedding_sigmoid.weight |   16384    |\n",
            "|  decoder.conditional_gate_2.latent_embedding_sigmoid.bias  |    128     |\n",
            "|   decoder.conditional_gate_2.label_embedding_tanh.weight   |    1280    |\n",
            "| decoder.conditional_gate_2.label_embedding_sigmoid.weight  |    1280    |\n",
            "|                   decoder.conv_3.weight                    |    512     |\n",
            "|                    decoder.conv_3.bias                     |     4      |\n",
            "+------------------------------------------------------------+------------+\n",
            "Total Trainable Params: 13065102\n"
          ]
        },
        {
          "data": {
            "text/plain": [
              "13065102"
            ]
          },
          "execution_count": 18,
          "metadata": {},
          "output_type": "execute_result"
        }
      ],
      "source": [
        "from prettytable import PrettyTable\n",
        "\n",
        "def count_parameters(model):\n",
        "    table = PrettyTable([\"Modules\", \"Parameters\"])\n",
        "    total_params = 0\n",
        "    for name, parameter in model.named_parameters():\n",
        "        if not parameter.requires_grad:\n",
        "            continue\n",
        "        params = parameter.numel()\n",
        "        table.add_row([name, params])\n",
        "        total_params += params\n",
        "    print(table)\n",
        "    print(f\"Total Trainable Params: {total_params}\")\n",
        "    return total_params\n",
        "\n",
        "count_parameters(model)"
      ]
    },
    {
      "cell_type": "code",
      "execution_count": 20,
      "metadata": {},
      "outputs": [
        {
          "name": "stdout",
          "output_type": "stream",
          "text": [
            "Average NLL (nats per pixel): 0.1690034806543467\n",
            "Bits per dim: 0.24382048343299986\n"
          ]
        }
      ],
      "source": [
        "import math\n",
        "import torch\n",
        "import torch.nn as nn\n",
        "\n",
        "def compute_bits_per_dim(model, data_loader, device):\n",
        "    criterion = nn.CrossEntropyLoss(reduction='sum')\n",
        "    model.eval()\n",
        "    total_loss = 0.0\n",
        "    total_elements = 0\n",
        "    with torch.inference_mode():\n",
        "        for imgs, labels in data_loader:\n",
        "            imgs = imgs.to(device)\n",
        "            labels = labels.to(device)\n",
        "\n",
        "            batch_size = imgs.shape[0]\n",
        "        \n",
        "            num_pixels = imgs.shape[2] * imgs.shape[3]\n",
        "\n",
        "            pixel_targets = torch.clamp((imgs * 4).long(), max=3)\n",
        "            _, _, _, output = model(pixel_targets.float(), labels)\n",
        "            \n",
        "        \n",
        "            loss = criterion(output, pixel_targets.squeeze(1))\n",
        "            total_loss += loss.item()\n",
        "            total_elements += batch_size * num_pixels\n",
        "\n",
        "\n",
        "    average_nll = total_loss / total_elements\n",
        "\n",
        "    bits_per_dim = average_nll / math.log(2)\n",
        "    return average_nll, bits_per_dim\n",
        "\n",
        "average_nll, bits_dim = compute_bits_per_dim(model, test_loader, device)\n",
        "print(f\"Average NLL (nats per pixel): {average_nll}\")\n",
        "print(f\"Bits per dim: {bits_dim}\")"
      ]
    }
  ],
  "metadata": {
    "accelerator": "GPU",
    "colab": {
      "gpuType": "T4",
      "provenance": []
    },
    "kernelspec": {
      "display_name": "Python 3",
      "name": "python3"
    },
    "language_info": {
      "codemirror_mode": {
        "name": "ipython",
        "version": 3
      },
      "file_extension": ".py",
      "mimetype": "text/x-python",
      "name": "python",
      "nbconvert_exporter": "python",
      "pygments_lexer": "ipython3",
      "version": "3.10.12"
    }
  },
  "nbformat": 4,
  "nbformat_minor": 0
}
