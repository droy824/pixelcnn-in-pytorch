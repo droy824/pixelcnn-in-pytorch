{
  "nbformat": 4,
  "nbformat_minor": 0,
  "metadata": {
    "colab": {
      "provenance": [],
      "gpuType": "T4"
    },
    "kernelspec": {
      "name": "python3",
      "display_name": "Python 3"
    },
    "language_info": {
      "name": "python"
    },
    "accelerator": "GPU"
  },
  "cells": [
    {
      "cell_type": "code",
      "execution_count": 1,
      "metadata": {
        "id": "kVEX4M2uHRlV"
      },
      "outputs": [],
      "source": [
        "# @title Importing dependencies\n",
        "import numpy\n",
        "import torch\n",
        "import torch.nn as nn\n",
        "import torchvision\n",
        "import matplotlib.pyplot as plt"
      ]
    },
    {
      "cell_type": "code",
      "source": [
        "# @title Downloading MNIST dataset\n",
        "mnist_train = torchvision.datasets.MNIST('/files/', train=True, download=True,\n",
        "                            transform=torchvision.transforms.Compose([\n",
        "                                torchvision.transforms.ToTensor()\n",
        "                            ]))\n",
        "mnist_test = torchvision.datasets.MNIST('/files/', train=False, download=True,\n",
        "                            transform=torchvision.transforms.Compose([\n",
        "                                torchvision.transforms.ToTensor()\n",
        "                            ]))"
      ],
      "metadata": {
        "colab": {
          "base_uri": "https://localhost:8080/"
        },
        "collapsed": true,
        "id": "e9GTL8Cyw1dS",
        "outputId": "372bce44-89cf-4bbf-8a99-0aa7f0621585"
      },
      "execution_count": 2,
      "outputs": [
        {
          "output_type": "stream",
          "name": "stdout",
          "text": [
            "Downloading http://yann.lecun.com/exdb/mnist/train-images-idx3-ubyte.gz\n",
            "Failed to download (trying next):\n",
            "HTTP Error 404: Not Found\n",
            "\n",
            "Downloading https://ossci-datasets.s3.amazonaws.com/mnist/train-images-idx3-ubyte.gz\n",
            "Downloading https://ossci-datasets.s3.amazonaws.com/mnist/train-images-idx3-ubyte.gz to /files/MNIST/raw/train-images-idx3-ubyte.gz\n"
          ]
        },
        {
          "output_type": "stream",
          "name": "stderr",
          "text": [
            "100%|██████████| 9.91M/9.91M [00:01<00:00, 5.01MB/s]\n"
          ]
        },
        {
          "output_type": "stream",
          "name": "stdout",
          "text": [
            "Extracting /files/MNIST/raw/train-images-idx3-ubyte.gz to /files/MNIST/raw\n",
            "\n",
            "Downloading http://yann.lecun.com/exdb/mnist/train-labels-idx1-ubyte.gz\n",
            "Failed to download (trying next):\n",
            "HTTP Error 404: Not Found\n",
            "\n",
            "Downloading https://ossci-datasets.s3.amazonaws.com/mnist/train-labels-idx1-ubyte.gz\n",
            "Downloading https://ossci-datasets.s3.amazonaws.com/mnist/train-labels-idx1-ubyte.gz to /files/MNIST/raw/train-labels-idx1-ubyte.gz\n"
          ]
        },
        {
          "output_type": "stream",
          "name": "stderr",
          "text": [
            "100%|██████████| 28.9k/28.9k [00:00<00:00, 133kB/s]\n"
          ]
        },
        {
          "output_type": "stream",
          "name": "stdout",
          "text": [
            "Extracting /files/MNIST/raw/train-labels-idx1-ubyte.gz to /files/MNIST/raw\n",
            "\n",
            "Downloading http://yann.lecun.com/exdb/mnist/t10k-images-idx3-ubyte.gz\n",
            "Failed to download (trying next):\n",
            "HTTP Error 404: Not Found\n",
            "\n",
            "Downloading https://ossci-datasets.s3.amazonaws.com/mnist/t10k-images-idx3-ubyte.gz\n",
            "Downloading https://ossci-datasets.s3.amazonaws.com/mnist/t10k-images-idx3-ubyte.gz to /files/MNIST/raw/t10k-images-idx3-ubyte.gz\n"
          ]
        },
        {
          "output_type": "stream",
          "name": "stderr",
          "text": [
            "100%|██████████| 1.65M/1.65M [00:06<00:00, 246kB/s]\n"
          ]
        },
        {
          "output_type": "stream",
          "name": "stdout",
          "text": [
            "Extracting /files/MNIST/raw/t10k-images-idx3-ubyte.gz to /files/MNIST/raw\n",
            "\n",
            "Downloading http://yann.lecun.com/exdb/mnist/t10k-labels-idx1-ubyte.gz\n",
            "Failed to download (trying next):\n",
            "HTTP Error 404: Not Found\n",
            "\n",
            "Downloading https://ossci-datasets.s3.amazonaws.com/mnist/t10k-labels-idx1-ubyte.gz\n",
            "Downloading https://ossci-datasets.s3.amazonaws.com/mnist/t10k-labels-idx1-ubyte.gz to /files/MNIST/raw/t10k-labels-idx1-ubyte.gz\n"
          ]
        },
        {
          "output_type": "stream",
          "name": "stderr",
          "text": [
            "100%|██████████| 4.54k/4.54k [00:00<00:00, 4.62MB/s]\n"
          ]
        },
        {
          "output_type": "stream",
          "name": "stdout",
          "text": [
            "Extracting /files/MNIST/raw/t10k-labels-idx1-ubyte.gz to /files/MNIST/raw\n",
            "\n"
          ]
        }
      ]
    },
    {
      "cell_type": "code",
      "source": [
        "# @title Binarise MNIST data\n",
        "def binarise_mnist(mnist):\n",
        "    mnist_bin = []\n",
        "    for img, label in mnist:\n",
        "        mnist_bin.append((torch.where(img < 0.5, 0.0, 1.0), label))\n",
        "    return mnist_bin"
      ],
      "metadata": {
        "id": "MprVTSQO2aTQ"
      },
      "execution_count": 3,
      "outputs": []
    },
    {
      "cell_type": "code",
      "source": [
        "X_train = binarise_mnist(mnist_train)\n",
        "X_test = binarise_mnist(mnist_test)"
      ],
      "metadata": {
        "id": "Y4Q0pAc87z3K"
      },
      "execution_count": 4,
      "outputs": []
    },
    {
      "source": [
        "# @title Visualise MNIST and binarised MNIST\n",
        "import matplotlib.pyplot as plt\n",
        "\n",
        "# Get an example image and label from mnist_train\n",
        "img, label = mnist_train[0]\n",
        "\n",
        "# Get the corresponding binarised image and label from X_train\n",
        "binarised_img, binarised_label = X_train[0]\n",
        "\n",
        "# Create a figure with two subplots\n",
        "fig, axes = plt.subplots(1, 2)\n",
        "\n",
        "# Plot the regular MNIST image on the first subplot\n",
        "axes[0].imshow(img.squeeze(), cmap='gray')\n",
        "axes[0].set_title('Regular MNIST')\n",
        "\n",
        "# Plot the binarised MNIST image on the second subplot\n",
        "axes[1].imshow(binarised_img.squeeze(), cmap='gray')\n",
        "axes[1].set_title('Binarised MNIST')\n",
        "\n",
        "# Show the plot\n",
        "plt.show()"
      ],
      "cell_type": "code",
      "metadata": {
        "colab": {
          "base_uri": "https://localhost:8080/",
          "height": 308
        },
        "id": "rrElxbAR_x5P",
        "outputId": "2f147f49-8fe8-4d88-94aa-443d5d9c9a1f"
      },
      "execution_count": null,
      "outputs": [
        {
          "output_type": "display_data",
          "data": {
            "text/plain": [
              "<Figure size 640x480 with 2 Axes>"
            ],
            "image/png": "[encoded data removed]"
          },
          "metadata": {}
        }
      ]
    },
    {
      "cell_type": "markdown",
      "source": [
        "### Defining Classes for Model Architecture"
      ],
      "metadata": {
        "id": "yJU3FLW_3CU9"
      }
    },
    {
      "cell_type": "code",
      "source": [
        "class MaskedConvolution2D(nn.Module):\n",
        "    def __init__(self, in_channels, out_channels, kernel_size, mask_type):\n",
        "        super(MaskedConvolution2D, self).__init__()\n",
        "        self.in_channels = in_channels\n",
        "        self.out_channels = out_channels\n",
        "        self.kernel_size = kernel_size\n",
        "        self.mask_type = mask_type\n",
        "        self.conv = nn.Conv2d(self.in_channels, self.out_channels, self.kernel_size)\n",
        "        self.create_mask()\n",
        "\n",
        "    def create_mask(self):\n",
        "        mask = torch.ones(self.kernel_size, self.kernel_size)\n",
        "        mask[self.kernel_size // 2, self.kernel_size // 2:] = 0\n",
        "        mask[self.kernel_size // 2 + 1:, :] = 0\n",
        "        if self.mask_type == 'B':\n",
        "            mask[self.kernel_size // 2, self.kernel_size // 2] = 1\n",
        "        self.register_buffer('mask', mask)\n",
        "\n",
        "    def forward(self, X):\n",
        "        self.conv.weight.data = self.conv.weight.data * self.mask\n",
        "        return self.conv(X)"
      ],
      "metadata": {
        "id": "ctlO6HWXml6D"
      },
      "execution_count": 5,
      "outputs": []
    },
    {
      "cell_type": "code",
      "source": [
        "class ResidualBlock(nn.Module):\n",
        "    def __init__(self, hidden_channels):\n",
        "        super(ResidualBlock, self).__init__()\n",
        "        self.hidden_channels = hidden_channels\n",
        "        self.maskedconv1 = MaskedConvolution2D(2 * self.hidden_channels, self.hidden_channels, 1, 'A')\n",
        "        self.maskedconv2 = MaskedConvolution2D(self.hidden_channels, self.hidden_channels, 3, 'B')\n",
        "        self.maskedconv3 = MaskedConvolution2D(self.hidden_channels, 2 * self.hidden_channels, 1, 'B')\n",
        "        self.relu = nn.ReLU()\n",
        "        self.padding = nn.ZeroPad2d(1)\n",
        "\n",
        "    def forward(self, X):\n",
        "        out = self.maskedconv1(X)\n",
        "        out = self.relu(out)\n",
        "        out = self.padding(out)\n",
        "        out = self.maskedconv2(out)\n",
        "        out = self.relu(out)\n",
        "        out = self.maskedconv3(out)\n",
        "        out += X\n",
        "        return out"
      ],
      "metadata": {
        "id": "oIg_jYCkpQi9"
      },
      "execution_count": 6,
      "outputs": []
    },
    {
      "cell_type": "code",
      "source": [
        "class PixelCNN(nn.Module):\n",
        "    def __init__(self, hidden_channels, out_hidden_channels, residual_blocks):\n",
        "        super(PixelCNN, self).__init__()\n",
        "        self.hidden_channels = hidden_channels\n",
        "        self.out_hidden_channels = out_hidden_channels\n",
        "        self.residual_blocks = residual_blocks\n",
        "\n",
        "        layers = []\n",
        "        layers.append(nn.ZeroPad2d(3))\n",
        "        layers.append(MaskedConvolution2D(1, 2 * self.hidden_channels, 7, 'A'))\n",
        "        for _ in range(residual_blocks):\n",
        "            layers.append(ResidualBlock(self.hidden_channels))\n",
        "        # layers.append(MaskedConvolution2D(2 * self.hidden_channels, self.out_hidden_channels, 3, 'B'))\n",
        "        layers.append(nn.ReLU())\n",
        "        layers.append(MaskedConvolution2D(2 * self.hidden_channels, self.out_hidden_channels, 1, 'B'))\n",
        "        layers.append(nn.ReLU())\n",
        "        layers.append(MaskedConvolution2D(self.out_hidden_channels, 1, 1, 'B'))\n",
        "        layers.append(nn.Sigmoid())\n",
        "\n",
        "        self.net = nn.Sequential(*layers)\n",
        "\n",
        "    def forward(self, X):\n",
        "        return self.net(X)"
      ],
      "metadata": {
        "id": "7kpUDNQJySkB"
      },
      "execution_count": 14,
      "outputs": []
    },
    {
      "cell_type": "markdown",
      "source": [
        "Use padding to keep spatial dims the same!"
      ],
      "metadata": {
        "id": "aMwDTbqzJUOW"
      }
    },
    {
      "cell_type": "code",
      "source": [
        "model = PixelCNN(hidden_channels=4, out_hidden_channels=8, residual_blocks=2)\n",
        "img, label = X_train[0]\n",
        "y = model(img)\n",
        "img.shape, y.shape"
      ],
      "metadata": {
        "colab": {
          "base_uri": "https://localhost:8080/"
        },
        "id": "_dFlByndIZe1",
        "outputId": "016036ed-820c-468a-c5a3-ed3847080fcd"
      },
      "execution_count": null,
      "outputs": [
        {
          "output_type": "execute_result",
          "data": {
            "text/plain": [
              "(torch.Size([1, 28, 28]), torch.Size([1, 28, 28]))"
            ]
          },
          "metadata": {},
          "execution_count": 38
        }
      ]
    },
    {
      "cell_type": "code",
      "source": [
        "# Plot y\n",
        "plt.imshow(y.squeeze().detach().numpy(), cmap='gray')\n",
        "plt.show()"
      ],
      "metadata": {
        "colab": {
          "base_uri": "https://localhost:8080/",
          "height": 430
        },
        "id": "LM1lbXfiZVYr",
        "outputId": "5f4ef6a6-bbef-4c8e-ca96-38f540df4ea2"
      },
      "execution_count": null,
      "outputs": [
        {
          "output_type": "display_data",
          "data": {
            "text/plain": [
              "<Figure size 640x480 with 1 Axes>"
            ],
            "image/png": "[encoded data removed]"
          },
          "metadata": {}
        }
      ]
    },
    {
      "cell_type": "code",
      "source": [
        "device = torch.device(\"cuda\" if torch.cuda.is_available() else \"cpu\")\n",
        "device"
      ],
      "metadata": {
        "colab": {
          "base_uri": "https://localhost:8080/"
        },
        "id": "7V_QWtp_zUMt",
        "outputId": "283c4164-0275-40c4-853b-468f873206c9"
      },
      "execution_count": 8,
      "outputs": [
        {
          "output_type": "execute_result",
          "data": {
            "text/plain": [
              "device(type='cuda')"
            ]
          },
          "metadata": {},
          "execution_count": 8
        }
      ]
    },
    {
      "cell_type": "code",
      "source": [
        "# @title Creating DataLoader for binarised MNIST\n",
        "from torch.utils.data import DataLoader\n",
        "\n",
        "train_loader = DataLoader(X_train, batch_size=32, shuffle=True)\n",
        "test_loader = DataLoader(X_test, batch_size=32, shuffle=False)"
      ],
      "metadata": {
        "id": "k2GaUAF82kcJ"
      },
      "execution_count": 9,
      "outputs": []
    },
    {
      "cell_type": "code",
      "source": [
        "# @title Train\n",
        "torch.manual_seed(42)\n",
        "epochs = 20\n",
        "\n",
        "model = PixelCNN(hidden_channels=128, out_hidden_channels=128, residual_blocks=15)\n",
        "criterion = nn.BCELoss()\n",
        "optimiser = torch.optim.RMSprop(model.parameters(), lr=0.001)\n",
        "model.to(device)\n",
        "\n",
        "model.train()\n",
        "for epoch in range(epochs):\n",
        "    for img, _ in train_loader:\n",
        "        img = img.to(device)\n",
        "\n",
        "        optimiser.zero_grad()\n",
        "        y = model(img)\n",
        "        loss = criterion(y, img)\n",
        "        loss.backward()\n",
        "        optimiser.step()\n",
        "    print(f\"Epoch: {epoch+1}, Loss:, {loss.item()}\")"
      ],
      "metadata": {
        "colab": {
          "base_uri": "https://localhost:8080/",
          "height": 216
        },
        "id": "0N0cFihCanWE",
        "outputId": "e1c717c5-af29-4e91-eb2f-4031ff03be8a"
      },
      "execution_count": 19,
      "outputs": [
        {
          "output_type": "error",
          "ename": "KeyboardInterrupt",
          "evalue": "",
          "traceback": [
            "\u001b[0;31m---------------------------------------------------------------------------\u001b[0m",
            "\u001b[0;31mKeyboardInterrupt\u001b[0m                         Traceback (most recent call last)",
            "\u001b[0;32m<ipython-input-19-68e168118a06>\u001b[0m in \u001b[0;36m<cell line: 0>\u001b[0;34m()\u001b[0m\n\u001b[1;32m     11\u001b[0m \u001b[0;32mfor\u001b[0m \u001b[0mepoch\u001b[0m \u001b[0;32min\u001b[0m \u001b[0mrange\u001b[0m\u001b[0;34m(\u001b[0m\u001b[0mepochs\u001b[0m\u001b[0;34m)\u001b[0m\u001b[0;34m:\u001b[0m\u001b[0;34m\u001b[0m\u001b[0;34m\u001b[0m\u001b[0m\n\u001b[1;32m     12\u001b[0m     \u001b[0;32mfor\u001b[0m \u001b[0mimg\u001b[0m\u001b[0;34m,\u001b[0m \u001b[0m_\u001b[0m \u001b[0;32min\u001b[0m \u001b[0mtrain_loader\u001b[0m\u001b[0;34m:\u001b[0m\u001b[0;34m\u001b[0m\u001b[0;34m\u001b[0m\u001b[0m\n\u001b[0;32m---> 13\u001b[0;31m         \u001b[0mimg\u001b[0m \u001b[0;34m=\u001b[0m \u001b[0mimg\u001b[0m\u001b[0;34m.\u001b[0m\u001b[0mto\u001b[0m\u001b[0;34m(\u001b[0m\u001b[0mdevice\u001b[0m\u001b[0;34m)\u001b[0m\u001b[0;34m\u001b[0m\u001b[0;34m\u001b[0m\u001b[0m\n\u001b[0m\u001b[1;32m     14\u001b[0m \u001b[0;34m\u001b[0m\u001b[0m\n\u001b[1;32m     15\u001b[0m         \u001b[0moptimiser\u001b[0m\u001b[0;34m.\u001b[0m\u001b[0mzero_grad\u001b[0m\u001b[0;34m(\u001b[0m\u001b[0;34m)\u001b[0m\u001b[0;34m\u001b[0m\u001b[0;34m\u001b[0m\u001b[0m\n",
            "\u001b[0;31mKeyboardInterrupt\u001b[0m: "
          ]
        }
      ]
    }
  ]
}