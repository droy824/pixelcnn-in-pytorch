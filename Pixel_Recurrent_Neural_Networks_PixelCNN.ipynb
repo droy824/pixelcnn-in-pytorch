{
  "nbformat": 4,
  "nbformat_minor": 0,
  "metadata": {
    "colab": {
      "provenance": [],
      "gpuType": "T4"
    },
    "kernelspec": {
      "name": "python3",
      "display_name": "Python 3"
    },
    "language_info": {
      "name": "python"
    },
    "accelerator": "GPU"
  },
  "cells": [
    {
      "cell_type": "code",
      "execution_count": null,
      "metadata": {
        "id": "kVEX4M2uHRlV"
      },
      "outputs": [],
      "source": [
        "# @title Importing dependencies\n",
        "import numpy\n",
        "import torch\n",
        "import torch.nn as nn\n",
        "import torchvision\n",
        "import matplotlib.pyplot as plt"
      ]
    },
    {
      "cell_type": "code",
      "source": [
        "# @title Downloading MNIST dataset\n",
        "mnist_train = torchvision.datasets.MNIST('/files/', train=True, download=True,\n",
        "                            transform=torchvision.transforms.Compose([\n",
        "                                torchvision.transforms.ToTensor()\n",
        "                            ]))\n",
        "mnist_test = torchvision.datasets.MNIST('/files/', train=False, download=True,\n",
        "                            transform=torchvision.transforms.Compose([\n",
        "                                torchvision.transforms.ToTensor()\n",
        "                            ]))"
      ],
      "metadata": {
        "colab": {
          "base_uri": "https://localhost:8080/"
        },
        "collapsed": true,
        "id": "e9GTL8Cyw1dS",
        "outputId": "5c938c58-f3ea-405b-849c-7eca86936b96"
      },
      "execution_count": null,
      "outputs": [
        {
          "output_type": "stream",
          "name": "stdout",
          "text": [
            "Downloading http://yann.lecun.com/exdb/mnist/train-images-idx3-ubyte.gz\n",
            "Failed to download (trying next):\n",
            "HTTP Error 404: Not Found\n",
            "\n",
            "Downloading https://ossci-datasets.s3.amazonaws.com/mnist/train-images-idx3-ubyte.gz\n",
            "Downloading https://ossci-datasets.s3.amazonaws.com/mnist/train-images-idx3-ubyte.gz to /files/MNIST/raw/train-images-idx3-ubyte.gz\n"
          ]
        },
        {
          "output_type": "stream",
          "name": "stderr",
          "text": [
            "100%|██████████| 9.91M/9.91M [00:00<00:00, 16.3MB/s]\n"
          ]
        },
        {
          "output_type": "stream",
          "name": "stdout",
          "text": [
            "Extracting /files/MNIST/raw/train-images-idx3-ubyte.gz to /files/MNIST/raw\n",
            "\n",
            "Downloading http://yann.lecun.com/exdb/mnist/train-labels-idx1-ubyte.gz\n",
            "Failed to download (trying next):\n",
            "HTTP Error 404: Not Found\n",
            "\n",
            "Downloading https://ossci-datasets.s3.amazonaws.com/mnist/train-labels-idx1-ubyte.gz\n",
            "Downloading https://ossci-datasets.s3.amazonaws.com/mnist/train-labels-idx1-ubyte.gz to /files/MNIST/raw/train-labels-idx1-ubyte.gz\n"
          ]
        },
        {
          "output_type": "stream",
          "name": "stderr",
          "text": [
            "100%|██████████| 28.9k/28.9k [00:00<00:00, 480kB/s]\n"
          ]
        },
        {
          "output_type": "stream",
          "name": "stdout",
          "text": [
            "Extracting /files/MNIST/raw/train-labels-idx1-ubyte.gz to /files/MNIST/raw\n",
            "\n",
            "Downloading http://yann.lecun.com/exdb/mnist/t10k-images-idx3-ubyte.gz\n",
            "Failed to download (trying next):\n",
            "HTTP Error 404: Not Found\n",
            "\n",
            "Downloading https://ossci-datasets.s3.amazonaws.com/mnist/t10k-images-idx3-ubyte.gz\n",
            "Downloading https://ossci-datasets.s3.amazonaws.com/mnist/t10k-images-idx3-ubyte.gz to /files/MNIST/raw/t10k-images-idx3-ubyte.gz\n"
          ]
        },
        {
          "output_type": "stream",
          "name": "stderr",
          "text": [
            "100%|██████████| 1.65M/1.65M [00:00<00:00, 3.83MB/s]\n"
          ]
        },
        {
          "output_type": "stream",
          "name": "stdout",
          "text": [
            "Extracting /files/MNIST/raw/t10k-images-idx3-ubyte.gz to /files/MNIST/raw\n",
            "\n",
            "Downloading http://yann.lecun.com/exdb/mnist/t10k-labels-idx1-ubyte.gz\n",
            "Failed to download (trying next):\n",
            "HTTP Error 404: Not Found\n",
            "\n",
            "Downloading https://ossci-datasets.s3.amazonaws.com/mnist/t10k-labels-idx1-ubyte.gz\n",
            "Downloading https://ossci-datasets.s3.amazonaws.com/mnist/t10k-labels-idx1-ubyte.gz to /files/MNIST/raw/t10k-labels-idx1-ubyte.gz\n"
          ]
        },
        {
          "output_type": "stream",
          "name": "stderr",
          "text": [
            "100%|██████████| 4.54k/4.54k [00:00<00:00, 7.15MB/s]"
          ]
        },
        {
          "output_type": "stream",
          "name": "stdout",
          "text": [
            "Extracting /files/MNIST/raw/t10k-labels-idx1-ubyte.gz to /files/MNIST/raw\n",
            "\n"
          ]
        },
        {
          "output_type": "stream",
          "name": "stderr",
          "text": [
            "\n"
          ]
        }
      ]
    },
    {
      "cell_type": "code",
      "source": [
        "# @title Binarise MNIST data\n",
        "def binarise_mnist(mnist):\n",
        "    mnist_bin = []\n",
        "    for img, label in mnist:\n",
        "        mnist_bin.append((torch.where(img < 0.5, 0.0, 1.0), label))\n",
        "    return mnist_bin"
      ],
      "metadata": {
        "id": "MprVTSQO2aTQ"
      },
      "execution_count": null,
      "outputs": []
    },
    {
      "cell_type": "code",
      "source": [
        "X_train = binarise_mnist(mnist_train)\n",
        "X_test = binarise_mnist(mnist_test)"
      ],
      "metadata": {
        "id": "Y4Q0pAc87z3K"
      },
      "execution_count": null,
      "outputs": []
    },
    {
      "source": [
        "# @title Visualise MNIST and binarised MNIST\n",
        "import matplotlib.pyplot as plt\n",
        "\n",
        "# Get an example image and label from mnist_train\n",
        "img, label = mnist_train[0]\n",
        "\n",
        "# Get the corresponding binarised image and label from X_train\n",
        "binarised_img, binarised_label = X_train[0]\n",
        "\n",
        "# Create a figure with two subplots\n",
        "fig, axes = plt.subplots(1, 2)\n",
        "\n",
        "# Plot the regular MNIST image on the first subplot\n",
        "axes[0].imshow(img.squeeze(), cmap='gray')\n",
        "axes[0].set_title('Regular MNIST')\n",
        "\n",
        "# Plot the binarised MNIST image on the second subplot\n",
        "axes[1].imshow(binarised_img.squeeze(), cmap='gray')\n",
        "axes[1].set_title('Binarised MNIST')\n",
        "\n",
        "# Show the plot\n",
        "plt.show()"
      ],
      "cell_type": "code",
      "metadata": {
        "colab": {
          "base_uri": "https://localhost:8080/",
          "height": 308
        },
        "id": "rrElxbAR_x5P",
        "outputId": "2f147f49-8fe8-4d88-94aa-443d5d9c9a1f"
      },
      "execution_count": null,
      "outputs": [
        {
          "output_type": "display_data",
          "data": {
            "text/plain": [
              "<Figure size 640x480 with 2 Axes>"
            ],
            "image/png": "[encoded data removed]"
          },
          "metadata": {}
        }
      ]
    },
    {
      "cell_type": "markdown",
      "source": [
        "### Defining Classes for Model Architecture"
      ],
      "metadata": {
        "id": "yJU3FLW_3CU9"
      }
    },
    {
      "cell_type": "code",
      "source": [
        "class MaskedConvolution2D(nn.Module):\n",
        "    def __init__(self, in_channels, out_channels, kernel_size, mask_type):\n",
        "        super(MaskedConvolution2D, self).__init__()\n",
        "        self.in_channels = in_channels\n",
        "        self.out_channels = out_channels\n",
        "        self.kernel_size = kernel_size\n",
        "        self.mask_type = mask_type\n",
        "        self.conv = nn.Conv2d(self.in_channels, self.out_channels, self.kernel_size)\n",
        "        self.create_mask()\n",
        "\n",
        "    def create_mask(self):\n",
        "        mask = torch.ones(self.kernel_size, self.kernel_size)\n",
        "        mask[self.kernel_size // 2, self.kernel_size // 2:] = 0\n",
        "        mask[self.kernel_size // 2 + 1:, :] = 0\n",
        "        if self.mask_type == 'B':\n",
        "            mask[self.kernel_size // 2, self.kernel_size // 2] = 1\n",
        "        self.register_buffer('mask', mask)\n",
        "\n",
        "    def forward(self, X):\n",
        "        self.conv.weight.data = self.conv.weight.data * self.mask\n",
        "        return self.conv(X)"
      ],
      "metadata": {
        "id": "ctlO6HWXml6D"
      },
      "execution_count": null,
      "outputs": []
    },
    {
      "cell_type": "code",
      "source": [
        "class ResidualBlock(nn.Module):\n",
        "    def __init__(self, hidden_channels):\n",
        "        super(ResidualBlock, self).__init__()\n",
        "        self.hidden_channels = hidden_channels\n",
        "        self.maskedconv1 = MaskedConvolution2D(2 * self.hidden_channels, self.hidden_channels, 1, 'A')\n",
        "        self.maskedconv2 = MaskedConvolution2D(self.hidden_channels, self.hidden_channels, 3, 'B')\n",
        "        self.maskedconv3 = MaskedConvolution2D(self.hidden_channels, 2 * self.hidden_channels, 1, 'B')\n",
        "        self.relu = nn.ReLU()\n",
        "        self.padding = nn.ZeroPad2d(1)\n",
        "\n",
        "    def forward(self, X):\n",
        "        out = self.maskedconv1(X)\n",
        "        out = self.relu(out)\n",
        "        out = self.padding(out)\n",
        "        out = self.maskedconv2(out)\n",
        "        out = self.relu(out)\n",
        "        out = self.maskedconv3(out)\n",
        "        out += X\n",
        "        return out"
      ],
      "metadata": {
        "id": "oIg_jYCkpQi9"
      },
      "execution_count": null,
      "outputs": []
    },
    {
      "cell_type": "code",
      "source": [
        "class PixelCNN(nn.Module):\n",
        "    def __init__(self, hidden_channels, out_hidden_channels, residual_blocks):\n",
        "        super(PixelCNN, self).__init__()\n",
        "        self.hidden_channels = hidden_channels\n",
        "        self.out_hidden_channels = out_hidden_channels\n",
        "        self.residual_blocks = residual_blocks\n",
        "\n",
        "        layers = []\n",
        "        layers.append(nn.ZeroPad2d(4))\n",
        "        layers.append(MaskedConvolution2D(1, 2 * self.hidden_channels, 7, 'A'))\n",
        "        for _ in range(residual_blocks):\n",
        "            layers.append(ResidualBlock(self.hidden_channels))\n",
        "        layers.append(MaskedConvolution2D(2 * self.hidden_channels, 2 * self.out_hidden_channels, 3, 'B'))\n",
        "        layers.append(nn.ReLU())\n",
        "        layers.append(MaskedConvolution2D(2 * self.out_hidden_channels, self.out_hidden_channels, 1, 'B'))\n",
        "        layers.append(nn.ReLU())\n",
        "        layers.append(MaskedConvolution2D(self.out_hidden_channels, 1, 1, 'B'))\n",
        "        layers.append(nn.Sigmoid())\n",
        "\n",
        "        self.net = nn.Sequential(*layers)\n",
        "\n",
        "    def forward(self, X):\n",
        "        return self.net(X)"
      ],
      "metadata": {
        "id": "7kpUDNQJySkB"
      },
      "execution_count": null,
      "outputs": []
    },
    {
      "cell_type": "markdown",
      "source": [
        "### Visualise Forward Pass"
      ],
      "metadata": {
        "id": "9Qf_CGJKGMBo"
      }
    },
    {
      "cell_type": "code",
      "source": [
        "model = PixelCNN(hidden_channels=128, out_hidden_channels=128, residual_blocks=15)\n",
        "img, label = X_train[0]\n",
        "y = model(img)\n",
        "img.shape, y.shape"
      ],
      "metadata": {
        "colab": {
          "base_uri": "https://localhost:8080/"
        },
        "id": "_dFlByndIZe1",
        "outputId": "f07e86f9-eb1a-4272-afea-c9fb07d2ce44"
      },
      "execution_count": null,
      "outputs": [
        {
          "output_type": "execute_result",
          "data": {
            "text/plain": [
              "(torch.Size([1, 28, 28]), torch.Size([1, 28, 28]))"
            ]
          },
          "metadata": {},
          "execution_count": 30
        }
      ]
    },
    {
      "cell_type": "code",
      "source": [
        "# Plot y\n",
        "plt.imshow(y.squeeze().detach().numpy(), cmap='gray')\n",
        "plt.show()"
      ],
      "metadata": {
        "colab": {
          "base_uri": "https://localhost:8080/",
          "height": 430
        },
        "id": "LM1lbXfiZVYr",
        "outputId": "b06584bf-b1f7-4606-90cc-a12cc8f3d0c1"
      },
      "execution_count": null,
      "outputs": [
        {
          "output_type": "display_data",
          "data": {
            "text/plain": [
              "<Figure size 640x480 with 1 Axes>"
            ],
            "image/png": "[encoded data removed]"
          },
          "metadata": {}
        }
      ]
    },
    {
      "cell_type": "markdown",
      "source": [
        "### Train Model"
      ],
      "metadata": {
        "id": "2Vx3alfZGRK9"
      }
    },
    {
      "cell_type": "code",
      "source": [
        "device = torch.device(\"cuda\" if torch.cuda.is_available() else \"cpu\")\n",
        "device"
      ],
      "metadata": {
        "colab": {
          "base_uri": "https://localhost:8080/"
        },
        "id": "7V_QWtp_zUMt",
        "outputId": "64189fd6-095c-41f1-d528-69a48604e4e7"
      },
      "execution_count": null,
      "outputs": [
        {
          "output_type": "execute_result",
          "data": {
            "text/plain": [
              "device(type='cuda')"
            ]
          },
          "metadata": {},
          "execution_count": 9
        }
      ]
    },
    {
      "cell_type": "code",
      "source": [
        "# @title Creating DataLoader for binarised MNIST\n",
        "from torch.utils.data import DataLoader\n",
        "\n",
        "train_loader = DataLoader(X_train, batch_size=32, shuffle=True)\n",
        "test_loader = DataLoader(X_test, batch_size=32, shuffle=False)"
      ],
      "metadata": {
        "id": "k2GaUAF82kcJ"
      },
      "execution_count": null,
      "outputs": []
    },
    {
      "cell_type": "code",
      "source": [
        "# @title Training loop\n",
        "torch.manual_seed(42)\n",
        "epochs = 50\n",
        "\n",
        "model = PixelCNN(hidden_channels=128, out_hidden_channels=128, residual_blocks=15)\n",
        "criterion = nn.BCELoss()\n",
        "optimiser = torch.optim.Adam(model.parameters(), lr=1e-3)\n",
        "scheduler = torch.optim.lr_scheduler.StepLR(optimiser, step_size=10, gamma=0.5)\n",
        "model.to(device)\n",
        "\n",
        "model.train()\n",
        "for epoch in range(epochs):\n",
        "    loss = 0\n",
        "    for img, _ in train_loader:\n",
        "        img = img.to(device)\n",
        "\n",
        "        optimiser.zero_grad()\n",
        "        y = model(img)\n",
        "        batch_loss = criterion(y, img)\n",
        "        loss += batch_loss\n",
        "        batch_loss.backward()\n",
        "        torch.nn.utils.clip_grad_norm_(model.parameters(), max_norm=1.0)\n",
        "        optimiser.step()\n",
        "    scheduler.step()\n",
        "    if (epoch+1) % 5 == 0:\n",
        "        print(f\"Epoch: {epoch+1}, Loss: {loss.item() / len(train_loader)}\")"
      ],
      "metadata": {
        "colab": {
          "base_uri": "https://localhost:8080/"
        },
        "id": "0N0cFihCanWE",
        "outputId": "6dcffb6c-5cbc-4de5-f0e0-699027d45131"
      },
      "execution_count": null,
      "outputs": [
        {
          "output_type": "stream",
          "name": "stdout",
          "text": [
            "Epoch: 5, Loss: 0.09312305501302083\n",
            "Epoch: 10, Loss: 0.09252236328125\n",
            "Epoch: 15, Loss: 0.09201869303385417\n",
            "Epoch: 20, Loss: 0.09188890787760416\n",
            "Epoch: 25, Loss: 0.09162998046875\n",
            "Epoch: 30, Loss: 0.0915806884765625\n",
            "Epoch: 35, Loss: 0.09143722330729166\n",
            "Epoch: 40, Loss: 0.09141708984375\n",
            "Epoch: 45, Loss: 0.09134077962239584\n",
            "Epoch: 50, Loss: 0.09132937825520833\n"
          ]
        }
      ]
    },
    {
      "cell_type": "markdown",
      "source": [
        "## Results\n",
        "### Run 1:\n",
        "- Epochs: 50\n",
        "- Optimiser: RMSprop\n",
        "- Hidden channels: 16\n",
        "- Output hidden channels: 32\n",
        "- Residual blocks: 5\n",
        "- Learning rate: 0.01\n",
        "- **Final Loss: 0.09763512369791667**\n",
        "\n",
        "### Run 2:\n",
        "- Used my original masking\n",
        "- Epochs: 20\n",
        "- Optimiser: RMSprop\n",
        "- Hidden channels: 16\n",
        "- Output hidden channels: 32\n",
        "- Residual blocks: 5\n",
        "- Learning rate: 0.01\n",
        "- **Final Loss: 0.0967809814453125**\n",
        "\n",
        "### Run 3:\n",
        "- Used my original masking, scheduler, and clip_grad_norm\n",
        "- Epochs: 50\n",
        "- Optimiser: Adam\n",
        "- Hidden channels: 128\n",
        "- Output hidden channels: 128\n",
        "- Residual blocks: 5\n",
        "- Learning rate: 0.0001\n",
        "- **Training time: 3913.674 s**\n",
        "- **Final Loss: 0.09625528157552084**\n",
        "\n",
        "### Run 4:\n",
        "- Epochs: 50\n",
        "- Optimiser: Adam\n",
        "- Hidden channels: 128\n",
        "- Output hidden channels: 128\n",
        "- Residual blocks: 15\n",
        "- Learning rate: 0.001\n",
        "- **Training time: 13381.178 s**\n",
        "- **Final Loss: 0.09132937825520833**"
      ],
      "metadata": {
        "id": "TwOFFLLvFV-C"
      }
    },
    {
      "cell_type": "code",
      "source": [
        "# @title Generate images\n",
        "\n",
        "def generate_images(model, image_shape=(1, 28, 28), num_samples=10, device=\"cpu\"):\n",
        "    model.eval()  # Set model to evaluation mode\n",
        "\n",
        "    samples = torch.zeros((num_samples, *image_shape), device=device)  # Start with blank images\n",
        "\n",
        "    with torch.inference_mode():  # No need to compute gradients\n",
        "        for i in range(image_shape[1]):  # Iterate over height (rows)\n",
        "            for j in range(image_shape[2]):  # Iterate over width (columns)\n",
        "                # Get model prediction for the current (incomplete) image\n",
        "                out = model(samples)  # Forward pass through PixelCNN\n",
        "                probs = out[:, :, i, j]  # Get probability for current pixel\n",
        "\n",
        "                # Sample binary value based on predicted probability\n",
        "                sampled_pixel = torch.bernoulli(probs)  # 1 with prob=probs, else 0\n",
        "\n",
        "                # Assign the sampled value to the image\n",
        "                samples[:, :, i, j] = sampled_pixel\n",
        "\n",
        "    return samples.cpu()"
      ],
      "metadata": {
        "id": "fwXqseyg_B3s"
      },
      "execution_count": null,
      "outputs": []
    },
    {
      "cell_type": "code",
      "source": [
        "generated_images = generate_images(model, num_samples=100, device=device)\n",
        "\n",
        "# Plot the 100 images in a 10x10 grid\n",
        "fig, axes = plt.subplots(10, 10, figsize=(12, 12))\n",
        "for idx, ax in enumerate(axes.flatten()):\n",
        "    ax.imshow(generated_images[idx].squeeze(), cmap='gray')\n",
        "    ax.axis('off')\n",
        "\n",
        "plt.tight_layout()\n",
        "plt.show()"
      ],
      "metadata": {
        "id": "fNKxVBNMmzkK",
        "colab": {
          "base_uri": "https://localhost:8080/",
          "height": 1000
        },
        "outputId": "c182a1ed-2ab2-48f4-dd7a-318c2a80523c"
      },
      "execution_count": null,
      "outputs": [
        {
          "output_type": "display_data",
          "data": {
            "text/plain": [
              "<Figure size 1200x1200 with 100 Axes>"
            ],
            "image/png": "[encoded data removed]"
          },
          "metadata": {}
        }
      ]
    },
    {
      "cell_type": "code",
      "source": [
        "# Save the model's state dictionary\n",
        "torch.save(model.state_dict(), 'pixelcnn_model.pth')\n",
        "\n",
        "torch.save(optimiser.state_dict(), 'pixelcnn_optimiser.pth')"
      ],
      "metadata": {
        "id": "npEDU34bqWxe"
      },
      "execution_count": null,
      "outputs": []
    },
    {
      "cell_type": "code",
      "source": [
        "untrained_model = PixelCNN(hidden_channels=16, out_hidden_channels=32, residual_blocks=5)\n",
        "untrained_model.to(device)\n",
        "generated_images = generate_images(untrained_model, num_samples=10, device=device)\n",
        "\n",
        "# Plot generated images\n",
        "fig, axes = plt.subplots(1, 10, figsize=(15, 2))\n",
        "for i in range(10):\n",
        "    axes[i].imshow(generated_images[i].squeeze(), cmap=\"gray\")\n",
        "    axes[i].axis(\"off\")\n",
        "\n",
        "plt.show()"
      ],
      "metadata": {
        "colab": {
          "base_uri": "https://localhost:8080/",
          "height": 135
        },
        "id": "EAXq_sKfAki1",
        "outputId": "6f0a4841-bb89-4729-e6dd-1a0e8438a8d0"
      },
      "execution_count": null,
      "outputs": [
        {
          "output_type": "display_data",
          "data": {
            "text/plain": [
              "<Figure size 1500x200 with 10 Axes>"
            ],
            "image/png": "[encoded data removed]"
          },
          "metadata": {}
        }
      ]
    },
    {
      "cell_type": "code",
      "source": [
        "# @title Calculate NLL and bits/dim metrics\n",
        "\n",
        "model = PixelCNN(hidden_channels=128, out_hidden_channels=128, residual_blocks=15)\n",
        "model.load_state_dict(torch.load('/content/pixelcnn_model.pth'))\n",
        "model.to(device)"
      ],
      "metadata": {
        "colab": {
          "base_uri": "https://localhost:8080/"
        },
        "id": "IhQOhXHEBF0Z",
        "outputId": "eb1437db-3d10-48ee-9715-7e5dd803bb01"
      },
      "execution_count": null,
      "outputs": [
        {
          "output_type": "stream",
          "name": "stderr",
          "text": [
            "<ipython-input-12-026352a214ab>:4: FutureWarning: You are using `torch.load` with `weights_only=False` (the current default value), which uses the default pickle module implicitly. It is possible to construct malicious pickle data which will execute arbitrary code during unpickling (See https://github.com/pytorch/pytorch/blob/main/SECURITY.md#untrusted-models for more details). In a future release, the default value for `weights_only` will be flipped to `True`. This limits the functions that could be executed during unpickling. Arbitrary objects will no longer be allowed to be loaded via this mode unless they are explicitly allowlisted by the user via `torch.serialization.add_safe_globals`. We recommend you start setting `weights_only=True` for any use case where you don't have full control of the loaded file. Please open an issue on GitHub for any issues related to this experimental feature.\n",
            "  model.load_state_dict(torch.load('/content/pixelcnn_model.pth'))\n"
          ]
        },
        {
          "output_type": "execute_result",
          "data": {
            "text/plain": [
              "PixelCNN(\n",
              "  (net): Sequential(\n",
              "    (0): ZeroPad2d((4, 4, 4, 4))\n",
              "    (1): MaskedConvolution2D(\n",
              "      (conv): Conv2d(1, 256, kernel_size=(7, 7), stride=(1, 1))\n",
              "    )\n",
              "    (2): ResidualBlock(\n",
              "      (maskedconv1): MaskedConvolution2D(\n",
              "        (conv): Conv2d(256, 128, kernel_size=(1, 1), stride=(1, 1))\n",
              "      )\n",
              "      (maskedconv2): MaskedConvolution2D(\n",
              "        (conv): Conv2d(128, 128, kernel_size=(3, 3), stride=(1, 1))\n",
              "      )\n",
              "      (maskedconv3): MaskedConvolution2D(\n",
              "        (conv): Conv2d(128, 256, kernel_size=(1, 1), stride=(1, 1))\n",
              "      )\n",
              "      (relu): ReLU()\n",
              "      (padding): ZeroPad2d((1, 1, 1, 1))\n",
              "    )\n",
              "    (3): ResidualBlock(\n",
              "      (maskedconv1): MaskedConvolution2D(\n",
              "        (conv): Conv2d(256, 128, kernel_size=(1, 1), stride=(1, 1))\n",
              "      )\n",
              "      (maskedconv2): MaskedConvolution2D(\n",
              "        (conv): Conv2d(128, 128, kernel_size=(3, 3), stride=(1, 1))\n",
              "      )\n",
              "      (maskedconv3): MaskedConvolution2D(\n",
              "        (conv): Conv2d(128, 256, kernel_size=(1, 1), stride=(1, 1))\n",
              "      )\n",
              "      (relu): ReLU()\n",
              "      (padding): ZeroPad2d((1, 1, 1, 1))\n",
              "    )\n",
              "    (4): ResidualBlock(\n",
              "      (maskedconv1): MaskedConvolution2D(\n",
              "        (conv): Conv2d(256, 128, kernel_size=(1, 1), stride=(1, 1))\n",
              "      )\n",
              "      (maskedconv2): MaskedConvolution2D(\n",
              "        (conv): Conv2d(128, 128, kernel_size=(3, 3), stride=(1, 1))\n",
              "      )\n",
              "      (maskedconv3): MaskedConvolution2D(\n",
              "        (conv): Conv2d(128, 256, kernel_size=(1, 1), stride=(1, 1))\n",
              "      )\n",
              "      (relu): ReLU()\n",
              "      (padding): ZeroPad2d((1, 1, 1, 1))\n",
              "    )\n",
              "    (5): ResidualBlock(\n",
              "      (maskedconv1): MaskedConvolution2D(\n",
              "        (conv): Conv2d(256, 128, kernel_size=(1, 1), stride=(1, 1))\n",
              "      )\n",
              "      (maskedconv2): MaskedConvolution2D(\n",
              "        (conv): Conv2d(128, 128, kernel_size=(3, 3), stride=(1, 1))\n",
              "      )\n",
              "      (maskedconv3): MaskedConvolution2D(\n",
              "        (conv): Conv2d(128, 256, kernel_size=(1, 1), stride=(1, 1))\n",
              "      )\n",
              "      (relu): ReLU()\n",
              "      (padding): ZeroPad2d((1, 1, 1, 1))\n",
              "    )\n",
              "    (6): ResidualBlock(\n",
              "      (maskedconv1): MaskedConvolution2D(\n",
              "        (conv): Conv2d(256, 128, kernel_size=(1, 1), stride=(1, 1))\n",
              "      )\n",
              "      (maskedconv2): MaskedConvolution2D(\n",
              "        (conv): Conv2d(128, 128, kernel_size=(3, 3), stride=(1, 1))\n",
              "      )\n",
              "      (maskedconv3): MaskedConvolution2D(\n",
              "        (conv): Conv2d(128, 256, kernel_size=(1, 1), stride=(1, 1))\n",
              "      )\n",
              "      (relu): ReLU()\n",
              "      (padding): ZeroPad2d((1, 1, 1, 1))\n",
              "    )\n",
              "    (7): ResidualBlock(\n",
              "      (maskedconv1): MaskedConvolution2D(\n",
              "        (conv): Conv2d(256, 128, kernel_size=(1, 1), stride=(1, 1))\n",
              "      )\n",
              "      (maskedconv2): MaskedConvolution2D(\n",
              "        (conv): Conv2d(128, 128, kernel_size=(3, 3), stride=(1, 1))\n",
              "      )\n",
              "      (maskedconv3): MaskedConvolution2D(\n",
              "        (conv): Conv2d(128, 256, kernel_size=(1, 1), stride=(1, 1))\n",
              "      )\n",
              "      (relu): ReLU()\n",
              "      (padding): ZeroPad2d((1, 1, 1, 1))\n",
              "    )\n",
              "    (8): ResidualBlock(\n",
              "      (maskedconv1): MaskedConvolution2D(\n",
              "        (conv): Conv2d(256, 128, kernel_size=(1, 1), stride=(1, 1))\n",
              "      )\n",
              "      (maskedconv2): MaskedConvolution2D(\n",
              "        (conv): Conv2d(128, 128, kernel_size=(3, 3), stride=(1, 1))\n",
              "      )\n",
              "      (maskedconv3): MaskedConvolution2D(\n",
              "        (conv): Conv2d(128, 256, kernel_size=(1, 1), stride=(1, 1))\n",
              "      )\n",
              "      (relu): ReLU()\n",
              "      (padding): ZeroPad2d((1, 1, 1, 1))\n",
              "    )\n",
              "    (9): ResidualBlock(\n",
              "      (maskedconv1): MaskedConvolution2D(\n",
              "        (conv): Conv2d(256, 128, kernel_size=(1, 1), stride=(1, 1))\n",
              "      )\n",
              "      (maskedconv2): MaskedConvolution2D(\n",
              "        (conv): Conv2d(128, 128, kernel_size=(3, 3), stride=(1, 1))\n",
              "      )\n",
              "      (maskedconv3): MaskedConvolution2D(\n",
              "        (conv): Conv2d(128, 256, kernel_size=(1, 1), stride=(1, 1))\n",
              "      )\n",
              "      (relu): ReLU()\n",
              "      (padding): ZeroPad2d((1, 1, 1, 1))\n",
              "    )\n",
              "    (10): ResidualBlock(\n",
              "      (maskedconv1): MaskedConvolution2D(\n",
              "        (conv): Conv2d(256, 128, kernel_size=(1, 1), stride=(1, 1))\n",
              "      )\n",
              "      (maskedconv2): MaskedConvolution2D(\n",
              "        (conv): Conv2d(128, 128, kernel_size=(3, 3), stride=(1, 1))\n",
              "      )\n",
              "      (maskedconv3): MaskedConvolution2D(\n",
              "        (conv): Conv2d(128, 256, kernel_size=(1, 1), stride=(1, 1))\n",
              "      )\n",
              "      (relu): ReLU()\n",
              "      (padding): ZeroPad2d((1, 1, 1, 1))\n",
              "    )\n",
              "    (11): ResidualBlock(\n",
              "      (maskedconv1): MaskedConvolution2D(\n",
              "        (conv): Conv2d(256, 128, kernel_size=(1, 1), stride=(1, 1))\n",
              "      )\n",
              "      (maskedconv2): MaskedConvolution2D(\n",
              "        (conv): Conv2d(128, 128, kernel_size=(3, 3), stride=(1, 1))\n",
              "      )\n",
              "      (maskedconv3): MaskedConvolution2D(\n",
              "        (conv): Conv2d(128, 256, kernel_size=(1, 1), stride=(1, 1))\n",
              "      )\n",
              "      (relu): ReLU()\n",
              "      (padding): ZeroPad2d((1, 1, 1, 1))\n",
              "    )\n",
              "    (12): ResidualBlock(\n",
              "      (maskedconv1): MaskedConvolution2D(\n",
              "        (conv): Conv2d(256, 128, kernel_size=(1, 1), stride=(1, 1))\n",
              "      )\n",
              "      (maskedconv2): MaskedConvolution2D(\n",
              "        (conv): Conv2d(128, 128, kernel_size=(3, 3), stride=(1, 1))\n",
              "      )\n",
              "      (maskedconv3): MaskedConvolution2D(\n",
              "        (conv): Conv2d(128, 256, kernel_size=(1, 1), stride=(1, 1))\n",
              "      )\n",
              "      (relu): ReLU()\n",
              "      (padding): ZeroPad2d((1, 1, 1, 1))\n",
              "    )\n",
              "    (13): ResidualBlock(\n",
              "      (maskedconv1): MaskedConvolution2D(\n",
              "        (conv): Conv2d(256, 128, kernel_size=(1, 1), stride=(1, 1))\n",
              "      )\n",
              "      (maskedconv2): MaskedConvolution2D(\n",
              "        (conv): Conv2d(128, 128, kernel_size=(3, 3), stride=(1, 1))\n",
              "      )\n",
              "      (maskedconv3): MaskedConvolution2D(\n",
              "        (conv): Conv2d(128, 256, kernel_size=(1, 1), stride=(1, 1))\n",
              "      )\n",
              "      (relu): ReLU()\n",
              "      (padding): ZeroPad2d((1, 1, 1, 1))\n",
              "    )\n",
              "    (14): ResidualBlock(\n",
              "      (maskedconv1): MaskedConvolution2D(\n",
              "        (conv): Conv2d(256, 128, kernel_size=(1, 1), stride=(1, 1))\n",
              "      )\n",
              "      (maskedconv2): MaskedConvolution2D(\n",
              "        (conv): Conv2d(128, 128, kernel_size=(3, 3), stride=(1, 1))\n",
              "      )\n",
              "      (maskedconv3): MaskedConvolution2D(\n",
              "        (conv): Conv2d(128, 256, kernel_size=(1, 1), stride=(1, 1))\n",
              "      )\n",
              "      (relu): ReLU()\n",
              "      (padding): ZeroPad2d((1, 1, 1, 1))\n",
              "    )\n",
              "    (15): ResidualBlock(\n",
              "      (maskedconv1): MaskedConvolution2D(\n",
              "        (conv): Conv2d(256, 128, kernel_size=(1, 1), stride=(1, 1))\n",
              "      )\n",
              "      (maskedconv2): MaskedConvolution2D(\n",
              "        (conv): Conv2d(128, 128, kernel_size=(3, 3), stride=(1, 1))\n",
              "      )\n",
              "      (maskedconv3): MaskedConvolution2D(\n",
              "        (conv): Conv2d(128, 256, kernel_size=(1, 1), stride=(1, 1))\n",
              "      )\n",
              "      (relu): ReLU()\n",
              "      (padding): ZeroPad2d((1, 1, 1, 1))\n",
              "    )\n",
              "    (16): ResidualBlock(\n",
              "      (maskedconv1): MaskedConvolution2D(\n",
              "        (conv): Conv2d(256, 128, kernel_size=(1, 1), stride=(1, 1))\n",
              "      )\n",
              "      (maskedconv2): MaskedConvolution2D(\n",
              "        (conv): Conv2d(128, 128, kernel_size=(3, 3), stride=(1, 1))\n",
              "      )\n",
              "      (maskedconv3): MaskedConvolution2D(\n",
              "        (conv): Conv2d(128, 256, kernel_size=(1, 1), stride=(1, 1))\n",
              "      )\n",
              "      (relu): ReLU()\n",
              "      (padding): ZeroPad2d((1, 1, 1, 1))\n",
              "    )\n",
              "    (17): MaskedConvolution2D(\n",
              "      (conv): Conv2d(256, 256, kernel_size=(3, 3), stride=(1, 1))\n",
              "    )\n",
              "    (18): ReLU()\n",
              "    (19): MaskedConvolution2D(\n",
              "      (conv): Conv2d(256, 128, kernel_size=(1, 1), stride=(1, 1))\n",
              "    )\n",
              "    (20): ReLU()\n",
              "    (21): MaskedConvolution2D(\n",
              "      (conv): Conv2d(128, 1, kernel_size=(1, 1), stride=(1, 1))\n",
              "    )\n",
              "    (22): Sigmoid()\n",
              "  )\n",
              ")"
            ]
          },
          "metadata": {},
          "execution_count": 12
        }
      ]
    },
    {
      "cell_type": "code",
      "source": [
        "import math\n",
        "import torch\n",
        "import torch.nn as nn\n",
        "\n",
        "def compute_bits_per_dim(model, data_loader, device):\n",
        "    \"\"\"\n",
        "    Computes the average bits per dimension (bits/dim) for a given model and dataset.\n",
        "    This function uses binary cross-entropy as the negative log likelihood (in nats)\n",
        "    and converts it to bits by dividing by log(2).\n",
        "    \"\"\"\n",
        "    criterion = nn.BCELoss(reduction='sum')\n",
        "    model.eval()\n",
        "    total_loss = 0.0\n",
        "    total_elements = 0\n",
        "    with torch.inference_mode():\n",
        "        for imgs, _ in data_loader:\n",
        "            imgs = imgs.to(device)\n",
        "            batch_size = imgs.shape[0]\n",
        "            # For MNIST, each image is 28x28 so number of pixels per sample:\n",
        "            num_pixels = imgs.shape[2] * imgs.shape[3]\n",
        "            output = model(imgs)\n",
        "            # Compute the BCE loss (sum over all pixels)\n",
        "            loss = criterion(output, imgs)\n",
        "            total_loss += loss.item()\n",
        "            total_elements += batch_size * num_pixels\n",
        "\n",
        "    # Average negative log-likelihood (in nats per pixel)\n",
        "    average_nll = total_loss / total_elements\n",
        "    # Convert nats to bits (1 nat = 1/log(2) bits)\n",
        "    bits_per_dim = average_nll / math.log(2)\n",
        "    return average_nll, bits_per_dim\n",
        "\n",
        "average_nll, bits_dim = compute_bits_per_dim(model, test_loader, device)\n",
        "print(f\"Average NLL (nats per pixel): {average_nll}\")\n",
        "print(f\"Bits per dim: {bits_dim}\")"
      ],
      "metadata": {
        "colab": {
          "base_uri": "https://localhost:8080/"
        },
        "id": "vgo1ENXVBDWF",
        "outputId": "4035995a-af5a-462c-9d19-7fa8bfad7022"
      },
      "execution_count": null,
      "outputs": [
        {
          "output_type": "stream",
          "name": "stdout",
          "text": [
            "Average NLL (nats per pixel): 0.09190635352621274\n",
            "Bits per dim: 0.132592840458455\n"
          ]
        }
      ]
    },
    {
      "cell_type": "code",
      "source": [
        "# @title Finding NLL and bits/dim metrics for train data\n",
        "\n",
        "average_nll, bits_dim = compute_bits_per_dim(model, train_loader, device)\n",
        "print(f\"Average NLL (nats per pixel): {average_nll}\")\n",
        "print(f\"Bits per dim: {bits_dim}\")"
      ],
      "metadata": {
        "colab": {
          "base_uri": "https://localhost:8080/"
        },
        "id": "QZYUXLWqGQK1",
        "outputId": "c55b4a56-dc8c-452e-b7fc-03ac8b8a50c3"
      },
      "execution_count": null,
      "outputs": [
        {
          "output_type": "stream",
          "name": "stdout",
          "text": [
            "Average NLL (nats per pixel): 0.09129009278485564\n",
            "Bits per dim: 0.13170376414300458\n"
          ]
        }
      ]
    }
  ]
}