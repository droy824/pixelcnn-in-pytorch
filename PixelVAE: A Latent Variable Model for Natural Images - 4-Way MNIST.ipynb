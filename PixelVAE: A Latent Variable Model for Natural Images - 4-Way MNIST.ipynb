{
  "cells": [
    {
      "cell_type": "code",
      "execution_count": 1,
      "metadata": {
        "id": "ZpL92dyKqQhr"
      },
      "outputs": [],
      "source": [
        "# @title Importing dependencies\n",
        "import numpy\n",
        "import torch\n",
        "import torch.nn as nn\n",
        "import torchvision\n",
        "import torch.nn.functional as F\n",
        "import matplotlib.pyplot as plt\n",
        "from tqdm import tqdm\n",
        "import numpy as np"
      ]
    },
    {
      "cell_type": "code",
      "execution_count": 2,
      "metadata": {
        "colab": {
          "base_uri": "https://localhost:8080/"
        },
        "id": "e1Ov-jmgF8Wn",
        "outputId": "0347e74d-1750-47b7-c3c6-2b0e65c10e04"
      },
      "outputs": [],
      "source": [
        "# @title Downloading MNIST dataset\n",
        "mnist_train = torchvision.datasets.MNIST('/home/stuti/fods/files/', train=True, download=True,\n",
        "                            transform=torchvision.transforms.Compose([\n",
        "                                torchvision.transforms.ToTensor()\n",
        "                            ]))\n",
        "mnist_test = torchvision.datasets.MNIST('/home/stuti/fods/files/', train=False, download=True,\n",
        "                            transform=torchvision.transforms.Compose([\n",
        "                                torchvision.transforms.ToTensor()\n",
        "                            ]))"
      ]
    },
    {
      "cell_type": "code",
      "execution_count": null,
      "metadata": {
        "id": "1Sj4JnUYF9YD"
      },
      "outputs": [],
      "source": [
        "# # @title Binarise MNIST data\n",
        "# def binarise_mnist(mnist):\n",
        "#     mnist_bin = []\n",
        "#     for img, label in mnist:\n",
        "#         mnist_bin.append((torch.where(img < 0.5, 0.0, 1.0), label))\n",
        "#     return mnist_bin"
      ]
    },
    {
      "cell_type": "code",
      "execution_count": null,
      "metadata": {
        "id": "mI7g-BGGF-fN"
      },
      "outputs": [],
      "source": [
        "# X_train = binarise_mnist(mnist_train)\n",
        "# X_test = binarise_mnist(mnist_test)"
      ]
    },
    {
      "cell_type": "code",
      "execution_count": 3,
      "metadata": {
        "id": "vAnk-eOIGAWM"
      },
      "outputs": [],
      "source": [
        "class CroppedConvolution2D(nn.Module):\n",
        "    def __init__(self, in_channels: int, out_channels: int, kernel_size: tuple, padding: tuple):\n",
        "        super(CroppedConvolution2D, self).__init__()\n",
        "        self.in_channels = in_channels\n",
        "        self.out_channels = out_channels\n",
        "        self.kernel_height, self.kernel_width = kernel_size\n",
        "        self.padding = padding\n",
        "        self.conv = nn.Conv2d(self.in_channels, self.out_channels, kernel_size, padding=self.padding)\n",
        "\n",
        "    def forward(self, X):\n",
        "        X = self.conv(X)\n",
        "        out = X[:, :, 1:-self.kernel_height, :]\n",
        "        up_shifted_out = X[:, :, :-self.kernel_height-1, :]\n",
        "        return out, up_shifted_out"
      ]
    },
    {
      "cell_type": "code",
      "execution_count": 4,
      "metadata": {
        "id": "Cr6bRjqdGDpi"
      },
      "outputs": [],
      "source": [
        "class MaskedConvolution2D(nn.Module):\n",
        "    def __init__(self, in_channels: int, out_channels: int, kernel_size: tuple, padding: tuple, mask_type: str):\n",
        "        super(MaskedConvolution2D, self).__init__()\n",
        "        self.in_channels = in_channels\n",
        "        self.out_channels = out_channels\n",
        "        self.kernel_height, self.kernel_width = kernel_size\n",
        "        self.padding = padding\n",
        "        self.mask_type = mask_type\n",
        "        self.conv = nn.Conv2d(self.in_channels, self.out_channels, kernel_size, padding=self.padding)\n",
        "        self.create_mask()\n",
        "\n",
        "    def create_mask(self):\n",
        "        mask = torch.ones(self.kernel_height, self.kernel_width)\n",
        "        mask[self.kernel_height // 2, self.kernel_width // 2:] = 0\n",
        "        mask[self.kernel_height // 2 + 1:, :] = 0\n",
        "        if self.mask_type == 'B':\n",
        "            mask[self.kernel_height // 2, self.kernel_width // 2] = 1\n",
        "        self.register_buffer('mask', mask)\n",
        "\n",
        "    def forward(self, X):\n",
        "        self.conv.weight.data = self.conv.weight.data * self.mask\n",
        "        return self.conv(X)"
      ]
    },
    {
      "cell_type": "code",
      "execution_count": 5,
      "metadata": {
        "id": "J9R87gFXGE52"
      },
      "outputs": [],
      "source": [
        "class CausalBlock(nn.Module):\n",
        "    def __init__(self, in_channels: int, out_channels: int, kernel_size: int):\n",
        "        super(CausalBlock, self).__init__()\n",
        "        self.in_channels = in_channels\n",
        "        self.out_channels = out_channels\n",
        "        self.kernel_size = kernel_size\n",
        "\n",
        "        self.vertical_fc = nn.Conv2d(in_channels=in_channels,\n",
        "                                     out_channels=2*out_channels,\n",
        "                                     kernel_size=(1, 1))\n",
        "\n",
        "        self.vertical_conv = CroppedConvolution2D(in_channels=in_channels,\n",
        "                                                  out_channels=2*out_channels,\n",
        "                                                  kernel_size=(kernel_size // 2 + 1, kernel_size),\n",
        "                                                  padding=(kernel_size // 2 + 1, kernel_size // 2))\n",
        "\n",
        "        self.vertical_to_horizontal = nn.Conv2d(in_channels=2*out_channels,\n",
        "                                                out_channels=2*out_channels,\n",
        "                                                kernel_size=(1, 1))\n",
        "\n",
        "        self.horizontal_conv = MaskedConvolution2D(in_channels=in_channels,\n",
        "                                                   out_channels=2*out_channels,\n",
        "                                                   kernel_size=(1, kernel_size),\n",
        "                                                   padding=(0, kernel_size // 2),\n",
        "                                                   mask_type='A')\n",
        "\n",
        "        self.horizontal_fc = MaskedConvolution2D(in_channels=out_channels,\n",
        "                                                 out_channels=out_channels,\n",
        "                                                 kernel_size=(1, 1),\n",
        "                                                 padding=(0, 0),\n",
        "                                                 mask_type='A')\n",
        "\n",
        "    def forward(self, X):\n",
        "        out_vertical_fc = self.vertical_fc(X)\n",
        "        out_vertical_conv, up_shifted_out_vertical_conv = self.vertical_conv(X)\n",
        "        out_vertical_to_horizontal = self.vertical_to_horizontal(up_shifted_out_vertical_conv)\n",
        "        out_vertical = out_vertical_fc + out_vertical_conv\n",
        "        out_vertical_tanh, out_vertical_sigmoid = torch.split(out_vertical, self.out_channels, dim=1)\n",
        "        out_vertical = torch.tanh(out_vertical_tanh) * torch.sigmoid(out_vertical_sigmoid)\n",
        "\n",
        "        out_horizontal_conv = self.horizontal_conv(X)\n",
        "        out_horizontal = out_horizontal_conv + out_vertical_to_horizontal\n",
        "        out_horizontal_tanh, out_horizontal_sigmoid = torch.split(out_horizontal, self.out_channels, dim=1)\n",
        "        out_horizontal = torch.tanh(out_horizontal_tanh) * torch.sigmoid(out_horizontal_sigmoid)\n",
        "        out_horizontal = self.horizontal_fc(out_horizontal)\n",
        "\n",
        "        return out_vertical, out_horizontal"
      ]
    },
    {
      "cell_type": "code",
      "execution_count": 6,
      "metadata": {
        "id": "d7bN7vumGGQq"
      },
      "outputs": [],
      "source": [
        "class GatedBlock(nn.Module):\n",
        "    def __init__(self, in_channels: int, out_channels: int, kernel_size: int, latent_dim: int=16):\n",
        "        super(GatedBlock, self).__init__()\n",
        "        self.in_channels = in_channels\n",
        "        self.out_channels = out_channels\n",
        "        self.kernel_size = kernel_size\n",
        "        self.latent_dim = latent_dim\n",
        "\n",
        "        self.vertical_fc = nn.Conv2d(in_channels=in_channels,\n",
        "                                     out_channels=2*out_channels,\n",
        "                                     kernel_size=(1, 1))\n",
        "\n",
        "        self.vertical_to_horizontal = MaskedConvolution2D(in_channels=2*out_channels,\n",
        "                                                          out_channels=2*out_channels,\n",
        "                                                          kernel_size=(1, 1),\n",
        "                                                          padding=(0, 0),\n",
        "                                                          mask_type='B')\n",
        "\n",
        "        self.vertical_conv = CroppedConvolution2D(in_channels=in_channels,\n",
        "                                                  out_channels=2*out_channels,\n",
        "                                                  kernel_size=(kernel_size // 2 + 1, kernel_size),\n",
        "                                                  padding=(kernel_size // 2 + 1, kernel_size // 2))\n",
        "\n",
        "        self.horizontal_conv = MaskedConvolution2D(in_channels=in_channels,\n",
        "                                                   out_channels=2*out_channels,\n",
        "                                                   kernel_size=(1, kernel_size),\n",
        "                                                   padding=(0, kernel_size // 2),\n",
        "                                                   mask_type='B')\n",
        "\n",
        "        self.horizontal_fc = MaskedConvolution2D(in_channels=out_channels,\n",
        "                                                 out_channels=out_channels,\n",
        "                                                 kernel_size=(1, 1),\n",
        "                                                 padding=(0, 0),\n",
        "                                                 mask_type='B')\n",
        "\n",
        "        self.horizontal_skip = MaskedConvolution2D(in_channels=out_channels,\n",
        "                                                 out_channels=out_channels,\n",
        "                                                 kernel_size=(1, 1),\n",
        "                                                 padding=(0, 0),\n",
        "                                                 mask_type='B')\n",
        "\n",
        "        self.latent_embedding = nn.Linear(in_features=latent_dim, out_features=2*out_channels)\n",
        "\n",
        "    def forward(self, X):\n",
        "        in_vertical, in_horizontal, latent, skip = X['in_vertical'], X['in_horizontal'], X['latent'], X['skip']\n",
        "        latent_embedding = self.latent_embedding(latent).unsqueeze(2).unsqueeze(3)\n",
        "\n",
        "        out_vertical_fc = self.vertical_fc(in_vertical)\n",
        "        out_vertical_conv, up_shifted_out_vertical_conv = self.vertical_conv(in_vertical)\n",
        "        out_vertical_to_horizontal = self.vertical_to_horizontal(up_shifted_out_vertical_conv)\n",
        "        out_vertical = out_vertical_fc + out_vertical_conv + latent_embedding\n",
        "        out_vertical_tanh, out_vertical_sigmoid = torch.split(out_vertical, self.out_channels, dim=1)\n",
        "        out_vertical = torch.tanh(out_vertical_tanh) * torch.sigmoid(out_vertical_sigmoid)\n",
        "        out_vertical += in_vertical\n",
        "\n",
        "        out_horizontal_conv = self.horizontal_conv(in_horizontal)\n",
        "        out_horizontal = out_horizontal_conv + out_vertical_to_horizontal + latent_embedding\n",
        "        out_horizontal_tanh, out_horizontal_sigmoid = torch.split(out_horizontal, self.out_channels, dim=1)\n",
        "        out_horizontal = torch.tanh(out_horizontal_tanh) * torch.sigmoid(out_horizontal_sigmoid)\n",
        "        skip += self.horizontal_skip(out_horizontal)\n",
        "        out_horizontal = self.horizontal_fc(out_horizontal)\n",
        "        out_horizontal += in_horizontal\n",
        "\n",
        "        return {'in_vertical': out_vertical,\n",
        "                'in_horizontal': out_horizontal,\n",
        "                'latent': latent,\n",
        "                'skip': skip}"
      ]
    },
    {
      "cell_type": "code",
      "execution_count": 7,
      "metadata": {
        "id": "hcoa5y3jPnfG"
      },
      "outputs": [],
      "source": [
        "class ConditionalGate(nn.Module):\n",
        "    def __init__(self, latent_dim: int, out_channels: int=32):\n",
        "        super(ConditionalGate, self).__init__()\n",
        "        self.latent_dim = latent_dim\n",
        "        self.out_channels = out_channels\n",
        "\n",
        "        self.latent_embedding_tanh = nn.Linear(in_features=latent_dim, out_features=out_channels)\n",
        "        self.latent_embedding_sigmoid = nn.Linear(in_features=latent_dim, out_features=out_channels)\n",
        "\n",
        "    def forward(self, X, latent_var):\n",
        "        out_tanh, out_sigmoid = torch.split(X, self.out_channels, dim=1)\n",
        "        out_tanh = out_tanh + self.latent_embedding_tanh(latent_var).unsqueeze(2).unsqueeze(3)\n",
        "        out_sigmoid = out_sigmoid + self.latent_embedding_sigmoid(latent_var).unsqueeze(2).unsqueeze(3)\n",
        "        out = torch.tanh(out_tanh) * torch.sigmoid(out_sigmoid)\n",
        "        return out"
      ]
    },
    {
      "cell_type": "code",
      "execution_count": 8,
      "metadata": {
        "id": "s8ce7elsGI7c"
      },
      "outputs": [],
      "source": [
        "class Encoder(nn.Module):\n",
        "    def __init__(self, in_channels: int, latent_dim: int):\n",
        "        super(Encoder, self).__init__()\n",
        "        self.in_channels = in_channels\n",
        "        self.latent_dim = latent_dim\n",
        "\n",
        "        layers = []\n",
        "        layers.append(nn.Conv2d(in_channels=in_channels, out_channels=32, kernel_size=3, stride=1, padding='same'))\n",
        "        layers.append(nn.ReLU())\n",
        "        layers.append(nn.Conv2d(in_channels=32, out_channels=32, kernel_size=3, stride=2, padding=1))\n",
        "        layers.append(nn.ReLU())\n",
        "        layers.append(nn.Conv2d(in_channels=32, out_channels=32, kernel_size=3, stride=1, padding='same'))\n",
        "        layers.append(nn.ReLU())\n",
        "        layers.append(nn.Conv2d(in_channels=32, out_channels=64, kernel_size=3, stride=2, padding=1))\n",
        "        layers.append(nn.ReLU())\n",
        "        layers.append(nn.ZeroPad2d((0, 1, 0,1)))  # Pad 7x7 feature maps to 8x8\n",
        "        layers.append(nn.ReLU())\n",
        "        layers.append(nn.Conv2d(in_channels=64, out_channels=64, kernel_size=3, stride=1, padding='same'))\n",
        "        layers.append(nn.ReLU())\n",
        "        layers.append(nn.Conv2d(in_channels=64, out_channels=64, kernel_size=3, stride=2, padding=1))\n",
        "        layers.append(nn.ReLU())\n",
        "        for _ in range(3):\n",
        "            layers.append(nn.Conv2d(in_channels=64, out_channels=64, kernel_size=3, stride=1, padding='same'))\n",
        "            layers.append(nn.ReLU())\n",
        "        layers.append(nn.Flatten())\n",
        "        layers.append(nn.Linear(in_features=1024, out_features=2*latent_dim))\n",
        "        self.net = nn.Sequential(*layers)\n",
        "\n",
        "    def reparameterise(self, mu, logvar):\n",
        "        std = torch.exp(0.5 * logvar)\n",
        "        eps = torch.randn_like(std)\n",
        "        return mu + eps * std\n",
        "\n",
        "    def forward(self, X):\n",
        "        out = self.net(X)\n",
        "        mu, logvar = torch.split(out, self.latent_dim, dim=1)\n",
        "        z = self.reparameterise(mu, logvar)\n",
        "        return mu, logvar, z"
      ]
    },
    {
      "cell_type": "code",
      "execution_count": null,
      "metadata": {
        "id": "H2qwf5U_Jz7L"
      },
      "outputs": [],
      "source": [
        "# class Decoder(nn.Module):\n",
        "#     def __init__(self, latent_dim: int, gated_blocks: int):\n",
        "#         super(Decoder, self).__init__()\n",
        "#         self.latent_dim = latent_dim\n",
        "\n",
        "#         self.fc = nn.Linear(in_channels=latent_dim, out_channels=4*4*64)\n",
        "#         self.conv_1 = nn.Sequential(*[nn.Conv2d(in_channels=64, out_channels=64, kernel_size=3, stride=1) for _ in range(2)])\n",
        "#         self.trans_conv_1 = nn.ConvTranspose2d(in_channels=64, out_channels=64, kernel_size=3, stride=2)\n",
        "#         self.conv_2 = nn.Conv2d(in_channels=64, out_channels=64, kernel_size=3, stride=1)\n",
        "#         self.trans_conv_2 = nn.ConvTranspose2d(in_channels=64, out_channels=32, kernel_size=3, stride=2)\n",
        "#         self.conv_3 = nn.Conv2d(in_channels=32, out_channels=32, kernel_size=3, stride=1)\n",
        "#         self.trans_conv_3 = nn.ConvTranspose2d(in_channels=32, out_channels=32, kernel_size=3, stride=2)\n",
        "#         self.conv_4 = nn.Conv2d(in_channels=32, out_channels=32, kernel_size=3, stride=1)\n",
        "#         self.pixelcnn_gated_block_1 = GatedBlock(in_channels=32, out_channels=32, kernel_size=(7, 7))\n",
        "#         self.pixelcnn_gated_blocks = nn.Sequential(*[GatedBlock(in_channels=32, out_channels=32, kernel_size=(5, 5)) for _ in range(gated_blocks)])\n",
        "#         self.pixelcnn_gate_1 = ..."
      ]
    },
    {
      "cell_type": "code",
      "execution_count": 9,
      "metadata": {
        "id": "ez43R_wnUosG"
      },
      "outputs": [],
      "source": [
        "class ConditionalDecoder(nn.Module):\n",
        "    def __init__(self, latent_dim: int, in_channels: int=1, hidden_layers: int=5):\n",
        "        super(ConditionalDecoder, self).__init__()\n",
        "        self.latent_dim = latent_dim\n",
        "        self.in_channels = in_channels\n",
        "        self.hidden_layers = hidden_layers\n",
        "\n",
        "        self.causal_block = CausalBlock(in_channels=in_channels, out_channels=latent_dim, kernel_size=7)\n",
        "        self.gated_blocks = nn.Sequential(\n",
        "            *[GatedBlock(in_channels=latent_dim, out_channels=latent_dim, kernel_size=5, latent_dim=latent_dim) for _ in range(hidden_layers)]\n",
        "        )\n",
        "        self.conv_1 = nn.Conv2d(in_channels=latent_dim, out_channels=2*latent_dim, kernel_size=(1, 1))\n",
        "        self.conditional_gate_1 = ConditionalGate(latent_dim=latent_dim, out_channels=latent_dim)\n",
        "        self.conv_2 = nn.Conv2d(in_channels=latent_dim, out_channels=2*latent_dim, kernel_size=(1, 1))\n",
        "        self.conditional_gate_2 = ConditionalGate(latent_dim=latent_dim, out_channels=latent_dim)\n",
        "        self.conv_3 = nn.Conv2d(in_channels=latent_dim, out_channels=4*in_channels, kernel_size=(1, 1))\n",
        "\n",
        "    def forward(self, X, latent_var):\n",
        "        out_vertical, out_horizontal = self.causal_block(X)\n",
        "        out = self.gated_blocks({'in_vertical': out_vertical,\n",
        "                                 'in_horizontal': out_horizontal,\n",
        "                                 'latent': latent_var,\n",
        "                                 'skip': X.new_zeros(X.size()[0], self.latent_dim, X.size()[2], X.size()[3])})['in_horizontal']\n",
        "        out = self.conv_1(out)\n",
        "        out = self.conditional_gate_1(out, latent_var)\n",
        "        out = self.conv_2(out)\n",
        "        out = self.conditional_gate_2(out, latent_var)\n",
        "        out = self.conv_3(out)\n",
        "        return out"
      ]
    },
    {
      "cell_type": "code",
      "execution_count": 10,
      "metadata": {
        "id": "RjIRY23PnwvE"
      },
      "outputs": [],
      "source": [
        "class PixelVAE(nn.Module):\n",
        "    def __init__(self, in_channels: int, latent_dim: int=32, hidden_layers: int=5):\n",
        "        super(PixelVAE, self).__init__()\n",
        "        self.encoder = Encoder(in_channels=in_channels,\n",
        "                               latent_dim=latent_dim)\n",
        "        self.decoder = ConditionalDecoder(latent_dim=latent_dim,\n",
        "                                          in_channels=in_channels,\n",
        "                                          hidden_layers=hidden_layers)\n",
        "\n",
        "    def sample(self, image_size: int, num_samples: int, device='cpu'):\n",
        "        self.eval()\n",
        "\n",
        "        H, W = image_size\n",
        "        C = self.decoder.in_channels\n",
        "\n",
        "        # 1) Sample z ~ N(0, I)\n",
        "        z = torch.randn(num_samples, self.encoder.latent_dim, device=device)\n",
        "\n",
        "        # 2) Initialize an empty canvas\n",
        "        samples = torch.zeros(num_samples, C, H, W, device=device)\n",
        "\n",
        "        # 3) Raster-scan over pixels: For each position (i, j) and each channel c, ask the decoder for the logits then sample.\n",
        "        with torch.inference_mode():\n",
        "            for i in range(H):\n",
        "                for j in range(W):\n",
        "                    # decoder expects (x_partial, z) and returns logits [B, C, H, W]\n",
        "                    logits = self.decoder(samples, z)\n",
        "                    probs = torch.softmax(logits[:, :, i, j], dim=1)\n",
        "                    sampled_pixel = torch.multinomial(probs, 1).squeeze(1)\n",
        "                    samples[:, 0, i, j] = sampled_pixel\n",
        "\n",
        "        return samples.cpu()\n",
        "\n",
        "    def forward(self, X):\n",
        "        mu, logvar, z = self.encoder(X)\n",
        "        out = self.decoder(X, z)\n",
        "        return mu, logvar, z, out"
      ]
    },
    {
      "cell_type": "code",
      "execution_count": 21,
      "metadata": {
        "colab": {
          "base_uri": "https://localhost:8080/"
        },
        "id": "fJnQbPKkX5M0",
        "outputId": "1cdd6f13-3f4f-46bc-f759-638759c06d82"
      },
      "outputs": [
        {
          "data": {
            "text/plain": [
              "(torch.Size([1, 1, 28, 28]), torch.Size([1, 16]), torch.Size([1, 4, 28, 28]))"
            ]
          },
          "execution_count": 21,
          "metadata": {},
          "output_type": "execute_result"
        }
      ],
      "source": [
        "# @title Visualising forward passes and sampling of untrained model\n",
        "torch.manual_seed(42)\n",
        "model = PixelVAE(in_channels=1,\n",
        "                 latent_dim=16,\n",
        "                 hidden_layers=5)\n",
        "img, label = mnist_train[0]\n",
        "img = img.unsqueeze(0)\n",
        "img = torch.clamp((img * 4), max=3)\n",
        "sample_mu, sample_logvar, sample_z, sample_out = model(img)\n",
        "img.shape, sample_z.shape, sample_out.shape"
      ]
    },
    {
      "cell_type": "code",
      "execution_count": 22,
      "metadata": {
        "colab": {
          "base_uri": "https://localhost:8080/"
        },
        "id": "QPJkTdf01DUy",
        "outputId": "a657d795-2cea-4eb9-d526-8972bfcaaa99"
      },
      "outputs": [
        {
          "data": {
            "text/plain": [
              "(torch.Size([1, 28, 28]), torch.Size([1, 1, 28, 28]))"
            ]
          },
          "execution_count": 22,
          "metadata": {},
          "output_type": "execute_result"
        }
      ],
      "source": [
        "torch.manual_seed(42)\n",
        "model = PixelVAE(in_channels=1,\n",
        "                 latent_dim=16,\n",
        "                 hidden_layers=5)\n",
        "img, label = mnist_train[0]\n",
        "sample = model.sample((28, 28), 1)\n",
        "img.shape, sample.shape"
      ]
    },
    {
      "cell_type": "code",
      "execution_count": 23,
      "metadata": {
        "colab": {
          "base_uri": "https://localhost:8080/",
          "height": 430
        },
        "id": "HdXjDMpnu5UT",
        "outputId": "e23fc139-1b8c-4158-8ba5-ad4fbf628f96"
      },
      "outputs": [
        {
          "data": {
            "image/png": "[encoded data removed]",
            "text/plain": [
              "<Figure size 640x480 with 1 Axes>"
            ]
          },
          "metadata": {},
          "output_type": "display_data"
        }
      ],
      "source": [
        "plt.imshow(sample.squeeze().detach().numpy(), cmap='gray')\n",
        "plt.show()"
      ]
    },
    {
      "cell_type": "code",
      "execution_count": 11,
      "metadata": {
        "colab": {
          "base_uri": "https://localhost:8080/"
        },
        "id": "ylHVgXJku-6k",
        "outputId": "8229cd4c-3038-4ca0-adcf-1256b254083b"
      },
      "outputs": [
        {
          "data": {
            "text/plain": [
              "device(type='cuda')"
            ]
          },
          "execution_count": 11,
          "metadata": {},
          "output_type": "execute_result"
        }
      ],
      "source": [
        "device = torch.device(\"cuda\" if torch.cuda.is_available() else \"cpu\")\n",
        "device"
      ]
    },
    {
      "cell_type": "code",
      "execution_count": 12,
      "metadata": {
        "id": "JWTB-EOUv1mU"
      },
      "outputs": [],
      "source": [
        "# @title Creating DataLoader for binarised MNIST\n",
        "from torch.utils.data import DataLoader\n",
        "\n",
        "train_loader = DataLoader(mnist_train, batch_size=32, shuffle=True)\n",
        "test_loader = DataLoader(mnist_test, batch_size=32, shuffle=False)"
      ]
    },
    {
      "cell_type": "code",
      "execution_count": 13,
      "metadata": {
        "colab": {
          "base_uri": "https://localhost:8080/"
        },
        "id": "JXy2P_oVv3LS",
        "outputId": "fea431a5-6fe3-4fa3-d2a2-bf4a574201cd"
      },
      "outputs": [
        {
          "name": "stderr",
          "output_type": "stream",
          "text": [
            "100%|██████████| 1875/1875 [03:40<00:00,  8.51it/s]\n"
          ]
        },
        {
          "name": "stdout",
          "output_type": "stream",
          "text": [
            "Epoch 1/20 \n",
            "Recon: 0.46879093613624573, KL: 0.0018850988735755285, Total: 0.47067603500982125, Test loss: 0.2513661811146112\n"
          ]
        },
        {
          "name": "stderr",
          "output_type": "stream",
          "text": [
            "100%|██████████| 1875/1875 [03:41<00:00,  8.48it/s]\n"
          ]
        },
        {
          "name": "stdout",
          "output_type": "stream",
          "text": [
            "Epoch 2/20 \n",
            "Recon: 0.2332124849319458, KL: 2.669207751750946e-06, Total: 0.23321515413969754, Test loss: 0.21893773111291587\n"
          ]
        },
        {
          "name": "stderr",
          "output_type": "stream",
          "text": [
            "100%|██████████| 1875/1875 [03:41<00:00,  8.48it/s]\n"
          ]
        },
        {
          "name": "stdout",
          "output_type": "stream",
          "text": [
            "Epoch 3/20 \n",
            "Recon: 0.21453307015101114, KL: 1.7120584845542908e-06, Total: 0.2145347822094957, Test loss: 0.20768943481361524\n"
          ]
        },
        {
          "name": "stderr",
          "output_type": "stream",
          "text": [
            "100%|██████████| 1875/1875 [03:41<00:00,  8.47it/s]\n"
          ]
        },
        {
          "name": "stdout",
          "output_type": "stream",
          "text": [
            "Epoch 4/20 \n",
            "Recon: 0.20662190883159637, KL: 1.4450783530871073e-06, Total: 0.20662335390994946, Test loss: 0.202397466181947\n"
          ]
        },
        {
          "name": "stderr",
          "output_type": "stream",
          "text": [
            "100%|██████████| 1875/1875 [03:41<00:00,  8.47it/s]\n"
          ]
        },
        {
          "name": "stdout",
          "output_type": "stream",
          "text": [
            "Epoch 5/20 \n",
            "Recon: 0.20196910343170166, KL: 1.327448586622874e-06, Total: 0.2019704308802883, Test loss: 0.1981589021012425\n"
          ]
        },
        {
          "name": "stderr",
          "output_type": "stream",
          "text": [
            "100%|██████████| 1875/1875 [03:41<00:00,  8.47it/s]\n"
          ]
        },
        {
          "name": "stdout",
          "output_type": "stream",
          "text": [
            "Epoch 6/20 \n",
            "Recon: 0.1984420038541158, KL: 1.258404552936554e-06, Total: 0.19844326225866873, Test loss: 0.1952050936679109\n"
          ]
        },
        {
          "name": "stderr",
          "output_type": "stream",
          "text": [
            "100%|██████████| 1875/1875 [03:40<00:00,  8.48it/s]\n"
          ]
        },
        {
          "name": "stdout",
          "output_type": "stream",
          "text": [
            "Epoch 7/20 \n",
            "Recon: 0.19549123338858287, KL: 1.2277722358703614e-06, Total: 0.19549246116081873, Test loss: 0.19280335530876733\n"
          ]
        },
        {
          "name": "stderr",
          "output_type": "stream",
          "text": [
            "100%|██████████| 1875/1875 [03:41<00:00,  8.48it/s]\n"
          ]
        },
        {
          "name": "stdout",
          "output_type": "stream",
          "text": [
            "Epoch 8/20 \n",
            "Recon: 0.19304008504549663, KL: 1.190457244714101e-06, Total: 0.19304127550274133, Test loss: 0.19060950676282754\n"
          ]
        },
        {
          "name": "stderr",
          "output_type": "stream",
          "text": [
            "100%|██████████| 1875/1875 [03:41<00:00,  8.48it/s]\n"
          ]
        },
        {
          "name": "stdout",
          "output_type": "stream",
          "text": [
            "Epoch 9/20 \n",
            "Recon: 0.19090788276195525, KL: 1.1659731467564901e-06, Total: 0.190909048735102, Test loss: 0.18803246076495503\n"
          ]
        },
        {
          "name": "stderr",
          "output_type": "stream",
          "text": [
            "100%|██████████| 1875/1875 [03:41<00:00,  8.48it/s]\n"
          ]
        },
        {
          "name": "stdout",
          "output_type": "stream",
          "text": [
            "Epoch 10/20 \n",
            "Recon: 0.18887510999043783, KL: 1.1461555957794189e-06, Total: 0.1888762561460336, Test loss: 0.18638535791311783\n"
          ]
        },
        {
          "name": "stderr",
          "output_type": "stream",
          "text": [
            "100%|██████████| 1875/1875 [03:41<00:00,  8.47it/s]\n"
          ]
        },
        {
          "name": "stdout",
          "output_type": "stream",
          "text": [
            "Epoch 11/20 \n",
            "Recon: 0.18704273737271626, KL: 1.129177212715149e-06, Total: 0.187043866549929, Test loss: 0.1852114600019333\n"
          ]
        },
        {
          "name": "stderr",
          "output_type": "stream",
          "text": [
            "100%|██████████| 1875/1875 [03:41<00:00,  8.48it/s]\n"
          ]
        },
        {
          "name": "stdout",
          "output_type": "stream",
          "text": [
            "Epoch 12/20 \n",
            "Recon: 0.18547341574033102, KL: 1.1116291085879008e-06, Total: 0.1854745273694396, Test loss: 0.18371865248527772\n"
          ]
        },
        {
          "name": "stderr",
          "output_type": "stream",
          "text": [
            "100%|██████████| 1875/1875 [03:41<00:00,  8.48it/s]\n"
          ]
        },
        {
          "name": "stdout",
          "output_type": "stream",
          "text": [
            "Epoch 13/20 \n",
            "Recon: 0.18407779653072356, KL: 1.1042277018229166e-06, Total: 0.1840789007584254, Test loss: 0.18197629769770102\n"
          ]
        },
        {
          "name": "stderr",
          "output_type": "stream",
          "text": [
            "100%|██████████| 1875/1875 [03:41<00:00,  8.48it/s]\n"
          ]
        },
        {
          "name": "stdout",
          "output_type": "stream",
          "text": [
            "Epoch 14/20 \n",
            "Recon: 0.18283889841238657, KL: 1.0840425888697307e-06, Total: 0.18283998245497546, Test loss: 0.1810512676977883\n"
          ]
        },
        {
          "name": "stderr",
          "output_type": "stream",
          "text": [
            "100%|██████████| 1875/1875 [03:41<00:00,  8.47it/s]\n"
          ]
        },
        {
          "name": "stdout",
          "output_type": "stream",
          "text": [
            "Epoch 15/20 \n",
            "Recon: 0.18171209883689882, KL: 1.0783106088638305e-06, Total: 0.18171317714750768, Test loss: 0.18016552091977847\n"
          ]
        },
        {
          "name": "stderr",
          "output_type": "stream",
          "text": [
            "100%|██████████| 1875/1875 [03:40<00:00,  8.48it/s]\n"
          ]
        },
        {
          "name": "stdout",
          "output_type": "stream",
          "text": [
            "Epoch 16/20 \n",
            "Recon: 0.18073283513387045, KL: 1.0657146573066712e-06, Total: 0.18073390084852775, Test loss: 0.17896763918498834\n"
          ]
        },
        {
          "name": "stderr",
          "output_type": "stream",
          "text": [
            "100%|██████████| 1875/1875 [03:41<00:00,  8.48it/s]\n"
          ]
        },
        {
          "name": "stdout",
          "output_type": "stream",
          "text": [
            "Epoch 17/20 \n",
            "Recon: 0.17982728306452433, KL: 1.05980783700943e-06, Total: 0.17982834287236135, Test loss: 0.17829358720550903\n"
          ]
        },
        {
          "name": "stderr",
          "output_type": "stream",
          "text": [
            "100%|██████████| 1875/1875 [03:41<00:00,  8.48it/s]\n"
          ]
        },
        {
          "name": "stdout",
          "output_type": "stream",
          "text": [
            "Epoch 18/20 \n",
            "Recon: 0.17895832119782765, KL: 1.0495265324910483e-06, Total: 0.17895937072436016, Test loss: 0.17779624404998634\n"
          ]
        },
        {
          "name": "stderr",
          "output_type": "stream",
          "text": [
            "100%|██████████| 1875/1875 [03:41<00:00,  8.48it/s]\n"
          ]
        },
        {
          "name": "stdout",
          "output_type": "stream",
          "text": [
            "Epoch 19/20 \n",
            "Recon: 0.17826482648849487, KL: 1.0427782932917276e-06, Total: 0.17826586926678817, Test loss: 0.1769415905681281\n"
          ]
        },
        {
          "name": "stderr",
          "output_type": "stream",
          "text": [
            "100%|██████████| 1875/1875 [03:41<00:00,  8.48it/s]\n"
          ]
        },
        {
          "name": "stdout",
          "output_type": "stream",
          "text": [
            "Epoch 20/20 \n",
            "Recon: 0.17749319543043773, KL: 1.0268052419026694e-06, Total: 0.17749422223567962, Test loss: 0.17629774557515837\n"
          ]
        }
      ],
      "source": [
        "model = PixelVAE(in_channels=1,\n",
        "                 latent_dim=128,\n",
        "                 hidden_layers=15).to(device)\n",
        "optimiser = torch.optim.Adam(model.parameters(), lr=1e-4)\n",
        "# scheduler = torch.optim.lr_scheduler.StepLR(optimiser, step_size=10, gamma=0.5)\n",
        "epochs = 20\n",
        "scheduler = torch.optim.lr_scheduler.OneCycleLR(\n",
        "    optimiser, max_lr=1e-4, total_steps=epochs*len(train_loader),\n",
        "    pct_start=0.1, anneal_strategy='cos', div_factor=10)\n",
        "\n",
        "for epoch in range(epochs):\n",
        "    model.train()\n",
        "    epoch_reconstruction_loss, epoch_regularisation_loss = 0.0, 0.0\n",
        "\n",
        "    for imgs, _ in tqdm(train_loader):\n",
        "        imgs = imgs.to(device)\n",
        "\n",
        "        optimiser.zero_grad()\n",
        "\n",
        "        pixel_targets = torch.clamp((imgs * 4).long(), max=3)\n",
        "        mu, logvar, z, logits = model(pixel_targets.float())\n",
        "\n",
        "        # Reconstruction: sum over pixels, avg over batch\n",
        "        reconstruction_loss = F.cross_entropy(logits, pixel_targets.squeeze(1))\n",
        "\n",
        "        # KL divergence\n",
        "        regularisation_loss = -0.5 * torch.sum(1 + logvar - mu.pow(2) - logvar.exp(), dim=1).mean()\n",
        "\n",
        "        loss = reconstruction_loss + regularisation_loss\n",
        "        loss.backward()\n",
        "        torch.nn.utils.clip_grad_norm_(model.parameters(), max_norm=1.0)\n",
        "        optimiser.step()\n",
        "\n",
        "        epoch_reconstruction_loss += reconstruction_loss.item()\n",
        "        epoch_regularisation_loss += regularisation_loss.item()\n",
        "\n",
        "    scheduler.step()\n",
        "\n",
        "    model.eval()\n",
        "    running_val_loss = 0.0\n",
        "    with torch.inference_mode():\n",
        "        for img, _ in test_loader:\n",
        "            img = img.to(device)\n",
        "            pixel_targets  = torch.clamp((img * 4).long(), max=3)   # (B,1,H,W)\n",
        "\n",
        "            mu, logvar, z, logits = model(pixel_targets.float())\n",
        "            loss = F.cross_entropy(logits, pixel_targets.squeeze(1))\n",
        "            running_val_loss += loss.item()\n",
        "\n",
        "    avg_val_loss = running_val_loss / len(test_loader)\n",
        "\n",
        "    print(f\"Epoch {epoch+1}/{epochs} \\nRecon: {epoch_reconstruction_loss/len(train_loader)}, \"\n",
        "          f\"KL: {epoch_regularisation_loss/len(train_loader)}, Total: {(epoch_reconstruction_loss+epoch_regularisation_loss)/len(train_loader)}, \"\n",
        "          f\"Test loss: {avg_val_loss}\")\n",
        "    "
      ]
    },
    {
      "cell_type": "code",
      "execution_count": 14,
      "metadata": {
        "id": "KmmFJDxxv5aM"
      },
      "outputs": [],
      "source": [
        "# Save trained model\n",
        "torch.save(model,'pixelvae_4_way_model_epochs_20_v3.pth')\n",
        "\n",
        "torch.save(optimiser,'pixelvae_4_way_optimiser_epochs_20_v3.pth')"
      ]
    },
    {
      "cell_type": "code",
      "execution_count": 17,
      "metadata": {},
      "outputs": [],
      "source": [
        "import os\n",
        "os.environ['TORCH_FORCE_NO_WEIGHTS_ONLY_LOAD'] = '1'"
      ]
    },
    {
      "cell_type": "code",
      "execution_count": 24,
      "metadata": {
        "colab": {
          "base_uri": "https://localhost:8080/"
        },
        "id": "V4ezR-Uov620",
        "outputId": "ab60b82a-4dd3-40bc-d6f9-129649133ec5"
      },
      "outputs": [
        {
          "data": {
            "text/plain": [
              "PixelVAE(\n",
              "  (encoder): Encoder(\n",
              "    (net): Sequential(\n",
              "      (0): Conv2d(1, 32, kernel_size=(3, 3), stride=(1, 1), padding=same)\n",
              "      (1): ReLU()\n",
              "      (2): Conv2d(32, 32, kernel_size=(3, 3), stride=(2, 2), padding=(1, 1))\n",
              "      (3): ReLU()\n",
              "      (4): Conv2d(32, 32, kernel_size=(3, 3), stride=(1, 1), padding=same)\n",
              "      (5): ReLU()\n",
              "      (6): Conv2d(32, 64, kernel_size=(3, 3), stride=(2, 2), padding=(1, 1))\n",
              "      (7): ReLU()\n",
              "      (8): ZeroPad2d((0, 1, 0, 1))\n",
              "      (9): ReLU()\n",
              "      (10): Conv2d(64, 64, kernel_size=(3, 3), stride=(1, 1), padding=same)\n",
              "      (11): ReLU()\n",
              "      (12): Conv2d(64, 64, kernel_size=(3, 3), stride=(2, 2), padding=(1, 1))\n",
              "      (13): ReLU()\n",
              "      (14): Conv2d(64, 64, kernel_size=(3, 3), stride=(1, 1), padding=same)\n",
              "      (15): ReLU()\n",
              "      (16): Conv2d(64, 64, kernel_size=(3, 3), stride=(1, 1), padding=same)\n",
              "      (17): ReLU()\n",
              "      (18): Conv2d(64, 64, kernel_size=(3, 3), stride=(1, 1), padding=same)\n",
              "      (19): ReLU()\n",
              "      (20): Flatten(start_dim=1, end_dim=-1)\n",
              "      (21): Linear(in_features=1024, out_features=128, bias=True)\n",
              "    )\n",
              "  )\n",
              "  (decoder): ConditionalDecoder(\n",
              "    (causal_block): CausalBlock(\n",
              "      (vertical_fc): Conv2d(1, 128, kernel_size=(1, 1), stride=(1, 1))\n",
              "      (vertical_conv): CroppedConvolution2D(\n",
              "        (conv): Conv2d(1, 128, kernel_size=(4, 7), stride=(1, 1), padding=(4, 3))\n",
              "      )\n",
              "      (vertical_to_horizontal): Conv2d(128, 128, kernel_size=(1, 1), stride=(1, 1))\n",
              "      (horizontal_conv): MaskedConvolution2D(\n",
              "        (conv): Conv2d(1, 128, kernel_size=(1, 7), stride=(1, 1), padding=(0, 3))\n",
              "      )\n",
              "      (horizontal_fc): MaskedConvolution2D(\n",
              "        (conv): Conv2d(64, 64, kernel_size=(1, 1), stride=(1, 1))\n",
              "      )\n",
              "    )\n",
              "    (gated_blocks): Sequential(\n",
              "      (0): GatedBlock(\n",
              "        (vertical_fc): Conv2d(64, 128, kernel_size=(1, 1), stride=(1, 1))\n",
              "        (vertical_to_horizontal): MaskedConvolution2D(\n",
              "          (conv): Conv2d(128, 128, kernel_size=(1, 1), stride=(1, 1))\n",
              "        )\n",
              "        (vertical_conv): CroppedConvolution2D(\n",
              "          (conv): Conv2d(64, 128, kernel_size=(3, 5), stride=(1, 1), padding=(3, 2))\n",
              "        )\n",
              "        (horizontal_conv): MaskedConvolution2D(\n",
              "          (conv): Conv2d(64, 128, kernel_size=(1, 5), stride=(1, 1), padding=(0, 2))\n",
              "        )\n",
              "        (horizontal_fc): MaskedConvolution2D(\n",
              "          (conv): Conv2d(64, 64, kernel_size=(1, 1), stride=(1, 1))\n",
              "        )\n",
              "        (horizontal_skip): MaskedConvolution2D(\n",
              "          (conv): Conv2d(64, 64, kernel_size=(1, 1), stride=(1, 1))\n",
              "        )\n",
              "        (latent_embedding): Linear(in_features=64, out_features=128, bias=True)\n",
              "      )\n",
              "      (1): GatedBlock(\n",
              "        (vertical_fc): Conv2d(64, 128, kernel_size=(1, 1), stride=(1, 1))\n",
              "        (vertical_to_horizontal): MaskedConvolution2D(\n",
              "          (conv): Conv2d(128, 128, kernel_size=(1, 1), stride=(1, 1))\n",
              "        )\n",
              "        (vertical_conv): CroppedConvolution2D(\n",
              "          (conv): Conv2d(64, 128, kernel_size=(3, 5), stride=(1, 1), padding=(3, 2))\n",
              "        )\n",
              "        (horizontal_conv): MaskedConvolution2D(\n",
              "          (conv): Conv2d(64, 128, kernel_size=(1, 5), stride=(1, 1), padding=(0, 2))\n",
              "        )\n",
              "        (horizontal_fc): MaskedConvolution2D(\n",
              "          (conv): Conv2d(64, 64, kernel_size=(1, 1), stride=(1, 1))\n",
              "        )\n",
              "        (horizontal_skip): MaskedConvolution2D(\n",
              "          (conv): Conv2d(64, 64, kernel_size=(1, 1), stride=(1, 1))\n",
              "        )\n",
              "        (latent_embedding): Linear(in_features=64, out_features=128, bias=True)\n",
              "      )\n",
              "      (2): GatedBlock(\n",
              "        (vertical_fc): Conv2d(64, 128, kernel_size=(1, 1), stride=(1, 1))\n",
              "        (vertical_to_horizontal): MaskedConvolution2D(\n",
              "          (conv): Conv2d(128, 128, kernel_size=(1, 1), stride=(1, 1))\n",
              "        )\n",
              "        (vertical_conv): CroppedConvolution2D(\n",
              "          (conv): Conv2d(64, 128, kernel_size=(3, 5), stride=(1, 1), padding=(3, 2))\n",
              "        )\n",
              "        (horizontal_conv): MaskedConvolution2D(\n",
              "          (conv): Conv2d(64, 128, kernel_size=(1, 5), stride=(1, 1), padding=(0, 2))\n",
              "        )\n",
              "        (horizontal_fc): MaskedConvolution2D(\n",
              "          (conv): Conv2d(64, 64, kernel_size=(1, 1), stride=(1, 1))\n",
              "        )\n",
              "        (horizontal_skip): MaskedConvolution2D(\n",
              "          (conv): Conv2d(64, 64, kernel_size=(1, 1), stride=(1, 1))\n",
              "        )\n",
              "        (latent_embedding): Linear(in_features=64, out_features=128, bias=True)\n",
              "      )\n",
              "      (3): GatedBlock(\n",
              "        (vertical_fc): Conv2d(64, 128, kernel_size=(1, 1), stride=(1, 1))\n",
              "        (vertical_to_horizontal): MaskedConvolution2D(\n",
              "          (conv): Conv2d(128, 128, kernel_size=(1, 1), stride=(1, 1))\n",
              "        )\n",
              "        (vertical_conv): CroppedConvolution2D(\n",
              "          (conv): Conv2d(64, 128, kernel_size=(3, 5), stride=(1, 1), padding=(3, 2))\n",
              "        )\n",
              "        (horizontal_conv): MaskedConvolution2D(\n",
              "          (conv): Conv2d(64, 128, kernel_size=(1, 5), stride=(1, 1), padding=(0, 2))\n",
              "        )\n",
              "        (horizontal_fc): MaskedConvolution2D(\n",
              "          (conv): Conv2d(64, 64, kernel_size=(1, 1), stride=(1, 1))\n",
              "        )\n",
              "        (horizontal_skip): MaskedConvolution2D(\n",
              "          (conv): Conv2d(64, 64, kernel_size=(1, 1), stride=(1, 1))\n",
              "        )\n",
              "        (latent_embedding): Linear(in_features=64, out_features=128, bias=True)\n",
              "      )\n",
              "      (4): GatedBlock(\n",
              "        (vertical_fc): Conv2d(64, 128, kernel_size=(1, 1), stride=(1, 1))\n",
              "        (vertical_to_horizontal): MaskedConvolution2D(\n",
              "          (conv): Conv2d(128, 128, kernel_size=(1, 1), stride=(1, 1))\n",
              "        )\n",
              "        (vertical_conv): CroppedConvolution2D(\n",
              "          (conv): Conv2d(64, 128, kernel_size=(3, 5), stride=(1, 1), padding=(3, 2))\n",
              "        )\n",
              "        (horizontal_conv): MaskedConvolution2D(\n",
              "          (conv): Conv2d(64, 128, kernel_size=(1, 5), stride=(1, 1), padding=(0, 2))\n",
              "        )\n",
              "        (horizontal_fc): MaskedConvolution2D(\n",
              "          (conv): Conv2d(64, 64, kernel_size=(1, 1), stride=(1, 1))\n",
              "        )\n",
              "        (horizontal_skip): MaskedConvolution2D(\n",
              "          (conv): Conv2d(64, 64, kernel_size=(1, 1), stride=(1, 1))\n",
              "        )\n",
              "        (latent_embedding): Linear(in_features=64, out_features=128, bias=True)\n",
              "      )\n",
              "      (5): GatedBlock(\n",
              "        (vertical_fc): Conv2d(64, 128, kernel_size=(1, 1), stride=(1, 1))\n",
              "        (vertical_to_horizontal): MaskedConvolution2D(\n",
              "          (conv): Conv2d(128, 128, kernel_size=(1, 1), stride=(1, 1))\n",
              "        )\n",
              "        (vertical_conv): CroppedConvolution2D(\n",
              "          (conv): Conv2d(64, 128, kernel_size=(3, 5), stride=(1, 1), padding=(3, 2))\n",
              "        )\n",
              "        (horizontal_conv): MaskedConvolution2D(\n",
              "          (conv): Conv2d(64, 128, kernel_size=(1, 5), stride=(1, 1), padding=(0, 2))\n",
              "        )\n",
              "        (horizontal_fc): MaskedConvolution2D(\n",
              "          (conv): Conv2d(64, 64, kernel_size=(1, 1), stride=(1, 1))\n",
              "        )\n",
              "        (horizontal_skip): MaskedConvolution2D(\n",
              "          (conv): Conv2d(64, 64, kernel_size=(1, 1), stride=(1, 1))\n",
              "        )\n",
              "        (latent_embedding): Linear(in_features=64, out_features=128, bias=True)\n",
              "      )\n",
              "      (6): GatedBlock(\n",
              "        (vertical_fc): Conv2d(64, 128, kernel_size=(1, 1), stride=(1, 1))\n",
              "        (vertical_to_horizontal): MaskedConvolution2D(\n",
              "          (conv): Conv2d(128, 128, kernel_size=(1, 1), stride=(1, 1))\n",
              "        )\n",
              "        (vertical_conv): CroppedConvolution2D(\n",
              "          (conv): Conv2d(64, 128, kernel_size=(3, 5), stride=(1, 1), padding=(3, 2))\n",
              "        )\n",
              "        (horizontal_conv): MaskedConvolution2D(\n",
              "          (conv): Conv2d(64, 128, kernel_size=(1, 5), stride=(1, 1), padding=(0, 2))\n",
              "        )\n",
              "        (horizontal_fc): MaskedConvolution2D(\n",
              "          (conv): Conv2d(64, 64, kernel_size=(1, 1), stride=(1, 1))\n",
              "        )\n",
              "        (horizontal_skip): MaskedConvolution2D(\n",
              "          (conv): Conv2d(64, 64, kernel_size=(1, 1), stride=(1, 1))\n",
              "        )\n",
              "        (latent_embedding): Linear(in_features=64, out_features=128, bias=True)\n",
              "      )\n",
              "      (7): GatedBlock(\n",
              "        (vertical_fc): Conv2d(64, 128, kernel_size=(1, 1), stride=(1, 1))\n",
              "        (vertical_to_horizontal): MaskedConvolution2D(\n",
              "          (conv): Conv2d(128, 128, kernel_size=(1, 1), stride=(1, 1))\n",
              "        )\n",
              "        (vertical_conv): CroppedConvolution2D(\n",
              "          (conv): Conv2d(64, 128, kernel_size=(3, 5), stride=(1, 1), padding=(3, 2))\n",
              "        )\n",
              "        (horizontal_conv): MaskedConvolution2D(\n",
              "          (conv): Conv2d(64, 128, kernel_size=(1, 5), stride=(1, 1), padding=(0, 2))\n",
              "        )\n",
              "        (horizontal_fc): MaskedConvolution2D(\n",
              "          (conv): Conv2d(64, 64, kernel_size=(1, 1), stride=(1, 1))\n",
              "        )\n",
              "        (horizontal_skip): MaskedConvolution2D(\n",
              "          (conv): Conv2d(64, 64, kernel_size=(1, 1), stride=(1, 1))\n",
              "        )\n",
              "        (latent_embedding): Linear(in_features=64, out_features=128, bias=True)\n",
              "      )\n",
              "      (8): GatedBlock(\n",
              "        (vertical_fc): Conv2d(64, 128, kernel_size=(1, 1), stride=(1, 1))\n",
              "        (vertical_to_horizontal): MaskedConvolution2D(\n",
              "          (conv): Conv2d(128, 128, kernel_size=(1, 1), stride=(1, 1))\n",
              "        )\n",
              "        (vertical_conv): CroppedConvolution2D(\n",
              "          (conv): Conv2d(64, 128, kernel_size=(3, 5), stride=(1, 1), padding=(3, 2))\n",
              "        )\n",
              "        (horizontal_conv): MaskedConvolution2D(\n",
              "          (conv): Conv2d(64, 128, kernel_size=(1, 5), stride=(1, 1), padding=(0, 2))\n",
              "        )\n",
              "        (horizontal_fc): MaskedConvolution2D(\n",
              "          (conv): Conv2d(64, 64, kernel_size=(1, 1), stride=(1, 1))\n",
              "        )\n",
              "        (horizontal_skip): MaskedConvolution2D(\n",
              "          (conv): Conv2d(64, 64, kernel_size=(1, 1), stride=(1, 1))\n",
              "        )\n",
              "        (latent_embedding): Linear(in_features=64, out_features=128, bias=True)\n",
              "      )\n",
              "      (9): GatedBlock(\n",
              "        (vertical_fc): Conv2d(64, 128, kernel_size=(1, 1), stride=(1, 1))\n",
              "        (vertical_to_horizontal): MaskedConvolution2D(\n",
              "          (conv): Conv2d(128, 128, kernel_size=(1, 1), stride=(1, 1))\n",
              "        )\n",
              "        (vertical_conv): CroppedConvolution2D(\n",
              "          (conv): Conv2d(64, 128, kernel_size=(3, 5), stride=(1, 1), padding=(3, 2))\n",
              "        )\n",
              "        (horizontal_conv): MaskedConvolution2D(\n",
              "          (conv): Conv2d(64, 128, kernel_size=(1, 5), stride=(1, 1), padding=(0, 2))\n",
              "        )\n",
              "        (horizontal_fc): MaskedConvolution2D(\n",
              "          (conv): Conv2d(64, 64, kernel_size=(1, 1), stride=(1, 1))\n",
              "        )\n",
              "        (horizontal_skip): MaskedConvolution2D(\n",
              "          (conv): Conv2d(64, 64, kernel_size=(1, 1), stride=(1, 1))\n",
              "        )\n",
              "        (latent_embedding): Linear(in_features=64, out_features=128, bias=True)\n",
              "      )\n",
              "      (10): GatedBlock(\n",
              "        (vertical_fc): Conv2d(64, 128, kernel_size=(1, 1), stride=(1, 1))\n",
              "        (vertical_to_horizontal): MaskedConvolution2D(\n",
              "          (conv): Conv2d(128, 128, kernel_size=(1, 1), stride=(1, 1))\n",
              "        )\n",
              "        (vertical_conv): CroppedConvolution2D(\n",
              "          (conv): Conv2d(64, 128, kernel_size=(3, 5), stride=(1, 1), padding=(3, 2))\n",
              "        )\n",
              "        (horizontal_conv): MaskedConvolution2D(\n",
              "          (conv): Conv2d(64, 128, kernel_size=(1, 5), stride=(1, 1), padding=(0, 2))\n",
              "        )\n",
              "        (horizontal_fc): MaskedConvolution2D(\n",
              "          (conv): Conv2d(64, 64, kernel_size=(1, 1), stride=(1, 1))\n",
              "        )\n",
              "        (horizontal_skip): MaskedConvolution2D(\n",
              "          (conv): Conv2d(64, 64, kernel_size=(1, 1), stride=(1, 1))\n",
              "        )\n",
              "        (latent_embedding): Linear(in_features=64, out_features=128, bias=True)\n",
              "      )\n",
              "      (11): GatedBlock(\n",
              "        (vertical_fc): Conv2d(64, 128, kernel_size=(1, 1), stride=(1, 1))\n",
              "        (vertical_to_horizontal): MaskedConvolution2D(\n",
              "          (conv): Conv2d(128, 128, kernel_size=(1, 1), stride=(1, 1))\n",
              "        )\n",
              "        (vertical_conv): CroppedConvolution2D(\n",
              "          (conv): Conv2d(64, 128, kernel_size=(3, 5), stride=(1, 1), padding=(3, 2))\n",
              "        )\n",
              "        (horizontal_conv): MaskedConvolution2D(\n",
              "          (conv): Conv2d(64, 128, kernel_size=(1, 5), stride=(1, 1), padding=(0, 2))\n",
              "        )\n",
              "        (horizontal_fc): MaskedConvolution2D(\n",
              "          (conv): Conv2d(64, 64, kernel_size=(1, 1), stride=(1, 1))\n",
              "        )\n",
              "        (horizontal_skip): MaskedConvolution2D(\n",
              "          (conv): Conv2d(64, 64, kernel_size=(1, 1), stride=(1, 1))\n",
              "        )\n",
              "        (latent_embedding): Linear(in_features=64, out_features=128, bias=True)\n",
              "      )\n",
              "      (12): GatedBlock(\n",
              "        (vertical_fc): Conv2d(64, 128, kernel_size=(1, 1), stride=(1, 1))\n",
              "        (vertical_to_horizontal): MaskedConvolution2D(\n",
              "          (conv): Conv2d(128, 128, kernel_size=(1, 1), stride=(1, 1))\n",
              "        )\n",
              "        (vertical_conv): CroppedConvolution2D(\n",
              "          (conv): Conv2d(64, 128, kernel_size=(3, 5), stride=(1, 1), padding=(3, 2))\n",
              "        )\n",
              "        (horizontal_conv): MaskedConvolution2D(\n",
              "          (conv): Conv2d(64, 128, kernel_size=(1, 5), stride=(1, 1), padding=(0, 2))\n",
              "        )\n",
              "        (horizontal_fc): MaskedConvolution2D(\n",
              "          (conv): Conv2d(64, 64, kernel_size=(1, 1), stride=(1, 1))\n",
              "        )\n",
              "        (horizontal_skip): MaskedConvolution2D(\n",
              "          (conv): Conv2d(64, 64, kernel_size=(1, 1), stride=(1, 1))\n",
              "        )\n",
              "        (latent_embedding): Linear(in_features=64, out_features=128, bias=True)\n",
              "      )\n",
              "      (13): GatedBlock(\n",
              "        (vertical_fc): Conv2d(64, 128, kernel_size=(1, 1), stride=(1, 1))\n",
              "        (vertical_to_horizontal): MaskedConvolution2D(\n",
              "          (conv): Conv2d(128, 128, kernel_size=(1, 1), stride=(1, 1))\n",
              "        )\n",
              "        (vertical_conv): CroppedConvolution2D(\n",
              "          (conv): Conv2d(64, 128, kernel_size=(3, 5), stride=(1, 1), padding=(3, 2))\n",
              "        )\n",
              "        (horizontal_conv): MaskedConvolution2D(\n",
              "          (conv): Conv2d(64, 128, kernel_size=(1, 5), stride=(1, 1), padding=(0, 2))\n",
              "        )\n",
              "        (horizontal_fc): MaskedConvolution2D(\n",
              "          (conv): Conv2d(64, 64, kernel_size=(1, 1), stride=(1, 1))\n",
              "        )\n",
              "        (horizontal_skip): MaskedConvolution2D(\n",
              "          (conv): Conv2d(64, 64, kernel_size=(1, 1), stride=(1, 1))\n",
              "        )\n",
              "        (latent_embedding): Linear(in_features=64, out_features=128, bias=True)\n",
              "      )\n",
              "      (14): GatedBlock(\n",
              "        (vertical_fc): Conv2d(64, 128, kernel_size=(1, 1), stride=(1, 1))\n",
              "        (vertical_to_horizontal): MaskedConvolution2D(\n",
              "          (conv): Conv2d(128, 128, kernel_size=(1, 1), stride=(1, 1))\n",
              "        )\n",
              "        (vertical_conv): CroppedConvolution2D(\n",
              "          (conv): Conv2d(64, 128, kernel_size=(3, 5), stride=(1, 1), padding=(3, 2))\n",
              "        )\n",
              "        (horizontal_conv): MaskedConvolution2D(\n",
              "          (conv): Conv2d(64, 128, kernel_size=(1, 5), stride=(1, 1), padding=(0, 2))\n",
              "        )\n",
              "        (horizontal_fc): MaskedConvolution2D(\n",
              "          (conv): Conv2d(64, 64, kernel_size=(1, 1), stride=(1, 1))\n",
              "        )\n",
              "        (horizontal_skip): MaskedConvolution2D(\n",
              "          (conv): Conv2d(64, 64, kernel_size=(1, 1), stride=(1, 1))\n",
              "        )\n",
              "        (latent_embedding): Linear(in_features=64, out_features=128, bias=True)\n",
              "      )\n",
              "    )\n",
              "    (conv_1): Conv2d(64, 128, kernel_size=(1, 1), stride=(1, 1))\n",
              "    (conditional_gate_1): ConditionalGate(\n",
              "      (latent_embedding_tanh): Linear(in_features=64, out_features=64, bias=True)\n",
              "      (latent_embedding_sigmoid): Linear(in_features=64, out_features=64, bias=True)\n",
              "    )\n",
              "    (conv_2): Conv2d(64, 128, kernel_size=(1, 1), stride=(1, 1))\n",
              "    (conditional_gate_2): ConditionalGate(\n",
              "      (latent_embedding_tanh): Linear(in_features=64, out_features=64, bias=True)\n",
              "      (latent_embedding_sigmoid): Linear(in_features=64, out_features=64, bias=True)\n",
              "    )\n",
              "    (conv_3): Conv2d(64, 4, kernel_size=(1, 1), stride=(1, 1))\n",
              "  )\n",
              ")"
            ]
          },
          "execution_count": 24,
          "metadata": {},
          "output_type": "execute_result"
        }
      ],
      "source": [
        "# @title Load trained model\n",
        "\n",
        "model = PixelVAE(in_channels=1,\n",
        "                 latent_dim=64,\n",
        "                 hidden_layers=15)  # Create an instance of your model\n",
        "\n",
        "model.load_state_dict(torch.load('pixelvae_4_way_model_epochs_5.pth', weights_only=False)) # Load the saved state dictionary\n",
        "model.to(device)"
      ]
    },
    {
      "cell_type": "code",
      "execution_count": 15,
      "metadata": {
        "id": "o1sxhRO7v9KO"
      },
      "outputs": [
        {
          "data": {
            "image/png": "[encoded data removed]",
            "text/plain": [
              "<Figure size 1200x1200 with 100 Axes>"
            ]
          },
          "metadata": {},
          "output_type": "display_data"
        }
      ],
      "source": [
        "generated_images = model.sample((28, 28), num_samples=100, device=device)\n",
        "\n",
        "# Plot the 100 images in a 10x10 grid\n",
        "fig, axes = plt.subplots(10, 10, figsize=(12, 12))\n",
        "for idx, ax in enumerate(axes.flatten()):\n",
        "    ax.imshow(generated_images[idx].squeeze(), cmap='gray')\n",
        "    ax.axis('off')\n",
        "\n",
        "plt.tight_layout()\n",
        "plt.show()"
      ]
    },
    {
      "cell_type": "code",
      "execution_count": 16,
      "metadata": {
        "id": "rinm4mT5v-58"
      },
      "outputs": [
        {
          "name": "stdout",
          "output_type": "stream",
          "text": [
            "Average NLL (nats per pixel): 0.17632228683160275\n",
            "Bits per dim: 0.2543792888101547\n"
          ]
        }
      ],
      "source": [
        "import math\n",
        "import torch\n",
        "import torch.nn as nn\n",
        "\n",
        "def compute_bits_per_dim(model, data_loader, device):\n",
        "    model.eval()\n",
        "    total_loss = 0.0\n",
        "    total_elements = 0\n",
        "    with torch.inference_mode():\n",
        "        for imgs, _ in data_loader:\n",
        "            imgs = imgs.to(device)\n",
        "            pixel_targets = torch.clamp((imgs * 4).long(), max=3)\n",
        "            batch_size = imgs.shape[0]\n",
        "            \n",
        "            num_pixels = imgs.shape[2] * imgs.shape[3]\n",
        "            mu, logvar, z, output = model(pixel_targets.float())\n",
        "            \n",
        "            loss = F.cross_entropy(output, pixel_targets.squeeze(1), reduction='sum')\n",
        "            total_loss += loss.item()\n",
        "            total_elements += batch_size * num_pixels\n",
        "\n",
        "    \n",
        "    average_nll = total_loss / total_elements\n",
        "    \n",
        "    bits_per_dim = average_nll / math.log(2)\n",
        "    return average_nll, bits_per_dim\n",
        "\n",
        "average_nll, bits_dim = compute_bits_per_dim(model, test_loader, device)\n",
        "print(f\"Average NLL (nats per pixel): {average_nll}\")\n",
        "print(f\"Bits per dim: {bits_dim}\")"
      ]
    }
  ],
  "metadata": {
    "accelerator": "GPU",
    "colab": {
      "gpuType": "T4",
      "provenance": []
    },
    "kernelspec": {
      "display_name": "Python 3",
      "name": "python3"
    },
    "language_info": {
      "codemirror_mode": {
        "name": "ipython",
        "version": 3
      },
      "file_extension": ".py",
      "mimetype": "text/x-python",
      "name": "python",
      "nbconvert_exporter": "python",
      "pygments_lexer": "ipython3",
      "version": "3.10.12"
    }
  },
  "nbformat": 4,
  "nbformat_minor": 0
}
